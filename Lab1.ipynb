{
 "cells": [
  {
   "cell_type": "markdown",
   "metadata": {},
   "source": [
    "Before you turn this problem in, make sure everything runs as expected. First, **restart the kernel** (in the menubar, select Kernel$\\rightarrow$Restart) and then **run all cells** (in the menubar, select Cell$\\rightarrow$Run All).\n",
    "\n",
    "Make sure you fill in any place that says `YOUR CODE HERE` or \"YOUR ANSWER HERE\", as well as your name and collaborators below:"
   ]
  },
  {
   "cell_type": "code",
   "execution_count": 1,
   "metadata": {},
   "outputs": [],
   "source": [
    "NAME = \"ROHITH KUMAR POSHALA\"\n",
    "COLLABORATORS = \"\""
   ]
  },
  {
   "cell_type": "markdown",
   "metadata": {},
   "source": [
    "---"
   ]
  },
  {
   "cell_type": "markdown",
   "metadata": {
    "deletable": false,
    "editable": false,
    "nbgrader": {
     "cell_type": "markdown",
     "checksum": "e4106d40b019b4ac6ec2824e1a5ee8ac",
     "grade": false,
     "grade_id": "cell-9df7e2e7ab7ef9e1",
     "locked": true,
     "schema_version": 3,
     "solution": false,
     "task": false
    }
   },
   "source": [
    "# Introduction \n",
    "This is the first of four labs that you will do in this course.  In this lab, you will parse a variant call format file (https://en.wikipedia.org/wiki/Variant_Call_Format). This file has one thousand variants in it. Each line after the header lines is a variant. Open the variant file and inspect its contents. You will parse each line and transform it into a JSON. The output will look something like this (I have shortened the output):\n",
    "```\n",
    "{\n",
    "        \"ALT\": \"G\",\n",
    "        \"CHROM\": \"4\",\n",
    "        \"FILTER\": \"PASS\",\n",
    "        \"ID\": \".\",\n",
    "        \"INFO\": {\n",
    "           \n",
    "            \"Gene.ensGene\": \"ENSG00000109471,ENSG00000138684\",\n",
    "            \"Gene.refGene\": \"IL2,IL21\",\n",
    "            \"GeneDetail.ensGene\": \"dist=38306,dist=117597\",\n",
    "            \"GeneDetail.refGene\": \"dist=38536,dist=117597\"\n",
    "        },\n",
    "        \"POS\": 123416186,\n",
    "        \"QUAL\" :23.25,\n",
    "        \"REF\": \"A\",\n",
    "        \"SAMPLE\": {\n",
    "            \"XG102\": {\n",
    "                \"AD\": \"51,8\",\n",
    "                \"DP\": \"59\",\n",
    "                \"GQ\": \"32\",\n",
    "                \"GT\": \"0/1\",\n",
    "                \"PL\": \"32,0,1388\"\n",
    "            }\n",
    "    }\n",
    "```\n",
    "The lab will guide you through writing small functions that will be used to generate the JSON above. Note that the method outlined in this lab is not necessarily optimal. It is just one way of parsing the file and teaching you how to break a large problem into small parts. \n",
    "\n",
    "Note that the header which corresponds to the columns starts with one hash/pound (#) symbol. Skip all headers that start with two hashes/pounds (##)."
   ]
  },
  {
   "cell_type": "markdown",
   "metadata": {
    "deletable": false,
    "editable": false,
    "nbgrader": {
     "cell_type": "markdown",
     "checksum": "ce83f09530bb50bd0664339e134cb125",
     "grade": false,
     "grade_id": "cell-4658421e92dff4f2",
     "locked": true,
     "schema_version": 3,
     "solution": false,
     "task": false
    }
   },
   "source": [
    "# Part 1 (3 points)\n",
    "Write a function whose input is a string. This function determines the data type of the input string. The data types can be a float, int, or string. "
   ]
  },
  {
   "cell_type": "code",
   "execution_count": 2,
   "metadata": {
    "deletable": false,
    "nbgrader": {
     "cell_type": "code",
     "checksum": "e15916c250fc4f500e1e9f0b1385272f",
     "grade": false,
     "grade_id": "cell-7536953b39603ff7",
     "locked": false,
     "schema_version": 3,
     "solution": true,
     "task": false
    }
   },
   "outputs": [],
   "source": [
    "def determine_data_type(value):\n",
    "    \"\"\"\n",
    "    The function takes a string input and determines its data type to be either a float, int, or string. \n",
    "    \"\"\"\n",
    "    # YOUR CODE HERE\n",
    "    try :\n",
    "        float_v = float(value)\n",
    "        try :\n",
    "            integer = int(value)\n",
    "            return type(integer)\n",
    "        except ValueError :\n",
    "            return type(float_v)\n",
    "    except ValueError :\n",
    "        return type(value)\n",
    "#     raise NotImplementedError()"
   ]
  },
  {
   "cell_type": "code",
   "execution_count": 3,
   "metadata": {
    "deletable": false,
    "editable": false,
    "nbgrader": {
     "cell_type": "code",
     "checksum": "f95073f49e7e8e52439c939bd31e8129",
     "grade": true,
     "grade_id": "cell-8bdcd76ce10fe976",
     "locked": true,
     "points": 3,
     "schema_version": 3,
     "solution": false,
     "task": false
    }
   },
   "outputs": [],
   "source": [
    "assert determine_data_type('1.2') == float\n",
    "assert determine_data_type('4') == int\n",
    "assert determine_data_type('EAS503') == str"
   ]
  },
  {
   "cell_type": "markdown",
   "metadata": {
    "deletable": false,
    "editable": false,
    "nbgrader": {
     "cell_type": "markdown",
     "checksum": "fa5d492eb354c3083630e482b7339092",
     "grade": false,
     "grade_id": "cell-f1432dc830625e58",
     "locked": true,
     "schema_version": 3,
     "solution": false,
     "task": false
    }
   },
   "source": [
    "# Part 2 (4 points)\n",
    "Write a function whose input is a list of strings.  This function determines the correct data type of all the elements in the list. For example, ['1', '2', '3'] is int, ['1.1', '2.2', '3.3'] is float, ['1.1', '2', '3.3'] is also float, and ['1.1', '234String', '3.3'] is str. The purpose of this function to figure out what to cast an array of strings to. Some lists might be all ints, in which case the data type is int. Some might be a mixure of ints and floats, in which case the data type will be float. Some lists might be a mixture of ints, floats, and strings, in which case the data type of the list will be string. "
   ]
  },
  {
   "cell_type": "code",
   "execution_count": 4,
   "metadata": {
    "deletable": false,
    "nbgrader": {
     "cell_type": "code",
     "checksum": "53eb1ec903ad1f85f8203bd346aed5cd",
     "grade": false,
     "grade_id": "cell-01c8b75300695862",
     "locked": false,
     "schema_version": 3,
     "solution": true,
     "task": false
    }
   },
   "outputs": [],
   "source": [
    "def determine_data_type_of_list(values):\n",
    "    \"\"\"\n",
    "    Function takes a list of strings and determines their data type. \n",
    "\n",
    "    \"\"\"\n",
    "    # YOUR CODE HERE\n",
    "    list_type = []\n",
    "    for i in values :\n",
    "        list_type.append(determine_data_type(i))\n",
    "    if str in list_type :\n",
    "        return str\n",
    "    elif float in list_type:\n",
    "        return float\n",
    "    else:\n",
    "        return int\n",
    "    raise NotImplementedError()"
   ]
  },
  {
   "cell_type": "code",
   "execution_count": 5,
   "metadata": {
    "deletable": false,
    "editable": false,
    "nbgrader": {
     "cell_type": "code",
     "checksum": "bd5a3d14b1c368af10b441283893a16a",
     "grade": true,
     "grade_id": "cell-bdd743a640489767",
     "locked": true,
     "points": 4,
     "schema_version": 3,
     "solution": false,
     "task": false
    }
   },
   "outputs": [],
   "source": [
    "assert determine_data_type_of_list(['1', '2', '3']) == int\n",
    "assert determine_data_type_of_list(['1.1', '2.2', '3.3']) == float\n",
    "assert determine_data_type_of_list(['1.1', '2', '3.3']) == float\n",
    "assert determine_data_type_of_list(['1.1', '234String', '3.3']) == str\n"
   ]
  },
  {
   "cell_type": "markdown",
   "metadata": {
    "deletable": false,
    "editable": false,
    "nbgrader": {
     "cell_type": "markdown",
     "checksum": "47cd6cf950ad4b37d7b4d64a6c7800d4",
     "grade": false,
     "grade_id": "cell-541bc83898a62981",
     "locked": true,
     "schema_version": 3,
     "solution": false,
     "task": false
    }
   },
   "source": [
    "# Part 3 (3 points)\n",
    "Write a function whose inputs a format field and a sample field. The format field looks like `format_field = 'GT:AD:DP:GQ:PGT:PID:PL'` and\n",
    "the sample field looks like\n",
    "\n",
    "```\n",
    "sample_field = {'XG102': '1/1:0,76:76:99:1|1:48306945_C_G:3353,229,0',\n",
    "             'XG103': '1/1:0,52:52:99:.:.:1517,156,0',\n",
    "             'XG104': '0/1:34,38:72:99:.:.:938,0,796',\n",
    "             'XG202': '1/1:0,76:76:99:1|1:48306945_C_G:3353,229,0',\n",
    "             'XG203': '1/1:0,52:52:99:.:.:1517,156,0',\n",
    "             'XG204': '0/1:34,38:72:99:.:.:938,0,796',\n",
    "             'XG302': '1/1:0,76:76:99:1|1:48306945_C_G:3353,229,0',\n",
    "             'XG303': '1/1:0,52:52:99:.:.:1517,156,0',\n",
    "             'XG304': '0/1:34,38:72:99:.:.:938,0,796',\n",
    "             'XG402': '1/1:0,76:76:99:1|1:48306945_C_G:3353,229,0',\n",
    "             'XG403': '1/1:0,52:52:99:.:.:1517,156,0',\n",
    "             'XG404': '0/1:34,38:72:99:.:.:938,0,796'}\n",
    "```\n",
    "Transform the inputs such that the output looks like this:\n",
    "```\n",
    "output = {'XG102': {'AD': '0,76',\n",
    "           'DP': '76',\n",
    "           'GQ': '99',\n",
    "           'GT': '1/1',\n",
    "           'PGT': '1|1',\n",
    "           'PID': '48306945_C_G',\n",
    "           'PL': '3353,229,0'},\n",
    " 'XG103': {'AD': '0,52',\n",
    "           'DP': '52',\n",
    "           'GQ': '99',\n",
    "           'GT': '1/1',\n",
    "           'PGT': '.',\n",
    "           'PID': '.',\n",
    "           'PL': '1517,156,0'},\n",
    " 'XG104': {'AD': '34,38',\n",
    "           'DP': '72',\n",
    "           'GQ': '99',\n",
    "           'GT': '0/1',\n",
    "           'PGT': '.',\n",
    "           'PID': '.',\n",
    "           'PL': '938,0,796'},\n",
    " 'XG202': {'AD': '0,76',\n",
    "           'DP': '76',\n",
    "           'GQ': '99',\n",
    "           'GT': '1/1',\n",
    "           'PGT': '1|1',\n",
    "           'PID': '48306945_C_G',\n",
    "           'PL': '3353,229,0'},\n",
    " 'XG203': {'AD': '0,52',\n",
    "           'DP': '52',\n",
    "           'GQ': '99',\n",
    "           'GT': '1/1',\n",
    "           'PGT': '.',\n",
    "           'PID': '.',\n",
    "           'PL': '1517,156,0'},\n",
    " 'XG204': {'AD': '34,38',\n",
    "           'DP': '72',\n",
    "           'GQ': '99',\n",
    "           'GT': '0/1',\n",
    "           'PGT': '.',\n",
    "           'PID': '.',\n",
    "           'PL': '938,0,796'},\n",
    " 'XG302': {'AD': '0,76',\n",
    "           'DP': '76',\n",
    "           'GQ': '99',\n",
    "           'GT': '1/1',\n",
    "           'PGT': '1|1',\n",
    "           'PID': '48306945_C_G',\n",
    "           'PL': '3353,229,0'},\n",
    " 'XG303': {'AD': '0,52',\n",
    "           'DP': '52',\n",
    "           'GQ': '99',\n",
    "           'GT': '1/1',\n",
    "           'PGT': '.',\n",
    "           'PID': '.',\n",
    "           'PL': '1517,156,0'},\n",
    " 'XG304': {'AD': '34,38',\n",
    "           'DP': '72',\n",
    "           'GQ': '99',\n",
    "           'GT': '0/1',\n",
    "           'PGT': '.',\n",
    "           'PID': '.',\n",
    "           'PL': '938,0,796'},\n",
    " 'XG402': {'AD': '0,76',\n",
    "           'DP': '76',\n",
    "           'GQ': '99',\n",
    "           'GT': '1/1',\n",
    "           'PGT': '1|1',\n",
    "           'PID': '48306945_C_G',\n",
    "           'PL': '3353,229,0'},\n",
    " 'XG403': {'AD': '0,52',\n",
    "           'DP': '52',\n",
    "           'GQ': '99',\n",
    "           'GT': '1/1',\n",
    "           'PGT': '.',\n",
    "           'PID': '.',\n",
    "           'PL': '1517,156,0'},\n",
    " 'XG404': {'AD': '34,38',\n",
    "           'DP': '72',\n",
    "           'GQ': '99',\n",
    "           'GT': '0/1',\n",
    "           'PGT': '.',\n",
    "           'PID': '.',\n",
    "           'PL': '938,0,796'}}\n",
    "```\n"
   ]
  },
  {
   "cell_type": "code",
   "execution_count": 6,
   "metadata": {
    "deletable": false,
    "nbgrader": {
     "cell_type": "code",
     "checksum": "b15fa304b432b818b2d0605eeb5baffc",
     "grade": false,
     "grade_id": "cell-37d43200ec3bf1ce",
     "locked": false,
     "schema_version": 3,
     "solution": true,
     "task": false
    }
   },
   "outputs": [],
   "source": [
    "format_field = \"GT:AD:DP:GQ:PGT:PID:PL\"\n",
    "sample_field = {'XG102': '1/1:0,76:76:99:1|1:48306945_C_G:3353,229,0',\n",
    "             'XG103': '1/1:0,52:52:99:.:.:1517,156,0',\n",
    "             'XG104': '0/1:34,38:72:99:.:.:938,0,796',\n",
    "             'XG202': '1/1:0,76:76:99:1|1:48306945_C_G:3353,229,0',\n",
    "             'XG203': '1/1:0,52:52:99:.:.:1517,156,0',\n",
    "             'XG204': '0/1:34,38:72:99:.:.:938,0,796',\n",
    "             'XG302': '1/1:0,76:76:99:1|1:48306945_C_G:3353,229,0',\n",
    "             'XG303': '1/1:0,52:52:99:.:.:1517,156,0',\n",
    "             'XG304': '0/1:34,38:72:99:.:.:938,0,796',\n",
    "             'XG402': '1/1:0,76:76:99:1|1:48306945_C_G:3353,229,0',\n",
    "             'XG403': '1/1:0,52:52:99:.:.:1517,156,0',\n",
    "             'XG404': '0/1:34,38:72:99:.:.:938,0,796'}\n",
    "\n",
    "\n",
    "def format_sample_fields(format_field, sample_field):\n",
    "    \"\"\"\n",
    "    Format the sample fields given the description above. Data is already provided.\n",
    "    \"\"\"\n",
    "    \n",
    "    # YOUR CODE HERE\n",
    "    list_format = format_field.split(\":\")\n",
    "    dic = {}\n",
    "    l_keys = [i for i in sample_field.keys()]\n",
    "    for i in range(len(l_keys)):\n",
    "        l_value = sample_field[l_keys[i]].split(\":\")\n",
    "        sub_dic = dict(zip(list_format,l_value))\n",
    "        dic.update({l_keys[i] : sub_dic}) \n",
    "    return dic\n",
    "    \n",
    "    raise NotImplementedError()"
   ]
  },
  {
   "cell_type": "code",
   "execution_count": 7,
   "metadata": {
    "deletable": false,
    "editable": false,
    "nbgrader": {
     "cell_type": "code",
     "checksum": "30d61211f004f371046104fcf67a2219",
     "grade": true,
     "grade_id": "cell-8921b8dc6a00fc1e",
     "locked": true,
     "points": 3,
     "schema_version": 3,
     "solution": false,
     "task": false
    }
   },
   "outputs": [],
   "source": [
    "solution = {'XG102': {'AD': '0,76',\n",
    "           'DP': '76',\n",
    "           'GQ': '99',\n",
    "           'GT': '1/1',\n",
    "           'PGT': '1|1',\n",
    "           'PID': '48306945_C_G',\n",
    "           'PL': '3353,229,0'},\n",
    " 'XG103': {'AD': '0,52',\n",
    "           'DP': '52',\n",
    "           'GQ': '99',\n",
    "           'GT': '1/1',\n",
    "           'PGT': '.',\n",
    "           'PID': '.',\n",
    "           'PL': '1517,156,0'},\n",
    " 'XG104': {'AD': '34,38',\n",
    "           'DP': '72',\n",
    "           'GQ': '99',\n",
    "           'GT': '0/1',\n",
    "           'PGT': '.',\n",
    "           'PID': '.',\n",
    "           'PL': '938,0,796'},\n",
    " 'XG202': {'AD': '0,76',\n",
    "           'DP': '76',\n",
    "           'GQ': '99',\n",
    "           'GT': '1/1',\n",
    "           'PGT': '1|1',\n",
    "           'PID': '48306945_C_G',\n",
    "           'PL': '3353,229,0'},\n",
    " 'XG203': {'AD': '0,52',\n",
    "           'DP': '52',\n",
    "           'GQ': '99',\n",
    "           'GT': '1/1',\n",
    "           'PGT': '.',\n",
    "           'PID': '.',\n",
    "           'PL': '1517,156,0'},\n",
    " 'XG204': {'AD': '34,38',\n",
    "           'DP': '72',\n",
    "           'GQ': '99',\n",
    "           'GT': '0/1',\n",
    "           'PGT': '.',\n",
    "           'PID': '.',\n",
    "           'PL': '938,0,796'},\n",
    " 'XG302': {'AD': '0,76',\n",
    "           'DP': '76',\n",
    "           'GQ': '99',\n",
    "           'GT': '1/1',\n",
    "           'PGT': '1|1',\n",
    "           'PID': '48306945_C_G',\n",
    "           'PL': '3353,229,0'},\n",
    " 'XG303': {'AD': '0,52',\n",
    "           'DP': '52',\n",
    "           'GQ': '99',\n",
    "           'GT': '1/1',\n",
    "           'PGT': '.',\n",
    "           'PID': '.',\n",
    "           'PL': '1517,156,0'},\n",
    " 'XG304': {'AD': '34,38',\n",
    "           'DP': '72',\n",
    "           'GQ': '99',\n",
    "           'GT': '0/1',\n",
    "           'PGT': '.',\n",
    "           'PID': '.',\n",
    "           'PL': '938,0,796'},\n",
    " 'XG402': {'AD': '0,76',\n",
    "           'DP': '76',\n",
    "           'GQ': '99',\n",
    "           'GT': '1/1',\n",
    "           'PGT': '1|1',\n",
    "           'PID': '48306945_C_G',\n",
    "           'PL': '3353,229,0'},\n",
    " 'XG403': {'AD': '0,52',\n",
    "           'DP': '52',\n",
    "           'GQ': '99',\n",
    "           'GT': '1/1',\n",
    "           'PGT': '.',\n",
    "           'PID': '.',\n",
    "           'PL': '1517,156,0'},\n",
    " 'XG404': {'AD': '34,38',\n",
    "           'DP': '72',\n",
    "           'GQ': '99',\n",
    "           'GT': '0/1',\n",
    "           'PGT': '.',\n",
    "           'PID': '.',\n",
    "           'PL': '938,0,796'}}\n",
    "\n",
    "format_field = \"GT:AD:DP:GQ:PGT:PID:PL\"\n",
    "sample_field = {'XG102': '1/1:0,76:76:99:1|1:48306945_C_G:3353,229,0',\n",
    "             'XG103': '1/1:0,52:52:99:.:.:1517,156,0',\n",
    "             'XG104': '0/1:34,38:72:99:.:.:938,0,796',\n",
    "             'XG202': '1/1:0,76:76:99:1|1:48306945_C_G:3353,229,0',\n",
    "             'XG203': '1/1:0,52:52:99:.:.:1517,156,0',\n",
    "             'XG204': '0/1:34,38:72:99:.:.:938,0,796',\n",
    "             'XG302': '1/1:0,76:76:99:1|1:48306945_C_G:3353,229,0',\n",
    "             'XG303': '1/1:0,52:52:99:.:.:1517,156,0',\n",
    "             'XG304': '0/1:34,38:72:99:.:.:938,0,796',\n",
    "             'XG402': '1/1:0,76:76:99:1|1:48306945_C_G:3353,229,0',\n",
    "             'XG403': '1/1:0,52:52:99:.:.:1517,156,0',\n",
    "             'XG404': '0/1:34,38:72:99:.:.:938,0,796'}\n",
    "\n",
    "format_output = format_sample_fields(format_field, sample_field)\n",
    "\n",
    "assert format_output['XG102'] == solution ['XG102']\n",
    "assert format_output['XG302'] == solution ['XG302']\n",
    "assert format_output['XG404'] == solution ['XG404']"
   ]
  },
  {
   "cell_type": "markdown",
   "metadata": {
    "deletable": false,
    "editable": false,
    "nbgrader": {
     "cell_type": "markdown",
     "checksum": "8b77980994a4f5e73cbaddc60a89ece2",
     "grade": false,
     "grade_id": "cell-4838cdb426d81c56",
     "locked": true,
     "schema_version": 3,
     "solution": false,
     "task": false
    }
   },
   "source": [
    "# Part 4 (10 points) \n",
    "Write a function whose inputs are a list containing the vcf header and a variant line.  The function should return a dictionary using the header as keys and the variant line as values. The function should use the `format_sample_fields` you wrote previously to format the sample fields. The output of the first line looks like this:\n",
    "```\n",
    "{'ALT': 'G',\n",
    " 'CHROM': '4',\n",
    " 'FILTER': 'PASS',\n",
    " 'ID': '.',\n",
    " 'INFO': 'AC=1;AF=0.167;AN=6;BaseQRankSum=-2.542;ClippingRankSum=0;DP=180;ExcessHet=3.0103;FS=0;MLEAC=1;MLEAF=0.167;MQ=52.77;MQRankSum=-4.631;QD=0.39;ReadPosRankSum=1.45;SOR=0.758;VQSLOD=-8.209;culprit=MQ;ANNOVAR_DATE=2018-04-16;Func.refGene=intergenic;Gene.refGene=IL2\\\\x3bIL21;GeneDetail.refGene=dist\\\\x3d38536\\\\x3bdist\\\\x3d117597;ExonicFunc.refGene=.;AAChange.refGene=.;Func.ensGene=intergenic;Gene.ensGene=ENSG00000109471\\\\x3bENSG00000138684;GeneDetail.ensGene=dist\\\\x3d38306\\\\x3bdist\\\\x3d117597;ExonicFunc.ensGene=.;AAChange.ensGene=.;cytoBand=4q27;gwasCatalog=.;tfbsConsSites=.;wgRna=.;targetScanS=.;Gene_symbol=.;OXPHOS_Complex=.;Ensembl_Gene_ID=.;Ensembl_Protein_ID=.;Uniprot_Name=.;Uniprot_ID=.;NCBI_Gene_ID=.;NCBI_Protein_ID=.;Gene_pos=.;AA_pos=.;AA_sub=.;Codon_sub=.;dbSNP_ID=.;PhyloP_46V=.;PhastCons_46V=.;PhyloP_100V=.;PhastCons_100V=.;SiteVar=.;PolyPhen2_prediction=.;PolyPhen2_score=.;SIFT_prediction=.;SIFT_score=.;FatHmm_prediction=.;FatHmm_score=.;PROVEAN_prediction=.;PROVEAN_score=.;MutAss_prediction=.;MutAss_score=.;EFIN_Swiss_Prot_Score=.;EFIN_Swiss_Prot_Prediction=.;EFIN_HumDiv_Score=.;EFIN_HumDiv_Prediction=.;CADD_score=.;CADD_Phred_score=.;CADD_prediction=.;Carol_prediction=.;Carol_score=.;Condel_score=.;Condel_pred=.;COVEC_WMV=.;COVEC_WMV_prediction=.;PolyPhen2_score_transf=.;PolyPhen2_pred_transf=.;SIFT_score_transf=.;SIFT_pred_transf=.;MutAss_score_transf=.;MutAss_pred_transf=.;Perc_coevo_Sites=.;Mean_MI_score=.;COSMIC_ID=.;Tumor_site=.;Examined_samples=.;Mutation_frequency=.;US=.;Status=.;Associated_disease=.;Presence_in_TD=.;Class_predicted=.;Prob_N=.;Prob_P=.;SIFT_score=.;SIFT_converted_rankscore=.;SIFT_pred=.;Polyphen2_HDIV_score=.;Polyphen2_HDIV_rankscore=.;Polyphen2_HDIV_pred=.;Polyphen2_HVAR_score=.;Polyphen2_HVAR_rankscore=.;Polyphen2_HVAR_pred=.;LRT_score=.;LRT_converted_rankscore=.;LRT_pred=.;MutationTaster_score=.;MutationTaster_converted_rankscore=.;MutationTaster_pred=.;MutationAssessor_score=.;MutationAssessor_score_rankscore=.;MutationAssessor_pred=.;FATHMM_score=.;FATHMM_converted_rankscore=.;FATHMM_pred=.;PROVEAN_score=.;PROVEAN_converted_rankscore=.;PROVEAN_pred=.;VEST3_score=.;VEST3_rankscore=.;MetaSVM_score=.;MetaSVM_rankscore=.;MetaSVM_pred=.;MetaLR_score=.;MetaLR_rankscore=.;MetaLR_pred=.;M-CAP_score=.;M-CAP_rankscore=.;M-CAP_pred=.;CADD_raw=.;CADD_raw_rankscore=.;CADD_phred=.;DANN_score=.;DANN_rankscore=.;fathmm-MKL_coding_score=.;fathmm-MKL_coding_rankscore=.;fathmm-MKL_coding_pred=.;Eigen_coding_or_noncoding=.;Eigen-raw=.;Eigen-PC-raw=.;GenoCanyon_score=.;GenoCanyon_score_rankscore=.;integrated_fitCons_score=.;integrated_fitCons_score_rankscore=.;integrated_confidence_value=.;GERP++_RS=.;GERP++_RS_rankscore=.;phyloP100way_vertebrate=.;phyloP100way_vertebrate_rankscore=.;phyloP20way_mammalian=.;phyloP20way_mammalian_rankscore=.;phastCons100way_vertebrate=.;phastCons100way_vertebrate_rankscore=.;phastCons20way_mammalian=.;phastCons20way_mammalian_rankscore=.;SiPhy_29way_logOdds=.;SiPhy_29way_logOdds_rankscore=.;Interpro_domain=.;GTEx_V6_gene=.;GTEx_V6_tissue=.;esp6500siv2_all=.;esp6500siv2_aa=.;esp6500siv2_ea=.;ExAC_ALL=.;ExAC_AFR=.;ExAC_AMR=.;ExAC_EAS=.;ExAC_FIN=.;ExAC_NFE=.;ExAC_OTH=.;ExAC_SAS=.;ExAC_nontcga_ALL=.;ExAC_nontcga_AFR=.;ExAC_nontcga_AMR=.;ExAC_nontcga_EAS=.;ExAC_nontcga_FIN=.;ExAC_nontcga_NFE=.;ExAC_nontcga_OTH=.;ExAC_nontcga_SAS=.;ExAC_nonpsych_ALL=.;ExAC_nonpsych_AFR=.;ExAC_nonpsych_AMR=.;ExAC_nonpsych_EAS=.;ExAC_nonpsych_FIN=.;ExAC_nonpsych_NFE=.;ExAC_nonpsych_OTH=.;ExAC_nonpsych_SAS=.;1000g2015aug_all=.;1000g2015aug_afr=.;1000g2015aug_amr=.;1000g2015aug_eur=.;1000g2015aug_sas=.;CLNALLELEID=.;CLNDN=.;CLNDISDB=.;CLNREVSTAT=.;CLNSIG=.;dbscSNV_ADA_SCORE=.;dbscSNV_RF_SCORE=.;snp138NonFlagged=.;avsnp150=.;CADD13_RawScore=0.015973;CADD13_PHRED=2.741;Eigen=-0.3239;REVEL=.;MCAP=.;Interpro_domain=.;ICGC_Id=.;ICGC_Occurrence=.;gnomAD_genome_ALL=0.0003;gnomAD_genome_AFR=0.0001;gnomAD_genome_AMR=0;gnomAD_genome_ASJ=0;gnomAD_genome_EAS=0.0007;gnomAD_genome_FIN=0.0009;gnomAD_genome_NFE=0.0002;gnomAD_genome_OTH=0.0011;gerp++gt2=.;cosmic70=.;InterVar_automated=.;PVS1=.;PS1=.;PS2=.;PS3=.;PS4=.;PM1=.;PM2=.;PM3=.;PM4=.;PM5=.;PM6=.;PP1=.;PP2=.;PP3=.;PP4=.;PP5=.;BA1=.;BS1=.;BS2=.;BS3=.;BS4=.;BP1=.;BP2=.;BP3=.;BP4=.;BP5=.;BP6=.;BP7=.;Kaviar_AF=.;Kaviar_AC=.;Kaviar_AN=.;ALLELE_END',\n",
    " 'POS': '123416186',\n",
    " 'QUAL': '23.25',\n",
    " 'REF': 'A',\n",
    " 'SAMPLE': {'XG102': {'AD': '51,8',\n",
    "            'DP': '59',\n",
    "            'GQ': '32',\n",
    "            'GT': '0/1',\n",
    "            'PL': '32,0,1388'},\n",
    "       'XG103': {'AD': '47,0',\n",
    "            'DP': '47',\n",
    "            'GQ': '99',\n",
    "            'GT': '0/0',\n",
    "            'PL': '0,114,1353'},\n",
    "       'XG104': {'AD': '74,0',\n",
    "            'DP': '74',\n",
    "            'GQ': '51',\n",
    "            'GT': '0/0',\n",
    "            'PL': '0,51,1827'},\n",
    "       'XG202': {'AD': '51,8',\n",
    "            'DP': '59',\n",
    "            'GQ': '32',\n",
    "            'GT': '0/1',\n",
    "            'PL': '32,0,1388'},\n",
    "       'XG203': {'AD': '47,0',\n",
    "            'DP': '47',\n",
    "            'GQ': '99',\n",
    "            'GT': '0/0',\n",
    "            'PL': '0,114,1353'},\n",
    "       'XG204': {'AD': '74,0',\n",
    "            'DP': '74',\n",
    "            'GQ': '51',\n",
    "            'GT': '0/0',\n",
    "            'PL': '0,51,1827'},\n",
    "       'XG302': {'AD': '51,8',\n",
    "            'DP': '59',\n",
    "            'GQ': '32',\n",
    "            'GT': '0/1',\n",
    "            'PL': '32,0,1388'},\n",
    "       'XG303': {'AD': '47,0',\n",
    "            'DP': '47',\n",
    "            'GQ': '99',\n",
    "            'GT': '0/0',\n",
    "            'PL': '0,114,1353'},\n",
    "       'XG304': {'AD': '74,0',\n",
    "            'DP': '74',\n",
    "            'GQ': '51',\n",
    "            'GT': '0/0',\n",
    "            'PL': '0,51,1827'},\n",
    "       'XG402': {'AD': '51,8',\n",
    "            'DP': '59',\n",
    "            'GQ': '32',\n",
    "            'GT': '0/1',\n",
    "            'PL': '32,0,1388'},\n",
    "       'XG403': {'AD': '47,0',\n",
    "            'DP': '47',\n",
    "            'GQ': '99',\n",
    "            'GT': '0/0',\n",
    "            'PL': '0,114,1353'},\n",
    "       'XG404': {'AD': '74,0',\n",
    "            'DP': '74',\n",
    "            'GQ': '51',\n",
    "            'GT': '0/0',\n",
    "            'PL': '0,51,1827'}}}\n",
    "            \n",
    "```\n",
    "\n"
   ]
  },
  {
   "cell_type": "code",
   "execution_count": 8,
   "metadata": {
    "deletable": false,
    "nbgrader": {
     "cell_type": "code",
     "checksum": "63f63c7c8c9d9c0202b2abab7a2929b8",
     "grade": false,
     "grade_id": "cell-ef485e9fef686123",
     "locked": false,
     "schema_version": 3,
     "solution": true,
     "task": false
    }
   },
   "outputs": [],
   "source": [
    "header = \"CHROM\tPOS\tID\tREF\tALT\tQUAL\tFILTER\tINFO\tFORMAT\tXG102\tXG103\tXG104\tXG202\tXG203\tXG204\tXG302\tXG303\tXG304\tXG402\tXG403\tXG404\".split('\\t')\n",
    "line = \"\"\"4\t123416186\t.\tA\tG\t23.25\tPASS\tAC=1;AF=0.167;AN=6;BaseQRankSum=-2.542;ClippingRankSum=0;DP=180;ExcessHet=3.0103;FS=0;MLEAC=1;MLEAF=0.167;MQ=52.77;MQRankSum=-4.631;QD=0.39;ReadPosRankSum=1.45;SOR=0.758;VQSLOD=-8.209;culprit=MQ;ANNOVAR_DATE=2018-04-16;Func.refGene=intergenic;Gene.refGene=IL2\\x3bIL21;GeneDetail.refGene=dist\\x3d38536\\x3bdist\\x3d117597;ExonicFunc.refGene=.;AAChange.refGene=.;Func.ensGene=intergenic;Gene.ensGene=ENSG00000109471\\x3bENSG00000138684;GeneDetail.ensGene=dist\\x3d38306\\x3bdist\\x3d117597;ExonicFunc.ensGene=.;AAChange.ensGene=.;cytoBand=4q27;gwasCatalog=.;tfbsConsSites=.;wgRna=.;targetScanS=.;Gene_symbol=.;OXPHOS_Complex=.;Ensembl_Gene_ID=.;Ensembl_Protein_ID=.;Uniprot_Name=.;Uniprot_ID=.;NCBI_Gene_ID=.;NCBI_Protein_ID=.;Gene_pos=.;AA_pos=.;AA_sub=.;Codon_sub=.;dbSNP_ID=.;PhyloP_46V=.;PhastCons_46V=.;PhyloP_100V=.;PhastCons_100V=.;SiteVar=.;PolyPhen2_prediction=.;PolyPhen2_score=.;SIFT_prediction=.;SIFT_score=.;FatHmm_prediction=.;FatHmm_score=.;PROVEAN_prediction=.;PROVEAN_score=.;MutAss_prediction=.;MutAss_score=.;EFIN_Swiss_Prot_Score=.;EFIN_Swiss_Prot_Prediction=.;EFIN_HumDiv_Score=.;EFIN_HumDiv_Prediction=.;CADD_score=.;CADD_Phred_score=.;CADD_prediction=.;Carol_prediction=.;Carol_score=.;Condel_score=.;Condel_pred=.;COVEC_WMV=.;COVEC_WMV_prediction=.;PolyPhen2_score_transf=.;PolyPhen2_pred_transf=.;SIFT_score_transf=.;SIFT_pred_transf=.;MutAss_score_transf=.;MutAss_pred_transf=.;Perc_coevo_Sites=.;Mean_MI_score=.;COSMIC_ID=.;Tumor_site=.;Examined_samples=.;Mutation_frequency=.;US=.;Status=.;Associated_disease=.;Presence_in_TD=.;Class_predicted=.;Prob_N=.;Prob_P=.;SIFT_score=.;SIFT_converted_rankscore=.;SIFT_pred=.;Polyphen2_HDIV_score=.;Polyphen2_HDIV_rankscore=.;Polyphen2_HDIV_pred=.;Polyphen2_HVAR_score=.;Polyphen2_HVAR_rankscore=.;Polyphen2_HVAR_pred=.;LRT_score=.;LRT_converted_rankscore=.;LRT_pred=.;MutationTaster_score=.;MutationTaster_converted_rankscore=.;MutationTaster_pred=.;MutationAssessor_score=.;MutationAssessor_score_rankscore=.;MutationAssessor_pred=.;FATHMM_score=.;FATHMM_converted_rankscore=.;FATHMM_pred=.;PROVEAN_score=.;PROVEAN_converted_rankscore=.;PROVEAN_pred=.;VEST3_score=.;VEST3_rankscore=.;MetaSVM_score=.;MetaSVM_rankscore=.;MetaSVM_pred=.;MetaLR_score=.;MetaLR_rankscore=.;MetaLR_pred=.;M-CAP_score=.;M-CAP_rankscore=.;M-CAP_pred=.;CADD_raw=.;CADD_raw_rankscore=.;CADD_phred=.;DANN_score=.;DANN_rankscore=.;fathmm-MKL_coding_score=.;fathmm-MKL_coding_rankscore=.;fathmm-MKL_coding_pred=.;Eigen_coding_or_noncoding=.;Eigen-raw=.;Eigen-PC-raw=.;GenoCanyon_score=.;GenoCanyon_score_rankscore=.;integrated_fitCons_score=.;integrated_fitCons_score_rankscore=.;integrated_confidence_value=.;GERP++_RS=.;GERP++_RS_rankscore=.;phyloP100way_vertebrate=.;phyloP100way_vertebrate_rankscore=.;phyloP20way_mammalian=.;phyloP20way_mammalian_rankscore=.;phastCons100way_vertebrate=.;phastCons100way_vertebrate_rankscore=.;phastCons20way_mammalian=.;phastCons20way_mammalian_rankscore=.;SiPhy_29way_logOdds=.;SiPhy_29way_logOdds_rankscore=.;Interpro_domain=.;GTEx_V6_gene=.;GTEx_V6_tissue=.;esp6500siv2_all=.;esp6500siv2_aa=.;esp6500siv2_ea=.;ExAC_ALL=.;ExAC_AFR=.;ExAC_AMR=.;ExAC_EAS=.;ExAC_FIN=.;ExAC_NFE=.;ExAC_OTH=.;ExAC_SAS=.;ExAC_nontcga_ALL=.;ExAC_nontcga_AFR=.;ExAC_nontcga_AMR=.;ExAC_nontcga_EAS=.;ExAC_nontcga_FIN=.;ExAC_nontcga_NFE=.;ExAC_nontcga_OTH=.;ExAC_nontcga_SAS=.;ExAC_nonpsych_ALL=.;ExAC_nonpsych_AFR=.;ExAC_nonpsych_AMR=.;ExAC_nonpsych_EAS=.;ExAC_nonpsych_FIN=.;ExAC_nonpsych_NFE=.;ExAC_nonpsych_OTH=.;ExAC_nonpsych_SAS=.;1000g2015aug_all=.;1000g2015aug_afr=.;1000g2015aug_amr=.;1000g2015aug_eur=.;1000g2015aug_sas=.;CLNALLELEID=.;CLNDN=.;CLNDISDB=.;CLNREVSTAT=.;CLNSIG=.;dbscSNV_ADA_SCORE=.;dbscSNV_RF_SCORE=.;snp138NonFlagged=.;avsnp150=.;CADD13_RawScore=0.015973;CADD13_PHRED=2.741;Eigen=-0.3239;REVEL=.;MCAP=.;Interpro_domain=.;ICGC_Id=.;ICGC_Occurrence=.;gnomAD_genome_ALL=0.0003;gnomAD_genome_AFR=0.0001;gnomAD_genome_AMR=0;gnomAD_genome_ASJ=0;gnomAD_genome_EAS=0.0007;gnomAD_genome_FIN=0.0009;gnomAD_genome_NFE=0.0002;gnomAD_genome_OTH=0.0011;gerp++gt2=.;cosmic70=.;InterVar_automated=.;PVS1=.;PS1=.;PS2=.;PS3=.;PS4=.;PM1=.;PM2=.;PM3=.;PM4=.;PM5=.;PM6=.;PP1=.;PP2=.;PP3=.;PP4=.;PP5=.;BA1=.;BS1=.;BS2=.;BS3=.;BS4=.;BP1=.;BP2=.;BP3=.;BP4=.;BP5=.;BP6=.;BP7=.;Kaviar_AF=.;Kaviar_AC=.;Kaviar_AN=.;ALLELE_END\tGT:AD:DP:GQ:PL\t0/1:51,8:59:32:32,0,1388\t0/0:47,0:47:99:0,114,1353\t0/0:74,0:74:51:0,51,1827\t0/1:51,8:59:32:32,0,1388\t0/0:47,0:47:99:0,114,1353\t0/0:74,0:74:51:0,51,1827\t0/1:51,8:59:32:32,0,1388\t0/0:47,0:47:99:0,114,1353\t0/0:74,0:74:51:0,51,1827\t0/1:51,8:59:32:32,0,1388\t0/0:47,0:47:99:0,114,1353\t0/0:74,0:74:51:0,51,1827\"\"\"\n",
    "\n",
    "def create_dict_from_line(header, line):\n",
    "    \"\"\"\n",
    "    Given the header and a single line, transform them into dictionary as described above. \n",
    "    Header and line input are provided in this cell. \n",
    "    \"\"\"\n",
    "    # YOUR CODE HERE\n",
    "    l = line.split(\"\\t\")\n",
    "    dic = dict(zip(header,l))\n",
    "    l_keys = [i for i in dic.keys()]\n",
    "    w = 'FORMAT'\n",
    "    f = dic[w]\n",
    "    del dic[w]\n",
    "    xg = [i for i in l_keys if 'XG' in i]\n",
    "    s = dict()\n",
    "    for i in xg:\n",
    "        s.update({i:dic[i]})\n",
    "        del dic[i]\n",
    "    e = format_sample_fields(f,s)\n",
    "    dic.update({'SAMPLE': e})\n",
    "    return dic\n",
    "    raise NotImplementedError()\n"
   ]
  },
  {
   "cell_type": "code",
   "execution_count": 9,
   "metadata": {
    "deletable": false,
    "editable": false,
    "nbgrader": {
     "cell_type": "code",
     "checksum": "31244aacfe08b0b516d1b50eb0a7ea47",
     "grade": true,
     "grade_id": "cell-c93620ba58288173",
     "locked": true,
     "points": 10,
     "schema_version": 3,
     "solution": false,
     "task": false
    }
   },
   "outputs": [],
   "source": [
    "solution = {'INFO': 'AC=1;AF=0.167;AN=6;BaseQRankSum=-2.542;ClippingRankSum=0;DP=180;ExcessHet=3.0103;FS=0;MLEAC=1;MLEAF=0.167;MQ=52.77;MQRankSum=-4.631;QD=0.39;ReadPosRankSum=1.45;SOR=0.758;VQSLOD=-8.209;culprit=MQ;ANNOVAR_DATE=2018-04-16;Func.refGene=intergenic;Gene.refGene=IL2;IL21;GeneDetail.refGene=dist=38536;dist=117597;ExonicFunc.refGene=.;AAChange.refGene=.;Func.ensGene=intergenic;Gene.ensGene=ENSG00000109471;ENSG00000138684;GeneDetail.ensGene=dist=38306;dist=117597;ExonicFunc.ensGene=.;AAChange.ensGene=.;cytoBand=4q27;gwasCatalog=.;tfbsConsSites=.;wgRna=.;targetScanS=.;Gene_symbol=.;OXPHOS_Complex=.;Ensembl_Gene_ID=.;Ensembl_Protein_ID=.;Uniprot_Name=.;Uniprot_ID=.;NCBI_Gene_ID=.;NCBI_Protein_ID=.;Gene_pos=.;AA_pos=.;AA_sub=.;Codon_sub=.;dbSNP_ID=.;PhyloP_46V=.;PhastCons_46V=.;PhyloP_100V=.;PhastCons_100V=.;SiteVar=.;PolyPhen2_prediction=.;PolyPhen2_score=.;SIFT_prediction=.;SIFT_score=.;FatHmm_prediction=.;FatHmm_score=.;PROVEAN_prediction=.;PROVEAN_score=.;MutAss_prediction=.;MutAss_score=.;EFIN_Swiss_Prot_Score=.;EFIN_Swiss_Prot_Prediction=.;EFIN_HumDiv_Score=.;EFIN_HumDiv_Prediction=.;CADD_score=.;CADD_Phred_score=.;CADD_prediction=.;Carol_prediction=.;Carol_score=.;Condel_score=.;Condel_pred=.;COVEC_WMV=.;COVEC_WMV_prediction=.;PolyPhen2_score_transf=.;PolyPhen2_pred_transf=.;SIFT_score_transf=.;SIFT_pred_transf=.;MutAss_score_transf=.;MutAss_pred_transf=.;Perc_coevo_Sites=.;Mean_MI_score=.;COSMIC_ID=.;Tumor_site=.;Examined_samples=.;Mutation_frequency=.;US=.;Status=.;Associated_disease=.;Presence_in_TD=.;Class_predicted=.;Prob_N=.;Prob_P=.;SIFT_score=.;SIFT_converted_rankscore=.;SIFT_pred=.;Polyphen2_HDIV_score=.;Polyphen2_HDIV_rankscore=.;Polyphen2_HDIV_pred=.;Polyphen2_HVAR_score=.;Polyphen2_HVAR_rankscore=.;Polyphen2_HVAR_pred=.;LRT_score=.;LRT_converted_rankscore=.;LRT_pred=.;MutationTaster_score=.;MutationTaster_converted_rankscore=.;MutationTaster_pred=.;MutationAssessor_score=.;MutationAssessor_score_rankscore=.;MutationAssessor_pred=.;FATHMM_score=.;FATHMM_converted_rankscore=.;FATHMM_pred=.;PROVEAN_score=.;PROVEAN_converted_rankscore=.;PROVEAN_pred=.;VEST3_score=.;VEST3_rankscore=.;MetaSVM_score=.;MetaSVM_rankscore=.;MetaSVM_pred=.;MetaLR_score=.;MetaLR_rankscore=.;MetaLR_pred=.;M-CAP_score=.;M-CAP_rankscore=.;M-CAP_pred=.;CADD_raw=.;CADD_raw_rankscore=.;CADD_phred=.;DANN_score=.;DANN_rankscore=.;fathmm-MKL_coding_score=.;fathmm-MKL_coding_rankscore=.;fathmm-MKL_coding_pred=.;Eigen_coding_or_noncoding=.;Eigen-raw=.;Eigen-PC-raw=.;GenoCanyon_score=.;GenoCanyon_score_rankscore=.;integrated_fitCons_score=.;integrated_fitCons_score_rankscore=.;integrated_confidence_value=.;GERP++_RS=.;GERP++_RS_rankscore=.;phyloP100way_vertebrate=.;phyloP100way_vertebrate_rankscore=.;phyloP20way_mammalian=.;phyloP20way_mammalian_rankscore=.;phastCons100way_vertebrate=.;phastCons100way_vertebrate_rankscore=.;phastCons20way_mammalian=.;phastCons20way_mammalian_rankscore=.;SiPhy_29way_logOdds=.;SiPhy_29way_logOdds_rankscore=.;Interpro_domain=.;GTEx_V6_gene=.;GTEx_V6_tissue=.;esp6500siv2_all=.;esp6500siv2_aa=.;esp6500siv2_ea=.;ExAC_ALL=.;ExAC_AFR=.;ExAC_AMR=.;ExAC_EAS=.;ExAC_FIN=.;ExAC_NFE=.;ExAC_OTH=.;ExAC_SAS=.;ExAC_nontcga_ALL=.;ExAC_nontcga_AFR=.;ExAC_nontcga_AMR=.;ExAC_nontcga_EAS=.;ExAC_nontcga_FIN=.;ExAC_nontcga_NFE=.;ExAC_nontcga_OTH=.;ExAC_nontcga_SAS=.;ExAC_nonpsych_ALL=.;ExAC_nonpsych_AFR=.;ExAC_nonpsych_AMR=.;ExAC_nonpsych_EAS=.;ExAC_nonpsych_FIN=.;ExAC_nonpsych_NFE=.;ExAC_nonpsych_OTH=.;ExAC_nonpsych_SAS=.;1000g2015aug_all=.;1000g2015aug_afr=.;1000g2015aug_amr=.;1000g2015aug_eur=.;1000g2015aug_sas=.;CLNALLELEID=.;CLNDN=.;CLNDISDB=.;CLNREVSTAT=.;CLNSIG=.;dbscSNV_ADA_SCORE=.;dbscSNV_RF_SCORE=.;snp138NonFlagged=.;avsnp150=.;CADD13_RawScore=0.015973;CADD13_PHRED=2.741;Eigen=-0.3239;REVEL=.;MCAP=.;Interpro_domain=.;ICGC_Id=.;ICGC_Occurrence=.;gnomAD_genome_ALL=0.0003;gnomAD_genome_AFR=0.0001;gnomAD_genome_AMR=0;gnomAD_genome_ASJ=0;gnomAD_genome_EAS=0.0007;gnomAD_genome_FIN=0.0009;gnomAD_genome_NFE=0.0002;gnomAD_genome_OTH=0.0011;gerp++gt2=.;cosmic70=.;InterVar_automated=.;PVS1=.;PS1=.;PS2=.;PS3=.;PS4=.;PM1=.;PM2=.;PM3=.;PM4=.;PM5=.;PM6=.;PP1=.;PP2=.;PP3=.;PP4=.;PP5=.;BA1=.;BS1=.;BS2=.;BS3=.;BS4=.;BP1=.;BP2=.;BP3=.;BP4=.;BP5=.;BP6=.;BP7=.;Kaviar_AF=.;Kaviar_AC=.;Kaviar_AN=.;ALLELE_END', 'SAMPLE': {'XG404': {'GT': '0/0', 'GQ': '51', 'AD': '74,0', 'DP': '74', 'PL': '0,51,1827'}, 'XG402': {'GT': '0/1', 'GQ': '32', 'AD': '51,8', 'DP': '59', 'PL': '32,0,1388'}, 'XG403': {'GT': '0/0', 'GQ': '99', 'AD': '47,0', 'DP': '47', 'PL': '0,114,1353'}, 'XG303': {'GT': '0/0', 'GQ': '99', 'AD': '47,0', 'DP': '47', 'PL': '0,114,1353'}, 'XG302': {'GT': '0/1', 'GQ': '32', 'AD': '51,8', 'DP': '59', 'PL': '32,0,1388'}, 'XG304': {'GT': '0/0', 'GQ': '51', 'AD': '74,0', 'DP': '74', 'PL': '0,51,1827'}, 'XG202': {'GT': '0/1', 'GQ': '32', 'AD': '51,8', 'DP': '59', 'PL': '32,0,1388'}, 'XG203': {'GT': '0/0', 'GQ': '99', 'AD': '47,0', 'DP': '47', 'PL': '0,114,1353'}, 'XG204': {'GT': '0/0', 'GQ': '51', 'AD': '74,0', 'DP': '74', 'PL': '0,51,1827'}, 'XG103': {'GT': '0/0', 'GQ': '99', 'AD': '47,0', 'DP': '47', 'PL': '0,114,1353'}, 'XG102': {'GT': '0/1', 'GQ': '32', 'AD': '51,8', 'DP': '59', 'PL': '32,0,1388'}, 'XG104': {'GT': '0/0', 'GQ': '51', 'AD': '74,0', 'DP': '74', 'PL': '0,51,1827'}}, 'CHROM': '4', 'POS': '123416186', 'FILTER': 'PASS', 'QUAL': '23.25', 'ALT': 'G', 'REF': 'A', 'ID': '.'}\n",
    "header = \"CHROM\tPOS\tID\tREF\tALT\tQUAL\tFILTER\tINFO\tFORMAT\tXG102\tXG103\tXG104\tXG202\tXG203\tXG204\tXG302\tXG303\tXG304\tXG402\tXG403\tXG404\".split('\\t')\n",
    "line = \"\"\"4\t123416186\t.\tA\tG\t23.25\tPASS\tAC=1;AF=0.167;AN=6;BaseQRankSum=-2.542;ClippingRankSum=0;DP=180;ExcessHet=3.0103;FS=0;MLEAC=1;MLEAF=0.167;MQ=52.77;MQRankSum=-4.631;QD=0.39;ReadPosRankSum=1.45;SOR=0.758;VQSLOD=-8.209;culprit=MQ;ANNOVAR_DATE=2018-04-16;Func.refGene=intergenic;Gene.refGene=IL2\\x3bIL21;GeneDetail.refGene=dist\\x3d38536\\x3bdist\\x3d117597;ExonicFunc.refGene=.;AAChange.refGene=.;Func.ensGene=intergenic;Gene.ensGene=ENSG00000109471\\x3bENSG00000138684;GeneDetail.ensGene=dist\\x3d38306\\x3bdist\\x3d117597;ExonicFunc.ensGene=.;AAChange.ensGene=.;cytoBand=4q27;gwasCatalog=.;tfbsConsSites=.;wgRna=.;targetScanS=.;Gene_symbol=.;OXPHOS_Complex=.;Ensembl_Gene_ID=.;Ensembl_Protein_ID=.;Uniprot_Name=.;Uniprot_ID=.;NCBI_Gene_ID=.;NCBI_Protein_ID=.;Gene_pos=.;AA_pos=.;AA_sub=.;Codon_sub=.;dbSNP_ID=.;PhyloP_46V=.;PhastCons_46V=.;PhyloP_100V=.;PhastCons_100V=.;SiteVar=.;PolyPhen2_prediction=.;PolyPhen2_score=.;SIFT_prediction=.;SIFT_score=.;FatHmm_prediction=.;FatHmm_score=.;PROVEAN_prediction=.;PROVEAN_score=.;MutAss_prediction=.;MutAss_score=.;EFIN_Swiss_Prot_Score=.;EFIN_Swiss_Prot_Prediction=.;EFIN_HumDiv_Score=.;EFIN_HumDiv_Prediction=.;CADD_score=.;CADD_Phred_score=.;CADD_prediction=.;Carol_prediction=.;Carol_score=.;Condel_score=.;Condel_pred=.;COVEC_WMV=.;COVEC_WMV_prediction=.;PolyPhen2_score_transf=.;PolyPhen2_pred_transf=.;SIFT_score_transf=.;SIFT_pred_transf=.;MutAss_score_transf=.;MutAss_pred_transf=.;Perc_coevo_Sites=.;Mean_MI_score=.;COSMIC_ID=.;Tumor_site=.;Examined_samples=.;Mutation_frequency=.;US=.;Status=.;Associated_disease=.;Presence_in_TD=.;Class_predicted=.;Prob_N=.;Prob_P=.;SIFT_score=.;SIFT_converted_rankscore=.;SIFT_pred=.;Polyphen2_HDIV_score=.;Polyphen2_HDIV_rankscore=.;Polyphen2_HDIV_pred=.;Polyphen2_HVAR_score=.;Polyphen2_HVAR_rankscore=.;Polyphen2_HVAR_pred=.;LRT_score=.;LRT_converted_rankscore=.;LRT_pred=.;MutationTaster_score=.;MutationTaster_converted_rankscore=.;MutationTaster_pred=.;MutationAssessor_score=.;MutationAssessor_score_rankscore=.;MutationAssessor_pred=.;FATHMM_score=.;FATHMM_converted_rankscore=.;FATHMM_pred=.;PROVEAN_score=.;PROVEAN_converted_rankscore=.;PROVEAN_pred=.;VEST3_score=.;VEST3_rankscore=.;MetaSVM_score=.;MetaSVM_rankscore=.;MetaSVM_pred=.;MetaLR_score=.;MetaLR_rankscore=.;MetaLR_pred=.;M-CAP_score=.;M-CAP_rankscore=.;M-CAP_pred=.;CADD_raw=.;CADD_raw_rankscore=.;CADD_phred=.;DANN_score=.;DANN_rankscore=.;fathmm-MKL_coding_score=.;fathmm-MKL_coding_rankscore=.;fathmm-MKL_coding_pred=.;Eigen_coding_or_noncoding=.;Eigen-raw=.;Eigen-PC-raw=.;GenoCanyon_score=.;GenoCanyon_score_rankscore=.;integrated_fitCons_score=.;integrated_fitCons_score_rankscore=.;integrated_confidence_value=.;GERP++_RS=.;GERP++_RS_rankscore=.;phyloP100way_vertebrate=.;phyloP100way_vertebrate_rankscore=.;phyloP20way_mammalian=.;phyloP20way_mammalian_rankscore=.;phastCons100way_vertebrate=.;phastCons100way_vertebrate_rankscore=.;phastCons20way_mammalian=.;phastCons20way_mammalian_rankscore=.;SiPhy_29way_logOdds=.;SiPhy_29way_logOdds_rankscore=.;Interpro_domain=.;GTEx_V6_gene=.;GTEx_V6_tissue=.;esp6500siv2_all=.;esp6500siv2_aa=.;esp6500siv2_ea=.;ExAC_ALL=.;ExAC_AFR=.;ExAC_AMR=.;ExAC_EAS=.;ExAC_FIN=.;ExAC_NFE=.;ExAC_OTH=.;ExAC_SAS=.;ExAC_nontcga_ALL=.;ExAC_nontcga_AFR=.;ExAC_nontcga_AMR=.;ExAC_nontcga_EAS=.;ExAC_nontcga_FIN=.;ExAC_nontcga_NFE=.;ExAC_nontcga_OTH=.;ExAC_nontcga_SAS=.;ExAC_nonpsych_ALL=.;ExAC_nonpsych_AFR=.;ExAC_nonpsych_AMR=.;ExAC_nonpsych_EAS=.;ExAC_nonpsych_FIN=.;ExAC_nonpsych_NFE=.;ExAC_nonpsych_OTH=.;ExAC_nonpsych_SAS=.;1000g2015aug_all=.;1000g2015aug_afr=.;1000g2015aug_amr=.;1000g2015aug_eur=.;1000g2015aug_sas=.;CLNALLELEID=.;CLNDN=.;CLNDISDB=.;CLNREVSTAT=.;CLNSIG=.;dbscSNV_ADA_SCORE=.;dbscSNV_RF_SCORE=.;snp138NonFlagged=.;avsnp150=.;CADD13_RawScore=0.015973;CADD13_PHRED=2.741;Eigen=-0.3239;REVEL=.;MCAP=.;Interpro_domain=.;ICGC_Id=.;ICGC_Occurrence=.;gnomAD_genome_ALL=0.0003;gnomAD_genome_AFR=0.0001;gnomAD_genome_AMR=0;gnomAD_genome_ASJ=0;gnomAD_genome_EAS=0.0007;gnomAD_genome_FIN=0.0009;gnomAD_genome_NFE=0.0002;gnomAD_genome_OTH=0.0011;gerp++gt2=.;cosmic70=.;InterVar_automated=.;PVS1=.;PS1=.;PS2=.;PS3=.;PS4=.;PM1=.;PM2=.;PM3=.;PM4=.;PM5=.;PM6=.;PP1=.;PP2=.;PP3=.;PP4=.;PP5=.;BA1=.;BS1=.;BS2=.;BS3=.;BS4=.;BP1=.;BP2=.;BP3=.;BP4=.;BP5=.;BP6=.;BP7=.;Kaviar_AF=.;Kaviar_AC=.;Kaviar_AN=.;ALLELE_END\tGT:AD:DP:GQ:PL\t0/1:51,8:59:32:32,0,1388\t0/0:47,0:47:99:0,114,1353\t0/0:74,0:74:51:0,51,1827\t0/1:51,8:59:32:32,0,1388\t0/0:47,0:47:99:0,114,1353\t0/0:74,0:74:51:0,51,1827\t0/1:51,8:59:32:32,0,1388\t0/0:47,0:47:99:0,114,1353\t0/0:74,0:74:51:0,51,1827\t0/1:51,8:59:32:32,0,1388\t0/0:47,0:47:99:0,114,1353\t0/0:74,0:74:51:0,51,1827\"\"\"\n",
    "\n",
    "\n",
    "assert create_dict_from_line(header, line) == solution"
   ]
  },
  {
   "cell_type": "markdown",
   "metadata": {},
   "source": [
    "# Part 5 (10 points)\n",
    "Write a function whose input is a filename for a vcf. The function reads the vcf file one variant at a time and transforms it into a dictionary using the create_dict_from_line function. It returns a list containing all the variant dictionaries. "
   ]
  },
  {
   "cell_type": "code",
   "execution_count": 10,
   "metadata": {
    "deletable": false,
    "nbgrader": {
     "cell_type": "code",
     "checksum": "f690c40198147700b43cb6e4c3a318de",
     "grade": false,
     "grade_id": "cell-727fdbb2b5fb6f76",
     "locked": false,
     "schema_version": 3,
     "solution": true,
     "task": false
    }
   },
   "outputs": [],
   "source": [
    "def read_vcf_file(filename):\n",
    "    \"\"\"\n",
    "    See description above\n",
    "    \"\"\"\n",
    "    # YOUR CODE HERE\n",
    "    with open(filename, 'r') as fp:\n",
    "        header=[]\n",
    "        line=[]\n",
    "        for l in fp:\n",
    "            if l.startswith('##'):\n",
    "                continue # lines starting with double hash are skipped\n",
    "            else:\n",
    "                if l.startswith('#'):\n",
    "                    header.append(l.strip()[1:])\n",
    "                else:\n",
    "                    line.append(l.strip())\n",
    "    list_variant_dict=[]\n",
    "    for i in range(len(line)):\n",
    "        list_variant_dict.append(create_dict_from_line(header[0].split(\"\\t\"), line[i]))\n",
    "      \n",
    "    return list_variant_dict\n",
    "\n",
    "#     raise NotImplementedError()"
   ]
  },
  {
   "cell_type": "code",
   "execution_count": 11,
   "metadata": {
    "deletable": false,
    "editable": false,
    "nbgrader": {
     "cell_type": "code",
     "checksum": "76b4f7bedf5769c05ff96dd7daf26666",
     "grade": true,
     "grade_id": "cell-ca1e44de9cd47eab",
     "locked": true,
     "points": 10,
     "schema_version": 3,
     "solution": false,
     "task": false
    }
   },
   "outputs": [],
   "source": [
    "expected_output = [{'ALT': 'G',\n",
    "  'CHROM': '4',\n",
    "  'FILTER': 'PASS',\n",
    "  'ID': '.',\n",
    "  'INFO': 'AC=1;AF=0.167;AN=6;BaseQRankSum=-2.542;ClippingRankSum=0;DP=180;ExcessHet=3.0103;FS=0;MLEAC=1;MLEAF=0.167;MQ=52.77;MQRankSum=-4.631;QD=0.39;ReadPosRankSum=1.45;SOR=0.758;VQSLOD=-8.209;culprit=MQ;ANNOVAR_DATE=2018-04-16;Func.refGene=intergenic;Gene.refGene=IL2\\\\x3bIL21;GeneDetail.refGene=dist\\\\x3d38536\\\\x3bdist\\\\x3d117597;ExonicFunc.refGene=.;AAChange.refGene=.;Func.ensGene=intergenic;Gene.ensGene=ENSG00000109471\\\\x3bENSG00000138684;GeneDetail.ensGene=dist\\\\x3d38306\\\\x3bdist\\\\x3d117597;ExonicFunc.ensGene=.;AAChange.ensGene=.;cytoBand=4q27;gwasCatalog=.;tfbsConsSites=.;wgRna=.;targetScanS=.;Gene_symbol=.;OXPHOS_Complex=.;Ensembl_Gene_ID=.;Ensembl_Protein_ID=.;Uniprot_Name=.;Uniprot_ID=.;NCBI_Gene_ID=.;NCBI_Protein_ID=.;Gene_pos=.;AA_pos=.;AA_sub=.;Codon_sub=.;dbSNP_ID=.;PhyloP_46V=.;PhastCons_46V=.;PhyloP_100V=.;PhastCons_100V=.;SiteVar=.;PolyPhen2_prediction=.;PolyPhen2_score=.;SIFT_prediction=.;SIFT_score=.;FatHmm_prediction=.;FatHmm_score=.;PROVEAN_prediction=.;PROVEAN_score=.;MutAss_prediction=.;MutAss_score=.;EFIN_Swiss_Prot_Score=.;EFIN_Swiss_Prot_Prediction=.;EFIN_HumDiv_Score=.;EFIN_HumDiv_Prediction=.;CADD_score=.;CADD_Phred_score=.;CADD_prediction=.;Carol_prediction=.;Carol_score=.;Condel_score=.;Condel_pred=.;COVEC_WMV=.;COVEC_WMV_prediction=.;PolyPhen2_score_transf=.;PolyPhen2_pred_transf=.;SIFT_score_transf=.;SIFT_pred_transf=.;MutAss_score_transf=.;MutAss_pred_transf=.;Perc_coevo_Sites=.;Mean_MI_score=.;COSMIC_ID=.;Tumor_site=.;Examined_samples=.;Mutation_frequency=.;US=.;Status=.;Associated_disease=.;Presence_in_TD=.;Class_predicted=.;Prob_N=.;Prob_P=.;SIFT_score=.;SIFT_converted_rankscore=.;SIFT_pred=.;Polyphen2_HDIV_score=.;Polyphen2_HDIV_rankscore=.;Polyphen2_HDIV_pred=.;Polyphen2_HVAR_score=.;Polyphen2_HVAR_rankscore=.;Polyphen2_HVAR_pred=.;LRT_score=.;LRT_converted_rankscore=.;LRT_pred=.;MutationTaster_score=.;MutationTaster_converted_rankscore=.;MutationTaster_pred=.;MutationAssessor_score=.;MutationAssessor_score_rankscore=.;MutationAssessor_pred=.;FATHMM_score=.;FATHMM_converted_rankscore=.;FATHMM_pred=.;PROVEAN_score=.;PROVEAN_converted_rankscore=.;PROVEAN_pred=.;VEST3_score=.;VEST3_rankscore=.;MetaSVM_score=.;MetaSVM_rankscore=.;MetaSVM_pred=.;MetaLR_score=.;MetaLR_rankscore=.;MetaLR_pred=.;M-CAP_score=.;M-CAP_rankscore=.;M-CAP_pred=.;CADD_raw=.;CADD_raw_rankscore=.;CADD_phred=.;DANN_score=.;DANN_rankscore=.;fathmm-MKL_coding_score=.;fathmm-MKL_coding_rankscore=.;fathmm-MKL_coding_pred=.;Eigen_coding_or_noncoding=.;Eigen-raw=.;Eigen-PC-raw=.;GenoCanyon_score=.;GenoCanyon_score_rankscore=.;integrated_fitCons_score=.;integrated_fitCons_score_rankscore=.;integrated_confidence_value=.;GERP++_RS=.;GERP++_RS_rankscore=.;phyloP100way_vertebrate=.;phyloP100way_vertebrate_rankscore=.;phyloP20way_mammalian=.;phyloP20way_mammalian_rankscore=.;phastCons100way_vertebrate=.;phastCons100way_vertebrate_rankscore=.;phastCons20way_mammalian=.;phastCons20way_mammalian_rankscore=.;SiPhy_29way_logOdds=.;SiPhy_29way_logOdds_rankscore=.;Interpro_domain=.;GTEx_V6_gene=.;GTEx_V6_tissue=.;esp6500siv2_all=.;esp6500siv2_aa=.;esp6500siv2_ea=.;ExAC_ALL=.;ExAC_AFR=.;ExAC_AMR=.;ExAC_EAS=.;ExAC_FIN=.;ExAC_NFE=.;ExAC_OTH=.;ExAC_SAS=.;ExAC_nontcga_ALL=.;ExAC_nontcga_AFR=.;ExAC_nontcga_AMR=.;ExAC_nontcga_EAS=.;ExAC_nontcga_FIN=.;ExAC_nontcga_NFE=.;ExAC_nontcga_OTH=.;ExAC_nontcga_SAS=.;ExAC_nonpsych_ALL=.;ExAC_nonpsych_AFR=.;ExAC_nonpsych_AMR=.;ExAC_nonpsych_EAS=.;ExAC_nonpsych_FIN=.;ExAC_nonpsych_NFE=.;ExAC_nonpsych_OTH=.;ExAC_nonpsych_SAS=.;1000g2015aug_all=.;1000g2015aug_afr=.;1000g2015aug_amr=.;1000g2015aug_eur=.;1000g2015aug_sas=.;CLNALLELEID=.;CLNDN=.;CLNDISDB=.;CLNREVSTAT=.;CLNSIG=.;dbscSNV_ADA_SCORE=.;dbscSNV_RF_SCORE=.;snp138NonFlagged=.;avsnp150=.;CADD13_RawScore=0.015973;CADD13_PHRED=2.741;Eigen=-0.3239;REVEL=.;MCAP=.;Interpro_domain=.;ICGC_Id=.;ICGC_Occurrence=.;gnomAD_genome_ALL=0.0003;gnomAD_genome_AFR=0.0001;gnomAD_genome_AMR=0;gnomAD_genome_ASJ=0;gnomAD_genome_EAS=0.0007;gnomAD_genome_FIN=0.0009;gnomAD_genome_NFE=0.0002;gnomAD_genome_OTH=0.0011;gerp++gt2=.;cosmic70=.;InterVar_automated=.;PVS1=.;PS1=.;PS2=.;PS3=.;PS4=.;PM1=.;PM2=.;PM3=.;PM4=.;PM5=.;PM6=.;PP1=.;PP2=.;PP3=.;PP4=.;PP5=.;BA1=.;BS1=.;BS2=.;BS3=.;BS4=.;BP1=.;BP2=.;BP3=.;BP4=.;BP5=.;BP6=.;BP7=.;Kaviar_AF=.;Kaviar_AC=.;Kaviar_AN=.;ALLELE_END',\n",
    "  'POS': '123416186',\n",
    "  'QUAL': '23.25',\n",
    "  'REF': 'A',\n",
    "  'SAMPLE': {'XG102': {'AD': '51,8',\n",
    "                       'DP': '59',\n",
    "                       'GQ': '32',\n",
    "                       'GT': '0/1',\n",
    "                       'PL': '32,0,1388'},\n",
    "             'XG103': {'AD': '47,0',\n",
    "                       'DP': '47',\n",
    "                       'GQ': '99',\n",
    "                       'GT': '0/0',\n",
    "                       'PL': '0,114,1353'},\n",
    "             'XG104': {'AD': '74,0',\n",
    "                       'DP': '74',\n",
    "                       'GQ': '51',\n",
    "                       'GT': '0/0',\n",
    "                       'PL': '0,51,1827'},\n",
    "             'XG202': {'AD': '51,8',\n",
    "                       'DP': '59',\n",
    "                       'GQ': '32',\n",
    "                       'GT': '0/1',\n",
    "                       'PL': '32,0,1388'},\n",
    "             'XG203': {'AD': '47,0',\n",
    "                       'DP': '47',\n",
    "                       'GQ': '99',\n",
    "                       'GT': '0/0',\n",
    "                       'PL': '0,114,1353'},\n",
    "             'XG204': {'AD': '74,0',\n",
    "                       'DP': '74',\n",
    "                       'GQ': '51',\n",
    "                       'GT': '0/0',\n",
    "                       'PL': '0,51,1827'},\n",
    "             'XG302': {'AD': '51,8',\n",
    "                       'DP': '59',\n",
    "                       'GQ': '32',\n",
    "                       'GT': '0/1',\n",
    "                       'PL': '32,0,1388'},\n",
    "             'XG303': {'AD': '47,0',\n",
    "                       'DP': '47',\n",
    "                       'GQ': '99',\n",
    "                       'GT': '0/0',\n",
    "                       'PL': '0,114,1353'},\n",
    "             'XG304': {'AD': '74,0',\n",
    "                       'DP': '74',\n",
    "                       'GQ': '51',\n",
    "                       'GT': '0/0',\n",
    "                       'PL': '0,51,1827'},\n",
    "             'XG402': {'AD': '51,8',\n",
    "                       'DP': '59',\n",
    "                       'GQ': '32',\n",
    "                       'GT': '0/1',\n",
    "                       'PL': '32,0,1388'},\n",
    "             'XG403': {'AD': '47,0',\n",
    "                       'DP': '47',\n",
    "                       'GQ': '99',\n",
    "                       'GT': '0/0',\n",
    "                       'PL': '0,114,1353'},\n",
    "             'XG404': {'AD': '74,0',\n",
    "                       'DP': '74',\n",
    "                       'GQ': '51',\n",
    "                       'GT': '0/0',\n",
    "                       'PL': '0,51,1827'}}}]\n",
    "\n",
    "result = read_vcf_file('single_variant.vcf')\n",
    "assert expected_output == result"
   ]
  },
  {
   "cell_type": "markdown",
   "metadata": {
    "deletable": false,
    "editable": false,
    "nbgrader": {
     "cell_type": "markdown",
     "checksum": "6f4c50f05126223d11173c9f1343192d",
     "grade": false,
     "grade_id": "cell-f66e15b1b1b6acd2",
     "locked": true,
     "schema_version": 3,
     "solution": false,
     "task": false
    }
   },
   "source": [
    "# Part 6 (5 points)\n",
    "Write a function that extracts the info field from the data dictionary that was created in the previous part. The function should return all the info field dictionaries as list. \n"
   ]
  },
  {
   "cell_type": "code",
   "execution_count": 12,
   "metadata": {
    "deletable": false,
    "nbgrader": {
     "cell_type": "code",
     "checksum": "773e17ae34ac10810a0776473dce66ab",
     "grade": false,
     "grade_id": "cell-55ce27a0740c107f",
     "locked": false,
     "schema_version": 3,
     "solution": true,
     "task": false
    }
   },
   "outputs": [],
   "source": [
    "def extract_info_field(data):\n",
    "    \"\"\"\n",
    "    See description in part 6\n",
    "    \"\"\"\n",
    "    # YOUR CODE HERE\n",
    "    return [i['INFO'] for i in data]\n",
    "#     raise NotImplementedError()"
   ]
  },
  {
   "cell_type": "code",
   "execution_count": 13,
   "metadata": {
    "deletable": false,
    "editable": false,
    "nbgrader": {
     "cell_type": "code",
     "checksum": "260da65f375f43747103bb3676f088f4",
     "grade": true,
     "grade_id": "cell-175405e8b2dbaed3",
     "locked": true,
     "points": 5,
     "schema_version": 3,
     "solution": false,
     "task": false
    }
   },
   "outputs": [],
   "source": [
    "expected_results = open('info_field.vcf', 'r').readline().strip()\n",
    "info_field = extract_info_field(result)\n",
    "\n",
    "assert expected_results == info_field[0]\n"
   ]
  },
  {
   "cell_type": "markdown",
   "metadata": {
    "deletable": false,
    "editable": false,
    "nbgrader": {
     "cell_type": "markdown",
     "checksum": "71bf690853a30edce3a398c024982202",
     "grade": false,
     "grade_id": "cell-2fa98b816ca01042",
     "locked": true,
     "schema_version": 3,
     "solution": false,
     "task": false
    }
   },
   "source": [
    "# Part 7 (10 points)\n",
    "You now need to figure out that data types for each of the info fields. \n",
    "Begin by writing a function that first takes the info fields and turns them into a dictionary. Make sure to skip any fields that do not have a value or are missing a value. Also replace \\\\x3b with a comma and \\\\x3d with an equal sign.  "
   ]
  },
  {
   "cell_type": "code",
   "execution_count": 14,
   "metadata": {
    "deletable": false,
    "nbgrader": {
     "cell_type": "code",
     "checksum": "65c4fd1f890320ab9afec1698068b0b9",
     "grade": false,
     "grade_id": "cell-8e6ef3a32cf55911",
     "locked": false,
     "schema_version": 3,
     "solution": true,
     "task": false
    }
   },
   "outputs": [],
   "source": [
    "def create_dictionary_of_info_field_values(data):\n",
    "    \"\"\"\n",
    "    See description of part 7\n",
    "    \"\"\"\n",
    "    # YOUR CODE HERE\n",
    "    dic_info_field_values = {}\n",
    "    key_list = []\n",
    "    for i in data:\n",
    "        info_list = i.split(\";\")\n",
    "        for j in info_list:\n",
    "            if '=' in j :\n",
    "                int_list = []\n",
    "                k_v_list = j.split(\"=\")\n",
    "                k_v_list[1] = k_v_list[1].replace('\\\\x3b',',')\n",
    "                k_v_list[1] = k_v_list[1].replace('\\\\x3d','=')\n",
    "                if k_v_list[0] not in key_list:\n",
    "                    key_list.append(k_v_list[0])\n",
    "                    if k_v_list[1] != '.':\n",
    "                        int_list.append(k_v_list[1])\n",
    "                    dic_info_field_values.update({k_v_list[0]:int_list})\n",
    "                else :\n",
    "                    if k_v_list[1] != '.':\n",
    "                        dic_info_field_values[k_v_list[0]].append(k_v_list[1])\n",
    "    return dic_info_field_values\n",
    "    \n",
    "#     raise NotImplementedError()"
   ]
  },
  {
   "cell_type": "code",
   "execution_count": 15,
   "metadata": {
    "deletable": false,
    "editable": false,
    "nbgrader": {
     "cell_type": "code",
     "checksum": "3caf77bd33582c22b4453f690fbeee7f",
     "grade": true,
     "grade_id": "cell-04d8d091d4ce72f3",
     "locked": true,
     "points": 10,
     "schema_version": 3,
     "solution": false,
     "task": false
    }
   },
   "outputs": [],
   "source": [
    "\n",
    "info_field = extract_info_field(result)\n",
    "expected_results = {'AC': ['1'], 'AF': ['0.167'], 'AN': ['6'], 'BaseQRankSum': ['-2.542'], 'ClippingRankSum': ['0'], 'DP': ['180'], 'ExcessHet': ['3.0103'], 'FS': ['0'], 'MLEAC': ['1'], 'MLEAF': ['0.167'], 'MQ': ['52.77'], 'MQRankSum': ['-4.631'], 'QD': ['0.39'], 'ReadPosRankSum': ['1.45'], 'SOR': ['0.758'], 'VQSLOD': ['-8.209'], 'culprit': ['MQ'], 'ANNOVAR_DATE': ['2018-04-16'], 'Func.refGene': ['intergenic'], 'Gene.refGene': ['IL2,IL21'], 'GeneDetail.refGene': ['dist=38536,dist=117597'], 'ExonicFunc.refGene': [], 'AAChange.refGene': [], 'Func.ensGene': ['intergenic'], 'Gene.ensGene': ['ENSG00000109471,ENSG00000138684'], 'GeneDetail.ensGene': ['dist=38306,dist=117597'], 'ExonicFunc.ensGene': [], 'AAChange.ensGene': [], 'cytoBand': ['4q27'], 'gwasCatalog': [], 'tfbsConsSites': [], 'wgRna': [], 'targetScanS': [], 'Gene_symbol': [], 'OXPHOS_Complex': [], 'Ensembl_Gene_ID': [], 'Ensembl_Protein_ID': [], 'Uniprot_Name': [], 'Uniprot_ID': [], 'NCBI_Gene_ID': [], 'NCBI_Protein_ID': [], 'Gene_pos': [], 'AA_pos': [], 'AA_sub': [], 'Codon_sub': [], 'dbSNP_ID': [], 'PhyloP_46V': [], 'PhastCons_46V': [], 'PhyloP_100V': [], 'PhastCons_100V': [], 'SiteVar': [], 'PolyPhen2_prediction': [], 'PolyPhen2_score': [], 'SIFT_prediction': [], 'SIFT_score': [], 'FatHmm_prediction': [], 'FatHmm_score': [], 'PROVEAN_prediction': [], 'PROVEAN_score': [], 'MutAss_prediction': [], 'MutAss_score': [], 'EFIN_Swiss_Prot_Score': [], 'EFIN_Swiss_Prot_Prediction': [], 'EFIN_HumDiv_Score': [], 'EFIN_HumDiv_Prediction': [], 'CADD_score': [], 'CADD_Phred_score': [], 'CADD_prediction': [], 'Carol_prediction': [], 'Carol_score': [], 'Condel_score': [], 'Condel_pred': [], 'COVEC_WMV': [], 'COVEC_WMV_prediction': [], 'PolyPhen2_score_transf': [], 'PolyPhen2_pred_transf': [], 'SIFT_score_transf': [], 'SIFT_pred_transf': [], 'MutAss_score_transf': [], 'MutAss_pred_transf': [], 'Perc_coevo_Sites': [], 'Mean_MI_score': [], 'COSMIC_ID': [], 'Tumor_site': [], 'Examined_samples': [], 'Mutation_frequency': [], 'US': [], 'Status': [], 'Associated_disease': [], 'Presence_in_TD': [], 'Class_predicted': [], 'Prob_N': [], 'Prob_P': [], 'SIFT_converted_rankscore': [], 'SIFT_pred': [], 'Polyphen2_HDIV_score': [], 'Polyphen2_HDIV_rankscore': [], 'Polyphen2_HDIV_pred': [], 'Polyphen2_HVAR_score': [], 'Polyphen2_HVAR_rankscore': [], 'Polyphen2_HVAR_pred': [], 'LRT_score': [], 'LRT_converted_rankscore': [], 'LRT_pred': [], 'MutationTaster_score': [], 'MutationTaster_converted_rankscore': [], 'MutationTaster_pred': [], 'MutationAssessor_score': [], 'MutationAssessor_score_rankscore': [], 'MutationAssessor_pred': [], 'FATHMM_score': [], 'FATHMM_converted_rankscore': [], 'FATHMM_pred': [], 'PROVEAN_converted_rankscore': [], 'PROVEAN_pred': [], 'VEST3_score': [], 'VEST3_rankscore': [], 'MetaSVM_score': [], 'MetaSVM_rankscore': [], 'MetaSVM_pred': [], 'MetaLR_score': [], 'MetaLR_rankscore': [], 'MetaLR_pred': [], 'M-CAP_score': [], 'M-CAP_rankscore': [], 'M-CAP_pred': [], 'CADD_raw': [], 'CADD_raw_rankscore': [], 'CADD_phred': [], 'DANN_score': [], 'DANN_rankscore': [], 'fathmm-MKL_coding_score': [], 'fathmm-MKL_coding_rankscore': [], 'fathmm-MKL_coding_pred': [], 'Eigen_coding_or_noncoding': [], 'Eigen-raw': [], 'Eigen-PC-raw': [], 'GenoCanyon_score': [], 'GenoCanyon_score_rankscore': [], 'integrated_fitCons_score': [], 'integrated_fitCons_score_rankscore': [], 'integrated_confidence_value': [], 'GERP++_RS': [], 'GERP++_RS_rankscore': [], 'phyloP100way_vertebrate': [], 'phyloP100way_vertebrate_rankscore': [], 'phyloP20way_mammalian': [], 'phyloP20way_mammalian_rankscore': [], 'phastCons100way_vertebrate': [], 'phastCons100way_vertebrate_rankscore': [], 'phastCons20way_mammalian': [], 'phastCons20way_mammalian_rankscore': [], 'SiPhy_29way_logOdds': [], 'SiPhy_29way_logOdds_rankscore': [], 'Interpro_domain': [], 'GTEx_V6_gene': [], 'GTEx_V6_tissue': [], 'esp6500siv2_all': [], 'esp6500siv2_aa': [], 'esp6500siv2_ea': [], 'ExAC_ALL': [], 'ExAC_AFR': [], 'ExAC_AMR': [], 'ExAC_EAS': [], 'ExAC_FIN': [], 'ExAC_NFE': [], 'ExAC_OTH': [], 'ExAC_SAS': [], 'ExAC_nontcga_ALL': [], 'ExAC_nontcga_AFR': [], 'ExAC_nontcga_AMR': [], 'ExAC_nontcga_EAS': [], 'ExAC_nontcga_FIN': [], 'ExAC_nontcga_NFE': [], 'ExAC_nontcga_OTH': [], 'ExAC_nontcga_SAS': [], 'ExAC_nonpsych_ALL': [], 'ExAC_nonpsych_AFR': [], 'ExAC_nonpsych_AMR': [], 'ExAC_nonpsych_EAS': [], 'ExAC_nonpsych_FIN': [], 'ExAC_nonpsych_NFE': [], 'ExAC_nonpsych_OTH': [], 'ExAC_nonpsych_SAS': [], '1000g2015aug_all': [], '1000g2015aug_afr': [], '1000g2015aug_amr': [], '1000g2015aug_eur': [], '1000g2015aug_sas': [], 'CLNALLELEID': [], 'CLNDN': [], 'CLNDISDB': [], 'CLNREVSTAT': [], 'CLNSIG': [], 'dbscSNV_ADA_SCORE': [], 'dbscSNV_RF_SCORE': [], 'snp138NonFlagged': [], 'avsnp150': [], 'CADD13_RawScore': ['0.015973'], 'CADD13_PHRED': ['2.741'], 'Eigen': ['-0.3239'], 'REVEL': [], 'MCAP': [], 'ICGC_Id': [], 'ICGC_Occurrence': [], 'gnomAD_genome_ALL': ['0.0003'], 'gnomAD_genome_AFR': ['0.0001'], 'gnomAD_genome_AMR': ['0'], 'gnomAD_genome_ASJ': ['0'], 'gnomAD_genome_EAS': ['0.0007'], 'gnomAD_genome_FIN': ['0.0009'], 'gnomAD_genome_NFE': ['0.0002'], 'gnomAD_genome_OTH': ['0.0011'], 'gerp++gt2': [], 'cosmic70': [], 'InterVar_automated': [], 'PVS1': [], 'PS1': [], 'PS2': [], 'PS3': [], 'PS4': [], 'PM1': [], 'PM2': [], 'PM3': [], 'PM4': [], 'PM5': [], 'PM6': [], 'PP1': [], 'PP2': [], 'PP3': [], 'PP4': [], 'PP5': [], 'BA1': [], 'BS1': [], 'BS2': [], 'BS3': [], 'BS4': [], 'BP1': [], 'BP2': [], 'BP3': [], 'BP4': [], 'BP5': [], 'BP6': [], 'BP7': [], 'Kaviar_AF': [], 'Kaviar_AC': [], 'Kaviar_AN': []}\n",
    "results = create_dictionary_of_info_field_values(info_field)\n",
    "assert expected_results == results\n",
    "\n"
   ]
  },
  {
   "cell_type": "markdown",
   "metadata": {
    "deletable": false,
    "editable": false,
    "nbgrader": {
     "cell_type": "markdown",
     "checksum": "5636f04ac0e5b08cf4b3a4554b24d7e4",
     "grade": false,
     "grade_id": "cell-16cb56a727c8ebab",
     "locked": true,
     "schema_version": 3,
     "solution": false,
     "task": false
    }
   },
   "source": [
    "# Part 8 (5 points)\n",
    "Write a function whose input is the output from `create_dictionary_of_info_field_values` and uses the previously written function `determine_data_type_of_list` to determine the data type of each of the info fields. The output is a dictionary whose keys are the name of the info fields and values are the data type.  "
   ]
  },
  {
   "cell_type": "code",
   "execution_count": 16,
   "metadata": {
    "deletable": false,
    "nbgrader": {
     "cell_type": "code",
     "checksum": "ce97fb06c688a705b1ed53dc5a3600fa",
     "grade": false,
     "grade_id": "cell-872de31108c27c41",
     "locked": false,
     "schema_version": 3,
     "solution": true,
     "task": false
    }
   },
   "outputs": [],
   "source": [
    "def determine_data_type_of_info_fields(data):\n",
    "    \"\"\"\n",
    "    See desription in part 8\n",
    "    \"\"\"\n",
    "    # YOUR CODE HERE\n",
    "    dict_data_type_of_info = {}\n",
    "    for i in data.keys():\n",
    "        if len(data[i]) != 0:\n",
    "            dict_data_type_of_info.update({i:determine_data_type_of_list(data[i])})\n",
    "    return dict_data_type_of_info\n",
    "#     raise NotImplementedError()"
   ]
  },
  {
   "cell_type": "code",
   "execution_count": 17,
   "metadata": {
    "deletable": false,
    "editable": false,
    "nbgrader": {
     "cell_type": "code",
     "checksum": "f231e03491abcce07e1651bd867cec7d",
     "grade": true,
     "grade_id": "cell-9bfbc18a4f8d1514",
     "locked": true,
     "points": 5,
     "schema_version": 3,
     "solution": false,
     "task": false
    }
   },
   "outputs": [],
   "source": [
    "data = {'key1': ['1', '2', '3'], 'key2':['1.1', '2.2', '3.3'], 'key3': ['1.1', '2', '3.3'], 'key4': ['1.1', '234String', '3.3']}\n",
    "expected_results = {'key1': int, 'key2': float, 'key3': float, 'key4': str}\n",
    "\n",
    "assert determine_data_type_of_info_fields(data) == expected_results\n"
   ]
  },
  {
   "cell_type": "markdown",
   "metadata": {
    "deletable": false,
    "editable": false,
    "nbgrader": {
     "cell_type": "markdown",
     "checksum": "502317b0f526c3194dff33862f45c58a",
     "grade": false,
     "grade_id": "cell-0b6823f1b7d32e76",
     "locked": true,
     "schema_version": 3,
     "solution": false,
     "task": false
    }
   },
   "source": [
    "# Part 9  (No points)\n",
    "Write a function whose first input is the data from  `read_vcf_file` and the second input is the output from `determine_data_type_of_info_fields`. The function converts the info field into a dictionary and uses the data types that you determined to cast each field into the correct data type. Make sure to convert the `POS` to int and `QUAL` to float. Replace any `\\\\x3b` with a comma and any `\\\\x3d` with an equal sign. The output will look something like this (I have removed most of the fields):\n",
    "\n",
    "The output will look something like this \n",
    "```\n",
    "{\n",
    "        \"ALT\": \"G\",\n",
    "        \"CHROM\": \"4\",\n",
    "        \"FILTER\": \"PASS\",\n",
    "        \"ID\": \".\",\n",
    "        \"INFO\": {\n",
    "           \n",
    "            \"Gene.ensGene\": \"ENSG00000109471,ENSG00000138684\",\n",
    "            \"Gene.refGene\": \"IL2,IL21\",\n",
    "            \"GeneDetail.ensGene\": \"dist=38306,dist=117597\",\n",
    "            \"GeneDetail.refGene\": \"dist=38536,dist=117597\"\n",
    "        },\n",
    "        \"POS\": 123416186,\n",
    "        \"QUAL\" :23.25,\n",
    "        \"REF\": \"A\",\n",
    "        \"SAMPLE\": {\n",
    "            \"XG102\": {\n",
    "                \"AD\": \"51,8\",\n",
    "                \"DP\": \"59\",\n",
    "                \"GQ\": \"32\",\n",
    "                \"GT\": \"0/1\",\n",
    "                \"PL\": \"32,0,1388\"\n",
    "            }\n",
    "    }\n",
    "```"
   ]
  },
  {
   "cell_type": "code",
   "execution_count": 18,
   "metadata": {
    "deletable": false,
    "nbgrader": {
     "cell_type": "code",
     "checksum": "3b9a100dac7caf0f52e6766d8096d546",
     "grade": false,
     "grade_id": "cell-3b5689fd0736b10a",
     "locked": false,
     "schema_version": 3,
     "solution": true,
     "task": false
    }
   },
   "outputs": [],
   "source": [
    "def format_data(data, info_field_data_type):\n",
    "    # YOUR CODE HERE\n",
    "    formatted_list = []\n",
    "    a = 0\n",
    "    b = 0\n",
    "    c = 0\n",
    "    for i in data:\n",
    "        i['POS'] = int(i['POS'])\n",
    "        i['QUAL'] = float(i['QUAL'])\n",
    "        dict_info = create_dictionary_of_info_field_values([i['INFO']])\n",
    "        del_keys = []\n",
    "        for j in dict_info.keys():\n",
    "            if len(dict_info[j]) == 1:\n",
    "                dict_info[j] = info_field_data_type[j](dict_info[j][0])\n",
    "                c+=1\n",
    "            elif len(dict_info[j]) == 0:\n",
    "                del_keys.append(j)\n",
    "            else :\n",
    "                for k in range(len(dict_info[j])):\n",
    "                    k = info_field_data_type[j](k)\n",
    "        for key in del_keys:\n",
    "            del dict_info[key]\n",
    "        i['INFO'] = dict_info\n",
    "        formatted_list.append(i)\n",
    "    return formatted_list\n",
    "#     raise NotImplementedError()\n",
    "\n"
   ]
  },
  {
   "cell_type": "code",
   "execution_count": 19,
   "metadata": {},
   "outputs": [],
   "source": [
    "data = read_vcf_file('lab1_data.vcf')\n",
    "result = extract_info_field(data)\n",
    "abc = create_dictionary_of_info_field_values(result)\n",
    "info_field_data_type = determine_data_type_of_info_fields(abc)\n",
    "a = format_data(data, info_field_data_type)"
   ]
  },
  {
   "cell_type": "markdown",
   "metadata": {
    "deletable": false,
    "editable": false,
    "nbgrader": {
     "cell_type": "markdown",
     "checksum": "dd40904c05472ee835bc7d8fc12923a7",
     "grade": false,
     "grade_id": "cell-5ce545c69158d59e",
     "locked": true,
     "schema_version": 3,
     "solution": false,
     "task": false
    }
   },
   "source": [
    "# Part 10 (No Points)\n",
    "Write a function whose inputs are a Python dictionary and filename. The function will saves the dictionary as a json file using the filename given. Use the json library. Use these options to correctly format your JSON -- `sort_keys=True, indent=4, separators=(',', ': ')`. \n",
    "Use this function to save your parsed data as a json file. \n",
    "\n",
    "USE THE FOLLOWING FILENAME TO SAVE YOUR FILE: `lab1.json`"
   ]
  },
  {
   "cell_type": "code",
   "execution_count": 20,
   "metadata": {
    "deletable": false,
    "nbgrader": {
     "cell_type": "code",
     "checksum": "ad2fae9f3adfbdbdf9fe5b32342fa8a7",
     "grade": false,
     "grade_id": "cell-adad80e3177ba39a",
     "locked": false,
     "schema_version": 3,
     "solution": true,
     "task": false
    }
   },
   "outputs": [],
   "source": [
    "\n",
    "def save_data_as_json(data, filename):\n",
    "    # YOUR CODE HERE\n",
    "    import json\n",
    "    with open(filename, 'w') as fp:\n",
    "        json.dump(data, fp, sort_keys=True, indent=4, separators=(',',': '))\n",
    "#     raise NotImplementedError()\n"
   ]
  },
  {
   "cell_type": "code",
   "execution_count": 21,
   "metadata": {},
   "outputs": [],
   "source": [
    "##mine\n",
    "filename = 'lab1.json'\n",
    "save_data_as_json(a,filename)"
   ]
  },
  {
   "cell_type": "markdown",
   "metadata": {
    "deletable": false,
    "editable": false,
    "nbgrader": {
     "cell_type": "markdown",
     "checksum": "3ec5a5d729cb757b3dc7a9169edf9686",
     "grade": false,
     "grade_id": "cell-671bb09071c28995",
     "locked": true,
     "schema_version": 3,
     "solution": false,
     "task": false
    }
   },
   "source": [
    "# Part 11 (10 points)\n",
    "Write a function whose input is a filename for a json file. The function should use the filename to read the JSON file in which you saved your final parsed data. "
   ]
  },
  {
   "cell_type": "code",
   "execution_count": 22,
   "metadata": {
    "deletable": false,
    "nbgrader": {
     "cell_type": "code",
     "checksum": "e569bc94e476c5954d0c24d35db221ab",
     "grade": false,
     "grade_id": "cell-66b5c162a233df29",
     "locked": false,
     "schema_version": 3,
     "solution": true,
     "task": false
    }
   },
   "outputs": [],
   "source": [
    "def load_data_from_json(filename):\n",
    "    # YOUR CODE HERE\n",
    "    import json\n",
    "    with open(filename, 'r') as fp:\n",
    "        data = json.load(fp)\n",
    "    return data\n",
    "#     raise NotImplementedError()\n"
   ]
  },
  {
   "cell_type": "code",
   "execution_count": 23,
   "metadata": {
    "deletable": false,
    "editable": false,
    "nbgrader": {
     "cell_type": "code",
     "checksum": "68a496846cb6ecbf7b798c98a8bb3e81",
     "grade": true,
     "grade_id": "cell-512c6c749e91592e",
     "locked": true,
     "points": 10,
     "schema_version": 3,
     "solution": false,
     "task": false
    }
   },
   "outputs": [],
   "source": [
    "test_save_data = {'key1': ['1', '2', '3'], 'key2':['1.1', '2.2', '3.3'], 'key3': ['1.1', '2', '3.3'], 'key4': ['1.1', '234String', '3.3']}\n",
    "save_data_as_json(test_save_data, 'test_save.json')\n",
    "results = load_data_from_json('test_save.json')\n",
    "\n",
    "assert results == test_save_data\n"
   ]
  },
  {
   "cell_type": "markdown",
   "metadata": {
    "deletable": false,
    "editable": false,
    "nbgrader": {
     "cell_type": "markdown",
     "checksum": "76f207c6bfe2793ea9a27fdff797fe42",
     "grade": false,
     "grade_id": "cell-5a3faae91b775809",
     "locked": true,
     "schema_version": 3,
     "solution": false,
     "task": false
    }
   },
   "source": [
    "# Part 12 (30 points)\n",
    "Write a function whose inputs are `CHROM`, `REF`, `ALT`, `POS`, and `filename`.  Using these inputs, the function should load a JSON file using the given filename and return a list of variants that match \n",
    "the given CHROM, REF, ALT, and POS. "
   ]
  },
  {
   "cell_type": "code",
   "execution_count": 24,
   "metadata": {
    "deletable": false,
    "nbgrader": {
     "cell_type": "code",
     "checksum": "85eee5768950a25e540e242bb15cd5ea",
     "grade": false,
     "grade_id": "cell-130d1b411f4a7ef3",
     "locked": false,
     "schema_version": 3,
     "solution": true,
     "task": false
    }
   },
   "outputs": [],
   "source": [
    "def find_variant(CHROM, REF, ALT, POS, filename):\n",
    "    # YOUR CODE HERE\n",
    "\n",
    "    data = load_data_from_json(filename)\n",
    "    list_variants = []\n",
    "    for i in data :\n",
    "        if i['CHROM'] == CHROM  and i['REF'] == REF and i['ALT'] == ALT and i['POS'] == POS :\n",
    "            list_variants.append(i)\n",
    "    return list_variants\n",
    "#     raise NotImplementedError()"
   ]
  },
  {
   "cell_type": "code",
   "execution_count": 34,
   "metadata": {},
   "outputs": [],
   "source": [
    "result1 = find_variant(\"13\", \"T\", \"G\", 56292303, 'lab1.json')\n",
    "\n",
    "\n",
    "expected_result1 = [{u'INFO': {u'1000g2015aug_eur': 1.0, u'BaseQRankSum': 1.77, u'Gene.refGene': u'MIR5007,PRR20D', u'cytoBand': u'13q21.1', u'gnomAD_genome_FIN': 0.9951, u'1000g2015aug_amr': 0.9841, u'gnomAD_genome_AFR': 0.8475, u'FS': 0.0, u'gnomAD_genome_NFE': 0.9987, u'MQRankSum': 0.0, u'snp138NonFlagged': u'rs4421887', u'gnomAD_genome_ALL': 0.9546, u'DP': 176, u'ExcessHet': 3.0103, u'gnomAD_genome_OTH': 0.9887, u'MLEAF': 1.0, u'culprit': u'MQ', u'1000g2015aug_afr': 0.8313, u'SOR': 0.257, u'VQSLOD': 22.53, u'MQ': 60.0, u'ClippingRankSum': 0, u'Kaviar_AF': 0.0001153, u'AC': 6, u'Kaviar_AC': 3, u'AF': 1.0, u'Kaviar_AN': 26028, u'Func.refGene': u'intergenic', u'AN': 6, u'CADD13_PHRED': 3.712, u'1000g2015aug_all': 0.952676, u'CADD13_RawScore': 0.109684, u'1000g2015aug_sas': 0.9969, u'GeneDetail.ensGene': u'dist=543620,dist=281031', u'ANNOVAR_DATE': u'2018-04-16', u'Func.ensGene': u'intergenic', u'ReadPosRankSum': -0.338, u'gnomAD_genome_ASJ': 0.9834, u'gnomAD_genome_AMR': 0.9843, u'Eigen': -0.7945, u'avsnp150': u'rs4421887', u'MLEAC': 6, u'gnomAD_genome_EAS': 1.0, u'GeneDetail.refGene': u'dist=543620,dist=1422749', u'QD': 28.95, u'Gene.ensGene': u'ENSG00000264387,ENSG00000228611'}, u'SAMPLE': {u'XG404': {u'GT': u'1/1', u'GQ': u'99', u'AD': u'1,70', u'DP': u'71', u'PL': u'2037,202,0'}, u'XG402': {u'GT': u'1/1', u'GQ': u'99', u'AD': u'0,62', u'DP': u'62', u'PL': u'1796,185,0'}, u'XG403': {u'GT': u'1/1', u'GQ': u'99', u'AD': u'0,41', u'DP': u'41', u'PL': u'1218,122,0'}, u'XG303': {u'GT': u'1/1', u'GQ': u'99', u'AD': u'0,41', u'DP': u'41', u'PL': u'1218,122,0'}, u'XG302': {u'GT': u'1/1', u'GQ': u'99', u'AD': u'0,62', u'DP': u'62', u'PL': u'1796,185,0'}, u'XG304': {u'GT': u'1/1', u'GQ': u'99', u'AD': u'1,70', u'DP': u'71', u'PL': u'2037,202,0'}, u'XG202': {u'GT': u'1/1', u'GQ': u'99', u'AD': u'0,62', u'DP': u'62', u'PL': u'1796,185,0'}, u'XG203': {u'GT': u'1/1', u'GQ': u'99', u'AD': u'0,41', u'DP': u'41', u'PL': u'1218,122,0'}, u'XG204': {u'GT': u'1/1', u'GQ': u'99', u'AD': u'1,70', u'DP': u'71', u'PL': u'2037,202,0'}, u'XG103': {u'GT': u'1/1', u'GQ': u'99', u'AD': u'0,41', u'DP': u'41', u'PL': u'1218,122,0'}, u'XG102': {u'GT': u'1/1', u'GQ': u'99', u'AD': u'0,62', u'DP': u'62', u'PL': u'1796,185,0'}, u'XG104': {u'GT': u'1/1', u'GQ': u'99', u'AD': u'1,70', u'DP': u'71', u'PL': u'2037,202,0'}}, u'REF': u'T', u'POS': 56292303, u'FILTER': u'PASS', u'QUAL': 5037.69, u'ALT': u'G', u'CHROM': u'13', u'ID': u'rs4421887'}]\n",
    "\n",
    "#without u before the string\n",
    "# expected_result = [{'INFO': {'1000g2015aug_eur': 1.0, 'BaseQRankSum': 1.77, 'Gene.refGene': 'MIR5007,PRR20D', 'cytoBand': '13q21.1', 'gnomAD_genome_FIN': 0.9951, '1000g2015aug_amr': 0.9841, 'gnomAD_genome_AFR': 0.8475, 'FS': 0.0, 'gnomAD_genome_NFE': 0.9987, 'MQRankSum': 0.0, 'snp138NonFlagged': 'rs4421887', 'gnomAD_genome_ALL': 0.9546, 'DP': 176, 'ExcessHet': 3.0103, 'gnomAD_genome_OTH': 0.9887, 'MLEAF': 1.0, 'culprit': 'MQ', '1000g2015aug_afr': 0.8313, 'SOR': 0.257, 'VQSLOD': 22.53, 'MQ': 60.0, 'ClippingRankSum': 0, 'Kaviar_AF': 0.0001153, 'AC': 6, 'Kaviar_AC': 3, 'AF': 1.0, 'Kaviar_AN': 26028, 'Func.refGene': 'intergenic', 'AN': 6, 'CADD13_PHRED': 3.712, '1000g2015aug_all': 0.952676, 'CADD13_RawScore': 0.109684, '1000g2015aug_sas': 0.9969, 'GeneDetail.ensGene': 'dist=543620,dist=281031', 'ANNOVAR_DATE': '2018-04-16', 'Func.ensGene': 'intergenic', 'ReadPosRankSum': -0.338, 'gnomAD_genome_ASJ': 0.9834, 'gnomAD_genome_AMR': 0.9843, 'Eigen': -0.7945, 'avsnp150': 'rs4421887', 'MLEAC': 6, 'gnomAD_genome_EAS': 1.0, 'GeneDetail.refGene': 'dist=543620,dist=1422749', 'QD': 28.95, 'Gene.ensGene': 'ENSG00000264387,ENSG00000228611'}, 'SAMPLE': {'XG404': {'GT': '1/1', 'GQ': '99', 'AD': '1,70', 'DP': '71', 'PL': '2037,202,0'}, 'XG402': {'GT': '1/1', 'GQ': '99', 'AD': '0,62', 'DP': '62', 'PL': '1796,185,0'}, 'XG403': {'GT': '1/1', 'GQ': '99', 'AD': '0,41', 'DP': '41', 'PL': '1218,122,0'}, 'XG303': {'GT': '1/1', 'GQ': '99', 'AD': '0,41', 'DP': '41', 'PL': '1218,122,0'}, 'XG302': {'GT': '1/1', 'GQ': '99', 'AD': '0,62', 'DP': '62', 'PL': '1796,185,0'}, 'XG304': {'GT': '1/1', 'GQ': '99', 'AD': '1,70', 'DP': '71', 'PL': '2037,202,0'}, 'XG202': {'GT': '1/1', 'GQ': '99', 'AD': '0,62', 'DP': '62', 'PL': '1796,185,0'}, 'XG203': {'GT': '1/1', 'GQ': '99', 'AD': '0,41', 'DP': '41', 'PL': '1218,122,0'}, 'XG204': {'GT': '1/1', 'GQ': '99', 'AD': '1,70', 'DP': '71', 'PL': '2037,202,0'}, 'XG103': {'GT': '1/1', 'GQ': '99', 'AD': '0,41', 'DP': '41', 'PL': '1218,122,0'}, 'XG102': {'GT': '1/1', 'GQ': '99', 'AD': '0,62', 'DP': '62', 'PL': '1796,185,0'}, 'XG104': {'GT': '1/1', 'GQ': '99', 'AD': '1,70', 'DP': '71', 'PL': '2037,202,0'}}, 'REF': 'T', 'POS': 56292303, 'FILTER': 'PASS', 'QUAL': 5037.69, 'ALT': 'G', 'CHROM': '13', 'ID': 'rs4421887'}]\n",
    "\n",
    "assert expected_result1==result1"
   ]
  },
  {
   "cell_type": "code",
   "execution_count": 27,
   "metadata": {
    "deletable": false,
    "editable": false,
    "nbgrader": {
     "cell_type": "code",
     "checksum": "aece26381b019beef9f0a52c91f8d213",
     "grade": true,
     "grade_id": "cell-930466d6f335d3f4",
     "locked": true,
     "points": 30,
     "schema_version": 3,
     "solution": false,
     "task": false
    }
   },
   "outputs": [],
   "source": [
    "\n",
    "\n",
    "\n",
    "\n",
    "\n",
    "filename = 'lab1_data.vcf' \n",
    "data = read_vcf_file(filename) # read vcf file \n",
    "info_field_data = extract_info_field(data) # extract all the info fields\n",
    "info_field_list = create_dictionary_of_info_field_values(info_field_data) # create dictionary from info fields\n",
    "info_field_data_type = determine_data_type_of_info_fields(info_field_list) # Determine data type of each info field\n",
    "data = format_data(data, info_field_data_type) # format the data variable -- from data = read_vcf_file(filename)\n",
    "save_data_as_json(data, 'lab1.json') # save the formatted data\n",
    "data_loaded = load_data_from_json('lab1.json') # load saved data \n",
    "\n",
    "# Now I will fetch three variants using your find_variant function and check that they match my results\n",
    "\n"
   ]
  },
  {
   "cell_type": "code",
   "execution_count": null,
   "metadata": {},
   "outputs": [],
   "source": []
  }
 ],
 "metadata": {
  "kernelspec": {
   "display_name": "Python 3",
   "language": "python",
   "name": "python3"
  },
  "language_info": {
   "codemirror_mode": {
    "name": "ipython",
    "version": 3
   },
   "file_extension": ".py",
   "mimetype": "text/x-python",
   "name": "python",
   "nbconvert_exporter": "python",
   "pygments_lexer": "ipython3",
   "version": "3.6.8"
  }
 },
 "nbformat": 4,
 "nbformat_minor": 2
}
