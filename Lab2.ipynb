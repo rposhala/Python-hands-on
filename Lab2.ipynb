{
 "cells": [
  {
   "cell_type": "markdown",
   "metadata": {},
   "source": [
    "Before you turn this problem in, make sure everything runs as expected. First, **restart the kernel** (in the menubar, select Kernel$\\rightarrow$Restart) and then **run all cells** (in the menubar, select Cell$\\rightarrow$Run All).\n",
    "\n",
    "Make sure you fill in any place that says `YOUR CODE HERE` or \"YOUR ANSWER HERE\", as well as your name and collaborators below:"
   ]
  },
  {
   "cell_type": "code",
   "execution_count": 4,
   "metadata": {},
   "outputs": [],
   "source": [
    "NAME = \"ROHITH KUMAR POSHALA\"\n",
    "COLLABORATORS = \"\""
   ]
  },
  {
   "cell_type": "markdown",
   "metadata": {},
   "source": [
    "---"
   ]
  },
  {
   "cell_type": "markdown",
   "metadata": {
    "deletable": false,
    "editable": false,
    "nbgrader": {
     "cell_type": "markdown",
     "checksum": "12b7e2cd4d9ae91a5a8db73dc8027335",
     "grade": false,
     "grade_id": "cell-871e03f0ab421082",
     "locked": true,
     "schema_version": 3,
     "solution": false,
     "task": false
    }
   },
   "source": [
    "# Lab 2 Introduction\n",
    "\n",
    "\n",
    "In this lab you will use parse a vcf file to extracts parts of it and load it into a database. \n",
    "The fields you will be parsing from the vcf file are: \n",
    "```\n",
    "CHROM\n",
    "POS\t\n",
    "ID\t\n",
    "REF\t\n",
    "ALT\t\n",
    "QUAL\t\n",
    "FILTER\n",
    "```\n",
    "and from the INFO column, the following fields:\n",
    "```\n",
    "1000g2015aug_all\n",
    "ExAC_ALL\n",
    "FATHMM_pred\n",
    "LRT_pred\n",
    "MetaLR_pred\n",
    "MetaSVM_pred\n",
    "MutationAssessor_pred\n",
    "MutationTaster_pred\n",
    "PROVEAN_pred\n",
    "Polyphen2_HDIV_pred\n",
    "Polyphen2_HVAR_pred\n",
    "SIFT_pred\n",
    "fathmm-MKL_coding_pred.\n",
    "```\n",
    "The fields:\n",
    "```\n",
    "FATHMM_pred\n",
    "LRT_pred\n",
    "MetaLR_pred\n",
    "MetaSVM_pred\n",
    "MutationAssessor_pred\n",
    "MutationTaster_pred\n",
    "PROVEAN_pred\n",
    "Polyphen2_HDIV_pred\n",
    "Polyphen2_HVAR_pred\n",
    "SIFT_pred\n",
    "fathmm-MKL_coding_pred\n",
    "```\n",
    "are predictor fields. They use a letter to indicate whether a given variation is harmful or not.\n",
    "\n",
    "NOTE: use the helper functions in cell2. To use them, you have to run CELL 2! \n"
   ]
  },
  {
   "cell_type": "code",
   "execution_count": 5,
   "metadata": {
    "deletable": false,
    "editable": false,
    "nbgrader": {
     "cell_type": "code",
     "checksum": "426d1dc6b36f5faa3f8057e38cfe1772",
     "grade": false,
     "grade_id": "cell-feb13f7a74dea8c4",
     "locked": true,
     "schema_version": 3,
     "solution": false,
     "task": false
    }
   },
   "outputs": [],
   "source": [
    "## Helper functions\n",
    "\n",
    "import os\n",
    "import sqlite3\n",
    "from sqlite3 import Error\n",
    "import gzip\n",
    "\n",
    "def create_connection(db_file, delete_db=False):\n",
    "    if delete_db and os.path.exists(db_file):\n",
    "        os.remove(db_file)\n",
    "    conn = None\n",
    "    try:\n",
    "        conn = sqlite3.connect(db_file)\n",
    "        conn.execute(\"PRAGMA foreign_keys = 1\")\n",
    "    except Error as e:\n",
    "        print(e)\n",
    "\n",
    "    return conn\n",
    "\n",
    "\n",
    "def create_table(conn, create_table_sql):\n",
    "    try:\n",
    "        c = conn.cursor()\n",
    "        c.execute(create_table_sql)\n",
    "    except Error as e:\n",
    "        print(e)\n",
    "\n"
   ]
  },
  {
   "cell_type": "markdown",
   "metadata": {
    "deletable": false,
    "editable": false,
    "nbgrader": {
     "cell_type": "markdown",
     "checksum": "36cb99791ce23b9f9113fc6870c1cd39",
     "grade": false,
     "grade_id": "cell-61ba7bcac2d80e58",
     "locked": true,
     "schema_version": 3,
     "solution": false,
     "task": false
    }
   },
   "source": [
    "# Part 1 (10 pts)\n",
    "\n",
    "In part1 you will open the gzipped vcf file using the python gzip module and figure out all the possible values for the predictor fields. \n",
    "\n",
    "You do not have to unzip the file. Use `with gzip.open(filename,'rt') as fp:` to read one line at a time. \n",
    "\n"
   ]
  },
  {
   "cell_type": "code",
   "execution_count": 6,
   "metadata": {
    "deletable": false,
    "nbgrader": {
     "cell_type": "code",
     "checksum": "8177d929dc2e030a3e56658d1bc0a399",
     "grade": false,
     "grade_id": "cell-6220a32f79b3dbc2",
     "locked": false,
     "schema_version": 3,
     "solution": true,
     "task": false
    }
   },
   "outputs": [],
   "source": [
    "def get_predictor_values(filename):\n",
    "    \"\"\"\n",
    "    See part 1 description \n",
    "    \"\"\"\n",
    "    import gzip\n",
    "\n",
    "   \n",
    "    keys_save_value = [\n",
    "        'FATHMM_pred',\n",
    "        'LRT_pred',\n",
    "        'MetaLR_pred',\n",
    "        'MetaSVM_pred',\n",
    "        'MutationAssessor_pred',\n",
    "        'MutationTaster_pred',\n",
    "        'PROVEAN_pred',\n",
    "        'Polyphen2_HDIV_pred',\n",
    "        'Polyphen2_HVAR_pred',\n",
    "        'SIFT_pred',\n",
    "        'fathmm-MKL_coding_pred',\n",
    "    ]\n",
    "\n",
    "    # YOUR CODE HERE\n",
    "    with gzip.open(filename,'rt') as fp :\n",
    "        header=[]\n",
    "        line=[]\n",
    "        for l in fp:\n",
    "            if l.startswith('##'):\n",
    "                continue # lines starting with double hash are skipped\n",
    "            else:\n",
    "                if l.startswith('#'):\n",
    "                    header.append(l.strip()[1:])\n",
    "                else:\n",
    "                    line.append(l.strip())                   \n",
    "    index = [header[0].split(\"\\t\").index(i) for i in header[0].split(\"\\t\") if i == 'INFO'][0]\n",
    "    predictor_dict = {}\n",
    "    key_list = []\n",
    "    for j in line :\n",
    "        llist = j.split(\"\\t\")\n",
    "        info_list = llist[index].split(\";\")\n",
    "        for k in info_list:\n",
    "            if '=' in k :\n",
    "                int_list = []\n",
    "                k_v_list = k.split(\"=\")\n",
    "                if k_v_list[0] in keys_save_value :\n",
    "                    if k_v_list[0] not in key_list:\n",
    "                        key_list.append(k_v_list[0])\n",
    "                        if k_v_list[1] != '.':\n",
    "                            int_list.append(k_v_list[1])\n",
    "                        predictor_dict.update({k_v_list[0]:int_list})\n",
    "                    else :\n",
    "                        if k_v_list[1] != '.' and k_v_list[1] not in predictor_dict[k_v_list[0]]:\n",
    "                            predictor_dict[k_v_list[0]].append(k_v_list[1])\n",
    "    return predictor_dict\n",
    "\n",
    "    raise NotImplementedError()\n"
   ]
  },
  {
   "cell_type": "code",
   "execution_count": 7,
   "metadata": {},
   "outputs": [],
   "source": [
    "# filename = 'test_4families_annovar.vcf.gz'\n",
    "# predictor_values = get_predictor_values(filename)\n",
    "# from pprint import pprint\n",
    "# pprint(predictor_values)"
   ]
  },
  {
   "cell_type": "code",
   "execution_count": 8,
   "metadata": {
    "deletable": false,
    "editable": false,
    "nbgrader": {
     "cell_type": "code",
     "checksum": "516936ec4947c069cb1abe1becfd97ff",
     "grade": true,
     "grade_id": "cell-70269f3e534eaa6a",
     "locked": true,
     "points": 10,
     "schema_version": 3,
     "solution": false,
     "task": false
    }
   },
   "outputs": [],
   "source": [
    "\n",
    "## Can take 30 seconds to run!\n",
    "expected_solution = {'SIFT_pred': ['D', 'T'], 'Polyphen2_HDIV_pred': ['D', 'B', 'P'], 'Polyphen2_HVAR_pred': ['D', 'B', 'P'], 'LRT_pred': ['D', 'N', 'U'], 'MutationTaster_pred': ['D', 'P', 'N', 'A'], 'MutationAssessor_pred': ['H', 'N', 'L', 'M'], 'FATHMM_pred': ['T', 'D'], 'PROVEAN_pred': ['D', 'N'], 'MetaSVM_pred': ['D', 'T'], 'MetaLR_pred': ['D', 'T'], 'fathmm-MKL_coding_pred': ['D', 'N']}\n",
    "filename = 'test_4families_annovar.vcf.gz'\n",
    "predictor_values = get_predictor_values(filename)\n",
    "assert predictor_values == expected_solution\n",
    "\n"
   ]
  },
  {
   "cell_type": "markdown",
   "metadata": {
    "deletable": false,
    "editable": false,
    "nbgrader": {
     "cell_type": "markdown",
     "checksum": "02e49d29c39c13db3e1374b2d2d9c278",
     "grade": false,
     "grade_id": "cell-70ccec7c3ed8b326",
     "locked": true,
     "schema_version": 3,
     "solution": false,
     "task": false
    }
   },
   "source": [
    "# Part 2 (No points)\n",
    "\n",
    "You will now create 13 tables\n",
    "Tables 1-11 will be for :\n",
    "\n",
    "FATHMM_pred\n",
    "LRT_pred \n",
    "MetaLR_pred\n",
    "MetaSVM_pred\n",
    "MutationAssessor_pred\n",
    "MutationTaster_pred\n",
    "PROVEAN_pred\n",
    "Polyphen2_HDIV_pred\n",
    "Polyphen2_HVAR_pred\n",
    "SIFT_pred\n",
    "fathmm_MKL_coding_pred ## NOTE: I have replaced the dash with an underscore. \n",
    "\n",
    "The first column for each of these tables will be the name of the field + ID, e.g., FATHMM_predID. This\n",
    "column will be of type not null primary key. The second column will be called `prediction` and will be of\n",
    "type TEXT not null. The prediction values will be values you extracted for each of the fields in the previous step. \n",
    "For example, 'FATHMM_pred' has two prediction values 'T' and 'D'. Name the tables after their field name, e.g.,  \n",
    "call table that will contains values of FATHMM_pred `FATHMM_pred`.  Make sure to sort the values, meaning, D should \n",
    "be inserted before T. \n",
    "\n",
    "\n",
    "Table 12 will be the Variants table. \n",
    "The first column will be VariantID. \n",
    "\n",
    "The other columns will be:\n",
    "CHROM   \n",
    "POS \n",
    "ID  \n",
    "REF \n",
    "ALT \n",
    "QUAL    \n",
    "FILTER\n",
    "thousandg2015aug_all ##NOTE: a column name cannot start with a number, so you have to rename!\n",
    "ExAC_ALL\n",
    "\n",
    "\n",
    "Table 12 will have 11 more columns that relate to each of prediction table. Consider writing a utility function\n",
    "to fetch the primary key for a given prediction from each of the prediction table. Name each of the \n",
    "column should be the name of predictor + ID, e.g., FATHMM_predID. \n",
    "\n",
    "\n",
    "You have already deteremined their data type, so use that to set their data type. \n",
    "For integer use INTEGER. \n",
    "For float use REAL. \n",
    "For string use TEXT. \n",
    "\n",
    "Table 13  will be called PredictionStats. The first column will be PredictorStatsID INTEGER NOT NULL PRIMARY KEY. \n",
    "The second column will be VariantID. The third column will be PredictorName. The fourth column will be PredictorValue. \n",
    "This is not a normalized table!\n",
    "\n",
    "The prediction value will be a float value mapped from the prediction text.  Use the following information to \n",
    "assign values: \n",
    "REF: https://brb.nci.nih.gov/seqtools/colexpanno.html#dbnsfp\n",
    "\n",
    "FATHMM_pred\n",
    "- T = 0\n",
    "- D = 1\n",
    "\n",
    "LRT_pred \n",
    "- D = 1\n",
    "- N = 0\n",
    "- U = 0\n",
    "\n",
    "MetaLR_pred\n",
    "- T = 0\n",
    "- D = 1\n",
    "\n",
    "MetaSVM_pred\n",
    "- T = 0\n",
    "- D = 1\n",
    "\n",
    "MutationAssessor_pred\n",
    "- H = 1\n",
    "- N = 0\n",
    "- L = 0.25\n",
    "- M = 0.5\n",
    "\n",
    "MutationTaster_pred\n",
    "- D = 1\n",
    "- P = 0\n",
    "- N = 0\n",
    "- A = 1\n",
    "\n",
    "PROVEAN_pred\n",
    "- D = 1\n",
    "- N = 0\n",
    "\n",
    "Polyphen2_HDIV_pred\n",
    "- D = 1\n",
    "- B = 0\n",
    "- P = 0.5\n",
    "\n",
    "Polyphen2_HVAR_pred\n",
    "- D = 1\n",
    "- B = 0\n",
    "- P = 0.5\n",
    "\n",
    "SIFT_pred\n",
    "- D = 1\n",
    "- T = 0\n",
    "\n",
    "fathmm-MKL_coding_pred\n",
    "- D = 1\n",
    "- N = 0\n",
    "\n",
    "\n",
    "```\n",
    "\n",
    "prediction_mapping = {\n",
    "    'FATHMM_pred': {'T': 0, 'D': 1},\n",
    "    'MetaLR_pred': {'T': 0, 'D': 1},\n",
    "    'MetaSVM_pred': {'T': 0, 'D': 1},\n",
    "    'SIFT_pred': {'T': 0, 'D': 1},\n",
    "    'fathmm_MKL_coding_pred': {'D': 1, 'N': 0},\n",
    "    'LRT_pred': {'U': 0, 'N': 0, 'D': 1},\n",
    "    'MutationAssessor_pred': {'H': 1, 'N': 0, 'L': 0.25, 'M': 0.5},  \n",
    "    'MutationTaster_pred': {'D': 1, 'P': 0, 'N': 0, 'A': 1},\n",
    "    'PROVEAN_pred': {'D': 1, 'N': 0},\n",
    "    'Polyphen2_HDIV_pred': {'D': 1, 'B': 0, 'P': 0.5},\n",
    "    'Polyphen2_HVAR_pred': {'D': 1, 'B': 0, 'P': 0.5},\n",
    "}\n",
    "\n",
    "\n",
    "```\n",
    "\n",
    "\n",
    "The idea is that 11 predictors have been used to annotate all the variants in the file. This table combines all that information in one table. \n",
    "By grouping the table based on variantid and summing the prediction values mapped from the prediction text, you can find which variants have a consensus on their being deterimental. \n",
    "\n",
    "IMPORTANT: instead of fathmm-MKL_coding_pred use fathmm_MKL_coding_pred everywhere. \n",
    "HINT: You have to commit the changes you make to the table, otherwise your changes will not be saved. Consider wrapping all changes inside `with conn:`\n",
    "\n",
    "\n"
   ]
  },
  {
   "cell_type": "code",
   "execution_count": 9,
   "metadata": {
    "deletable": false,
    "editable": false,
    "nbgrader": {
     "cell_type": "code",
     "checksum": "b57dd1bbe1b388369abcae0c015ecb8b",
     "grade": false,
     "grade_id": "cell-61cb3b6701bce76d",
     "locked": true,
     "schema_version": 3,
     "solution": false,
     "task": false
    }
   },
   "outputs": [],
   "source": [
    "# Creating lab2.db \n",
    "db_file = 'lab2.db'\n",
    "conn = create_connection(db_file, delete_db=True)\n",
    "conn.close()\n"
   ]
  },
  {
   "cell_type": "code",
   "execution_count": 10,
   "metadata": {
    "deletable": false,
    "nbgrader": {
     "cell_type": "code",
     "checksum": "a0df480570e6750d16a514bd751d3a0f",
     "grade": false,
     "grade_id": "cell-d88abb3c867e6ef4",
     "locked": false,
     "schema_version": 3,
     "solution": true,
     "task": false
    }
   },
   "outputs": [],
   "source": [
    "def create_tables_1_11(db_file):\n",
    "    \"\"\"\n",
    "    Create tables 1 to 11.\n",
    "    \n",
    "    INPUT: db_file -- Name of database file -- eg. lab2.db\n",
    "    \n",
    "    \"\"\"\n",
    "    # YOUR CODE HERE\n",
    "    conn = create_connection(db_file)\n",
    "    with conn :\n",
    "        for key,value in predictor_values.items() : \n",
    "            if '-' in key :\n",
    "                key = key.replace('-','_')\n",
    "            create_table_sql = 'CREATE TABLE ' + key +' ('+ key +'ID INTEGER NOT NULL PRIMARY KEY, ' + 'prediction text NOT NULL);'\n",
    "            create_table(conn, create_table_sql)\n",
    "            value.sort()\n",
    "            c = 0\n",
    "            for j in value :\n",
    "                c += 1\n",
    "                insertsql = 'INSERT INTO ' + key +' ('+ key +'ID , ' + 'prediction) VALUES (?, ?)'\n",
    "                cur = conn.cursor()\n",
    "                cur.execute(insertsql,(c,j))\n",
    "                c = cur.lastrowid\n",
    "            \n",
    "         \n",
    "\n",
    "    \n",
    "#     raise NotImplementedError()\n",
    "\n",
    "db_file = 'lab2.db'    \n",
    "create_tables_1_11(db_file)"
   ]
  },
  {
   "cell_type": "code",
   "execution_count": 11,
   "metadata": {},
   "outputs": [],
   "source": [
    "# conn = create_connection('lab2.db')\n",
    "# with conn :\n",
    "#     a = \"\"\"select * from fathmm_MKL_coding_pred;\"\"\"\n",
    "#     cur = conn.cursor()\n",
    "#     cur.execute(a)\n",
    "#     rows = cur.fetchall()\n",
    "#     for row in rows:\n",
    "#         print(row)    \n",
    "#     rows = cur.execute(\"SELECT name FROM sqlite_master WHERE type='table';\").fetchall()\n",
    "\n",
    "# #     rows = cur.fetchall()\n",
    "#     for row in rows:\n",
    "#         print(row)"
   ]
  },
  {
   "cell_type": "markdown",
   "metadata": {
    "deletable": false,
    "editable": false,
    "nbgrader": {
     "cell_type": "markdown",
     "checksum": "aca29ed5ea6e60f075e133fec0052535",
     "grade": false,
     "grade_id": "cell-ad7a8e7ac0b01d55",
     "locked": true,
     "schema_version": 3,
     "solution": false,
     "task": false
    }
   },
   "source": [
    "# Part 3 (10 pts)\n",
    "\n",
    "Write a function that returns a dictionary that maps for a given predictor its letter prediction to foreign key value. \n",
    "Conver the dash in 'fathmm-MKL_coding_pred' to an underscore. \n"
   ]
  },
  {
   "cell_type": "code",
   "execution_count": 12,
   "metadata": {
    "deletable": false,
    "nbgrader": {
     "cell_type": "code",
     "checksum": "3ea21bf0090fdaced225244d86e1594c",
     "grade": false,
     "grade_id": "cell-c1fed27f8a6c9e23",
     "locked": false,
     "schema_version": 3,
     "solution": true,
     "task": false
    }
   },
   "outputs": [],
   "source": [
    "def get_predictor_value_to_fk_map(db_file):\n",
    "    \"\"\"\n",
    "    See part 3 description \n",
    "    \n",
    "    INPUT: db_file -- Name of database file -- eg. lab2.db\n",
    "    \n",
    "    \"\"\"\n",
    "    # YOUR CODE HERE\n",
    "    conn = create_connection(db_file)\n",
    "    with conn :\n",
    "        dic = {}\n",
    "        for key in predictor_values.keys():\n",
    "            if '-' in key :\n",
    "                key = key.replace('-','_')\n",
    "            cur = conn.cursor()\n",
    "            selectsql = \"SELECT * FROM \"+ key +\";\"\n",
    "            cur.execute(selectsql)\n",
    "            rows = cur.fetchall()\n",
    "            indic = {}\n",
    "            for row in rows:\n",
    "                indic.update({row[1] : row[0]})\n",
    "#                 print(row)\n",
    "            dic.update({key : indic})\n",
    "\n",
    "    return dic\n",
    "    \n",
    "#     raise NotImplementedError()\n"
   ]
  },
  {
   "cell_type": "code",
   "execution_count": 13,
   "metadata": {},
   "outputs": [],
   "source": [
    "# db_file = 'lab2.db'\n",
    "# predictor_fk_map = get_predictor_value_to_fk_map(db_file)\n",
    "# from pprint import pprint\n",
    "# pprint(predictor_fk_map)"
   ]
  },
  {
   "cell_type": "code",
   "execution_count": 14,
   "metadata": {
    "deletable": false,
    "editable": false,
    "nbgrader": {
     "cell_type": "code",
     "checksum": "17e4c380bec42efad7c85fbe769ae80d",
     "grade": true,
     "grade_id": "cell-d6d06a3e0545c576",
     "locked": true,
     "points": 10,
     "schema_version": 3,
     "solution": false,
     "task": false
    }
   },
   "outputs": [],
   "source": [
    "expected_solution = {\n",
    "    'FATHMM_pred': {'D': 1, 'T': 2}, \n",
    "    'LRT_pred': {'D': 1, 'N': 2, 'U': 3}, \n",
    "    'MetaLR_pred': {'D': 1, 'T': 2}, \n",
    "    'MetaSVM_pred': {'D': 1, 'T': 2}, \n",
    "    'MutationAssessor_pred': {'H': 1, 'L': 2, 'M': 3, 'N': 4}, \n",
    "    'MutationTaster_pred': {'A': 1, 'D': 2, 'N': 3, 'P': 4}, \n",
    "    'PROVEAN_pred': {'D': 1, 'N': 2}, \n",
    "    'Polyphen2_HDIV_pred': {'B': 1, 'D': 2, 'P': 3}, \n",
    "    'Polyphen2_HVAR_pred': {'B': 1, 'D': 2, 'P': 3}, \n",
    "    'SIFT_pred': {'D': 1, 'T': 2}, \n",
    "    'fathmm_MKL_coding_pred': {'D': 1, 'N': 2}}\n",
    "\n",
    "db_file = 'lab2.db'\n",
    "predictor_fk_map = get_predictor_value_to_fk_map(db_file)\n",
    "assert predictor_fk_map == expected_solution\n",
    "\n"
   ]
  },
  {
   "cell_type": "markdown",
   "metadata": {
    "deletable": false,
    "editable": false,
    "nbgrader": {
     "cell_type": "markdown",
     "checksum": "bd97e9f0266ecb95bfc6c421df17b062",
     "grade": false,
     "grade_id": "cell-15a658481488bcd7",
     "locked": true,
     "schema_version": 3,
     "solution": false,
     "task": false
    }
   },
   "source": [
    "# Part 4 (No Points)\n",
    "Create table 12 or the variants table. See description above\n"
   ]
  },
  {
   "cell_type": "code",
   "execution_count": 15,
   "metadata": {
    "deletable": false,
    "nbgrader": {
     "cell_type": "code",
     "checksum": "885c0214ddc955d8769e5b1f2014735d",
     "grade": false,
     "grade_id": "cell-86e648d05e51d138",
     "locked": false,
     "schema_version": 3,
     "solution": true,
     "task": false
    }
   },
   "outputs": [],
   "source": [
    "def create_variants_table(db_file):\n",
    "    \"\"\"\n",
    "    Part 4\n",
    "    \"\"\"\n",
    "    # YOUR CODE HERE\n",
    "    variant_list = ['CHROM','POS','ID','REF','ALT','QUAL','FILTER','thousandg2015aug_all','ExAC_ALL']\n",
    "    conn = create_connection(db_file)\n",
    "    with conn :\n",
    "        create_table_sql = '''CREATE TABLE Variants ( VariantID INTEGER NOT NULL PRIMARY KEY)'''\n",
    "        create_table(conn, create_table_sql)\n",
    "        for i in variant_list:\n",
    "#              or i == 'CHROM'\n",
    "            if i == 'POS':\n",
    "                column_type = 'INTEGER'\n",
    "            elif i == 'QUAL' or i == 'thousandg2015aug_all' or i == 'ExAC_ALL':\n",
    "                column_type = 'REAL'\n",
    "            else :\n",
    "                column_type = 'TEXT'\n",
    "            cur = conn.cursor()\n",
    "            cur.execute(\"ALTER TABLE Variants ADD COLUMN '{cn}' {ct}\".format(cn=i, ct=column_type))\n",
    "        key_list = [i for i in predictor_values.keys()]\n",
    "        key_list.sort()\n",
    "        for key in key_list : \n",
    "            if '-' in key :\n",
    "                key = key.replace('-','_')\n",
    "            cur = conn.cursor()\n",
    "            cur.execute('PRAGMA TABLE_INFO({})'.format(key))\n",
    "            table_schema = cur.fetchall()\n",
    "            column_names = [tup[1] for tup in table_schema]\n",
    "            column_types = [tup[2] for tup in table_schema]\n",
    "            cur.execute(\"ALTER TABLE Variants ADD COLUMN '{cn}' {ct}\".format(cn=column_names[0], ct=column_types[0]))\n",
    "        \n",
    "#     raise NotImplementedError()\n",
    "\n",
    "# create table\n",
    "db_file = 'lab2.db'\n",
    "create_variants_table(db_file)\n"
   ]
  },
  {
   "cell_type": "code",
   "execution_count": 16,
   "metadata": {},
   "outputs": [],
   "source": [
    "# conn = create_connection('lab2.db')\n",
    "# with conn :\n",
    "#     cur = conn.cursor()\n",
    "# #     rows = cur.execute(\"SELECT name FROM sqlite_master WHERE type='table';\").fetchall()\n",
    "\n",
    "# #     rows = cur.fetchall()\n",
    "# #     for row in rows:\n",
    "# #         print(row)\n",
    "#     d = 'Variants'\n",
    "#     cur.execute('PRAGMA TABLE_INFO({})'.format(d))\n",
    "#     sd = cur.fetchall()\n",
    "#     column_names = [tup[1] for tup in sd]\n",
    "#     column_types = [tup[2] for tup in sd]\n",
    "# #     a = \"\"\"select * from Variants;\"\"\"\n",
    "# #     cur = conn.cursor()\n",
    "# #     cur.execute(a)\n",
    "#     rows = cur.fetchall()\n",
    "#     for row in rows:\n",
    "#         print(row)    \n",
    "#     print(column_names)\n",
    "#     print(column_types)"
   ]
  },
  {
   "cell_type": "markdown",
   "metadata": {
    "deletable": false,
    "editable": false,
    "nbgrader": {
     "cell_type": "markdown",
     "checksum": "0a07c128ac410b03efbe7c79c8754ae8",
     "grade": false,
     "grade_id": "cell-72d2c7d909ec378f",
     "locked": true,
     "schema_version": 3,
     "solution": false,
     "task": false
    }
   },
   "source": [
    "# Part 5 (No Points)\n",
    "\n",
    "Create table 13 -- or the prediction stats table. See description above. \n"
   ]
  },
  {
   "cell_type": "code",
   "execution_count": 17,
   "metadata": {
    "deletable": false,
    "nbgrader": {
     "cell_type": "code",
     "checksum": "c28e9241740b966cd49b76cbe4d26fca",
     "grade": false,
     "grade_id": "cell-9410edb2ed7c5bb3",
     "locked": false,
     "schema_version": 3,
     "solution": true,
     "task": false
    }
   },
   "outputs": [],
   "source": [
    "def create_predictionstats_table(db_file):\n",
    "    \"\"\"\n",
    "    Part 5   \n",
    "    \"\"\"\n",
    "    # YOUR CODE HERE\n",
    "    conn = create_connection(db_file)\n",
    "    with conn :\n",
    "        create_table_sql = '''CREATE TABLE PredictionStats ( PredictorStatsID INTEGER NOT NULL PRIMARY KEY , VariantID INTEGER , PredictorName TEXT, PredictorValue REAL )'''\n",
    "        create_table(conn, create_table_sql) \n",
    "    \n",
    "#     raise NotImplementedError()\n",
    "    \n",
    "db_file = 'lab2.db'\n",
    "create_predictionstats_table(db_file)"
   ]
  },
  {
   "cell_type": "markdown",
   "metadata": {
    "deletable": false,
    "editable": false,
    "nbgrader": {
     "cell_type": "markdown",
     "checksum": "02ead5219e3bdfecc28282a49807354c",
     "grade": false,
     "grade_id": "cell-aadb54a613358152",
     "locked": true,
     "schema_version": 3,
     "solution": false,
     "task": false
    }
   },
   "source": [
    "# Part 6 (10 Points)\n",
    "\n",
    "Write a function to pull the following info fields given the whole info field. \n",
    "```\n",
    "values_to_pull = [\n",
    "        '1000g2015aug_all',\n",
    "        'ExAC_ALL',\n",
    "        'FATHMM_pred',\n",
    "        'LRT_pred',\n",
    "        'MetaLR_pred',\n",
    "        'MetaSVM_pred',\n",
    "        'MutationAssessor_pred',\n",
    "        'MutationTaster_pred',\n",
    "        'PROVEAN_pred',\n",
    "        'Polyphen2_HDIV_pred',\n",
    "        'Polyphen2_HVAR_pred',\n",
    "        'SIFT_pred',\n",
    "        'fathmm-MKL_coding_pred',\n",
    "    ]\n",
    "```\n"
   ]
  },
  {
   "cell_type": "code",
   "execution_count": 18,
   "metadata": {
    "deletable": false,
    "nbgrader": {
     "cell_type": "code",
     "checksum": "85c2cba7f4ac522754215f18c414e225",
     "grade": false,
     "grade_id": "cell-1a912b3aacdae96d",
     "locked": false,
     "schema_version": 3,
     "solution": true,
     "task": false
    }
   },
   "outputs": [],
   "source": [
    "def pull_info_values(info):\n",
    "    \"\"\"\n",
    "    See part 6 description\n",
    "    \"\"\"\n",
    "    # YOUR CODE HERE\n",
    "    values_to_pull = [\n",
    "        '1000g2015aug_all',\n",
    "        'ExAC_ALL',\n",
    "        'FATHMM_pred',\n",
    "        'LRT_pred',\n",
    "        'MetaLR_pred',\n",
    "        'MetaSVM_pred',\n",
    "        'MutationAssessor_pred',\n",
    "        'MutationTaster_pred',\n",
    "        'PROVEAN_pred',\n",
    "        'Polyphen2_HDIV_pred',\n",
    "        'Polyphen2_HVAR_pred',\n",
    "        'SIFT_pred',\n",
    "        'fathmm-MKL_coding_pred',\n",
    "    ]\n",
    "    \n",
    "    dic_info_values = {}\n",
    "    info_list = info.split(\";\")\n",
    "    for j in info_list:\n",
    "        j.strip()\n",
    "        if '=' in j :\n",
    "            k_v_list = j.split(\"=\")\n",
    "            if k_v_list[0] in values_to_pull :\n",
    "                if '1000' in k_v_list[0] :\n",
    "                    k_v_list[0] = k_v_list[0].replace('1000','thousand')\n",
    "                elif '-' in k_v_list[0] :\n",
    "                    k_v_list[0] = k_v_list[0].replace('-','_')\n",
    "#                     k_v_list[0] = 'thousandg2015aug_all'\n",
    "                dic_info_values.update({k_v_list[0]:k_v_list[1]})\n",
    "    return dic_info_values\n",
    "    \n",
    "#     raise NotImplementedError()\n",
    "\n"
   ]
  },
  {
   "cell_type": "code",
   "execution_count": 19,
   "metadata": {},
   "outputs": [],
   "source": [
    "# sample_info_input = \"AC=2;AF=0.333;AN=6;BaseQRankSum=2.23;ClippingRankSum=0;DP=131;ExcessHet=3.9794;FS=2.831;MLEAC=2;MLEAF=0.333;MQ=60;MQRankSum=0;QD=12.06;ReadPosRankSum=-0.293;SOR=0.592;VQSLOD=21.79;culprit=MQ;DB;POSITIVE_TRAIN_SITE;ANNOVAR_DATE=2018-04-16;Func.refGene=exonic;Gene.refGene=MAST2;GeneDetail.refGene=.;ExonicFunc.refGene=nonsynonymous_SNV;AAChange.refGene=MAST2:NM_015112:exon29:c.G3910A:p.V1304M;Func.ensGene=exonic;Gene.ensGene=ENSG00000086015;GeneDetail.ensGene=.;ExonicFunc.ensGene=nonsynonymous_SNV;AAChange.ensGene=ENSG00000086015:ENST00000361297:exon29:c.G3910A:p.V1304M;cytoBand=1p34.1;gwasCatalog=.;tfbsConsSites=.;wgRna=.;targetScanS=.;Gene_symbol=.;OXPHOS_Complex=.;Ensembl_Gene_ID=.;Ensembl_Protein_ID=.;Uniprot_Name=.;Uniprot_ID=.;NCBI_Gene_ID=.;NCBI_Protein_ID=.;Gene_pos=.;AA_pos=.;AA_sub=.;Codon_sub=.;dbSNP_ID=.;PhyloP_46V=.;PhastCons_46V=.;PhyloP_100V=.;PhastCons_100V=.;SiteVar=.;PolyPhen2_prediction=.;PolyPhen2_score=.;SIFT_prediction=.;SIFT_score=.;FatHmm_prediction=.;FatHmm_score=.;PROVEAN_prediction=.;PROVEAN_score=.;MutAss_prediction=.;MutAss_score=.;EFIN_Swiss_Prot_Score=.;EFIN_Swiss_Prot_Prediction=.;EFIN_HumDiv_Score=.;EFIN_HumDiv_Prediction=.;CADD_score=.;CADD_Phred_score=.;CADD_prediction=.;Carol_prediction=.;Carol_score=.;Condel_score=.;Condel_pred=.;COVEC_WMV=.;COVEC_WMV_prediction=.;PolyPhen2_score_transf=.;PolyPhen2_pred_transf=.;SIFT_score_transf=.;SIFT_pred_transf=.;MutAss_score_transf=.;MutAss_pred_transf=.;Perc_coevo_Sites=.;Mean_MI_score=.;COSMIC_ID=.;Tumor_site=.;Examined_samples=.;Mutation_frequency=.;US=.;Status=.;Associated_disease=.;Presence_in_TD=.;Class_predicted=.;Prob_N=.;Prob_P=.;SIFT_score=0.034;SIFT_converted_rankscore=0.440;SIFT_pred=D;Polyphen2_HDIV_score=0.951;Polyphen2_HDIV_rankscore=0.520;Polyphen2_HDIV_pred=P;Polyphen2_HVAR_score=0.514;Polyphen2_HVAR_rankscore=0.462;Polyphen2_HVAR_pred=P;LRT_score=0.002;LRT_converted_rankscore=0.368;LRT_pred=N;MutationTaster_score=1.000;MutationTaster_converted_rankscore=0.810;MutationTaster_pred=D;MutationAssessor_score=1.67;MutationAssessor_score_rankscore=0.430;MutationAssessor_pred=L;FATHMM_score=1.36;FATHMM_converted_rankscore=0.344;FATHMM_pred=T;PROVEAN_score=-1.4;PROVEAN_converted_rankscore=0.346;PROVEAN_pred=N;VEST3_score=0.158;VEST3_rankscore=0.189;MetaSVM_score=-1.142;MetaSVM_rankscore=0.013;MetaSVM_pred=T;MetaLR_score=0.008;MetaLR_rankscore=0.029;MetaLR_pred=T;M-CAP_score=.;M-CAP_rankscore=.;M-CAP_pred=.;CADD_raw=4.716;CADD_raw_rankscore=0.632;CADD_phred=24.6;DANN_score=0.998;DANN_rankscore=0.927;fathmm-MKL_coding_score=0.900;fathmm-MKL_coding_rankscore=0.506;fathmm-MKL_coding_pred=D;Eigen_coding_or_noncoding=c;Eigen-raw=0.461;Eigen-PC-raw=0.469;GenoCanyon_score=1.000;GenoCanyon_score_rankscore=0.747;integrated_fitCons_score=0.672;integrated_fitCons_score_rankscore=0.522;integrated_confidence_value=0;GERP++_RS=4.22;GERP++_RS_rankscore=0.490;phyloP100way_vertebrate=4.989;phyloP100way_vertebrate_rankscore=0.634;phyloP20way_mammalian=1.047;phyloP20way_mammalian_rankscore=0.674;phastCons100way_vertebrate=1.000;phastCons100way_vertebrate_rankscore=0.715;phastCons20way_mammalian=0.999;phastCons20way_mammalian_rankscore=0.750;SiPhy_29way_logOdds=17.151;SiPhy_29way_logOdds_rankscore=0.866;Interpro_domain=.;GTEx_V6_gene=ENSG00000162415.6;GTEx_V6_tissue=Nerve_Tibial;esp6500siv2_all=0.0560;esp6500siv2_aa=0.0160;esp6500siv2_ea=0.0761;ExAC_ALL=0.0553;ExAC_AFR=0.0140;ExAC_AMR=0.0386;ExAC_EAS=0.0005;ExAC_FIN=0.0798;ExAC_NFE=0.0788;ExAC_OTH=0.0669;ExAC_SAS=0.0145;ExAC_nontcga_ALL=0.0541;ExAC_nontcga_AFR=0.0129;ExAC_nontcga_AMR=0.0379;ExAC_nontcga_EAS=0.0004;ExAC_nontcga_FIN=0.0798;ExAC_nontcga_NFE=0.0802;ExAC_nontcga_OTH=0.0716;ExAC_nontcga_SAS=0.0144;ExAC_nonpsych_ALL=0.0496;ExAC_nonpsych_AFR=0.0140;ExAC_nonpsych_AMR=0.0386;ExAC_nonpsych_EAS=0.0005;ExAC_nonpsych_FIN=0.0763;ExAC_nonpsych_NFE=0.0785;ExAC_nonpsych_OTH=0.0638;ExAC_nonpsych_SAS=0.0145;1000g2015aug_all=0.024361;1000g2015aug_afr=0.0038;1000g2015aug_amr=0.0461;1000g2015aug_eur=0.0795;1000g2015aug_sas=0.0041;CLNALLELEID=.;CLNDN=.;CLNDISDB=.;CLNREVSTAT=.;CLNSIG=.;dbscSNV_ADA_SCORE=.;dbscSNV_RF_SCORE=.;snp138NonFlagged=rs33931638;avsnp150=rs33931638;CADD13_RawScore=4.716301;CADD13_PHRED=24.6;Eigen=0.4614;REVEL=0.098;MCAP=.;Interpro_domain=.;ICGC_Id=.;ICGC_Occurrence=.;gnomAD_genome_ALL=0.0507;gnomAD_genome_AFR=0.0114;gnomAD_genome_AMR=0.0430;gnomAD_genome_ASJ=0.1159;gnomAD_genome_EAS=0;gnomAD_genome_FIN=0.0802;gnomAD_genome_NFE=0.0702;gnomAD_genome_OTH=0.0695;gerp++gt2=4.22;cosmic70=.;InterVar_automated=Benign;PVS1=0;PS1=0;PS2=0;PS3=0;PS4=0;PM1=0;PM2=0;PM3=0;PM4=0;PM5=0;PM6=0;PP1=0;PP2=0;PP3=0;PP4=0;PP5=0;BA1=1;BS1=1;BS2=0;BS3=0;BS4=0;BP1=0;BP2=0;BP3=0;BP4=0;BP5=0;BP6=0;BP7=0;Kaviar_AF=0.0552127;Kaviar_AC=8536;Kaviar_AN=154602;ALLELE_END\"\n",
    "\n",
    "# solution  = pull_info_values(sample_info_input)\n",
    "# from pprint import pprint\n",
    "# pprint(solution)"
   ]
  },
  {
   "cell_type": "code",
   "execution_count": 20,
   "metadata": {
    "deletable": false,
    "editable": false,
    "nbgrader": {
     "cell_type": "code",
     "checksum": "2fe3587c07040e2cff40d0d2a5969ed5",
     "grade": true,
     "grade_id": "cell-daa4d9dd1bb8e921",
     "locked": true,
     "points": 10,
     "schema_version": 3,
     "solution": false,
     "task": false
    }
   },
   "outputs": [],
   "source": [
    "sample_info_input = \"AC=2;AF=0.333;AN=6;BaseQRankSum=2.23;ClippingRankSum=0;DP=131;ExcessHet=3.9794;FS=2.831;MLEAC=2;MLEAF=0.333;MQ=60;MQRankSum=0;QD=12.06;ReadPosRankSum=-0.293;SOR=0.592;VQSLOD=21.79;culprit=MQ;DB;POSITIVE_TRAIN_SITE;ANNOVAR_DATE=2018-04-16;Func.refGene=exonic;Gene.refGene=MAST2;GeneDetail.refGene=.;ExonicFunc.refGene=nonsynonymous_SNV;AAChange.refGene=MAST2:NM_015112:exon29:c.G3910A:p.V1304M;Func.ensGene=exonic;Gene.ensGene=ENSG00000086015;GeneDetail.ensGene=.;ExonicFunc.ensGene=nonsynonymous_SNV;AAChange.ensGene=ENSG00000086015:ENST00000361297:exon29:c.G3910A:p.V1304M;cytoBand=1p34.1;gwasCatalog=.;tfbsConsSites=.;wgRna=.;targetScanS=.;Gene_symbol=.;OXPHOS_Complex=.;Ensembl_Gene_ID=.;Ensembl_Protein_ID=.;Uniprot_Name=.;Uniprot_ID=.;NCBI_Gene_ID=.;NCBI_Protein_ID=.;Gene_pos=.;AA_pos=.;AA_sub=.;Codon_sub=.;dbSNP_ID=.;PhyloP_46V=.;PhastCons_46V=.;PhyloP_100V=.;PhastCons_100V=.;SiteVar=.;PolyPhen2_prediction=.;PolyPhen2_score=.;SIFT_prediction=.;SIFT_score=.;FatHmm_prediction=.;FatHmm_score=.;PROVEAN_prediction=.;PROVEAN_score=.;MutAss_prediction=.;MutAss_score=.;EFIN_Swiss_Prot_Score=.;EFIN_Swiss_Prot_Prediction=.;EFIN_HumDiv_Score=.;EFIN_HumDiv_Prediction=.;CADD_score=.;CADD_Phred_score=.;CADD_prediction=.;Carol_prediction=.;Carol_score=.;Condel_score=.;Condel_pred=.;COVEC_WMV=.;COVEC_WMV_prediction=.;PolyPhen2_score_transf=.;PolyPhen2_pred_transf=.;SIFT_score_transf=.;SIFT_pred_transf=.;MutAss_score_transf=.;MutAss_pred_transf=.;Perc_coevo_Sites=.;Mean_MI_score=.;COSMIC_ID=.;Tumor_site=.;Examined_samples=.;Mutation_frequency=.;US=.;Status=.;Associated_disease=.;Presence_in_TD=.;Class_predicted=.;Prob_N=.;Prob_P=.;SIFT_score=0.034;SIFT_converted_rankscore=0.440;SIFT_pred=D;Polyphen2_HDIV_score=0.951;Polyphen2_HDIV_rankscore=0.520;Polyphen2_HDIV_pred=P;Polyphen2_HVAR_score=0.514;Polyphen2_HVAR_rankscore=0.462;Polyphen2_HVAR_pred=P;LRT_score=0.002;LRT_converted_rankscore=0.368;LRT_pred=N;MutationTaster_score=1.000;MutationTaster_converted_rankscore=0.810;MutationTaster_pred=D;MutationAssessor_score=1.67;MutationAssessor_score_rankscore=0.430;MutationAssessor_pred=L;FATHMM_score=1.36;FATHMM_converted_rankscore=0.344;FATHMM_pred=T;PROVEAN_score=-1.4;PROVEAN_converted_rankscore=0.346;PROVEAN_pred=N;VEST3_score=0.158;VEST3_rankscore=0.189;MetaSVM_score=-1.142;MetaSVM_rankscore=0.013;MetaSVM_pred=T;MetaLR_score=0.008;MetaLR_rankscore=0.029;MetaLR_pred=T;M-CAP_score=.;M-CAP_rankscore=.;M-CAP_pred=.;CADD_raw=4.716;CADD_raw_rankscore=0.632;CADD_phred=24.6;DANN_score=0.998;DANN_rankscore=0.927;fathmm-MKL_coding_score=0.900;fathmm-MKL_coding_rankscore=0.506;fathmm-MKL_coding_pred=D;Eigen_coding_or_noncoding=c;Eigen-raw=0.461;Eigen-PC-raw=0.469;GenoCanyon_score=1.000;GenoCanyon_score_rankscore=0.747;integrated_fitCons_score=0.672;integrated_fitCons_score_rankscore=0.522;integrated_confidence_value=0;GERP++_RS=4.22;GERP++_RS_rankscore=0.490;phyloP100way_vertebrate=4.989;phyloP100way_vertebrate_rankscore=0.634;phyloP20way_mammalian=1.047;phyloP20way_mammalian_rankscore=0.674;phastCons100way_vertebrate=1.000;phastCons100way_vertebrate_rankscore=0.715;phastCons20way_mammalian=0.999;phastCons20way_mammalian_rankscore=0.750;SiPhy_29way_logOdds=17.151;SiPhy_29way_logOdds_rankscore=0.866;Interpro_domain=.;GTEx_V6_gene=ENSG00000162415.6;GTEx_V6_tissue=Nerve_Tibial;esp6500siv2_all=0.0560;esp6500siv2_aa=0.0160;esp6500siv2_ea=0.0761;ExAC_ALL=0.0553;ExAC_AFR=0.0140;ExAC_AMR=0.0386;ExAC_EAS=0.0005;ExAC_FIN=0.0798;ExAC_NFE=0.0788;ExAC_OTH=0.0669;ExAC_SAS=0.0145;ExAC_nontcga_ALL=0.0541;ExAC_nontcga_AFR=0.0129;ExAC_nontcga_AMR=0.0379;ExAC_nontcga_EAS=0.0004;ExAC_nontcga_FIN=0.0798;ExAC_nontcga_NFE=0.0802;ExAC_nontcga_OTH=0.0716;ExAC_nontcga_SAS=0.0144;ExAC_nonpsych_ALL=0.0496;ExAC_nonpsych_AFR=0.0140;ExAC_nonpsych_AMR=0.0386;ExAC_nonpsych_EAS=0.0005;ExAC_nonpsych_FIN=0.0763;ExAC_nonpsych_NFE=0.0785;ExAC_nonpsych_OTH=0.0638;ExAC_nonpsych_SAS=0.0145;1000g2015aug_all=0.024361;1000g2015aug_afr=0.0038;1000g2015aug_amr=0.0461;1000g2015aug_eur=0.0795;1000g2015aug_sas=0.0041;CLNALLELEID=.;CLNDN=.;CLNDISDB=.;CLNREVSTAT=.;CLNSIG=.;dbscSNV_ADA_SCORE=.;dbscSNV_RF_SCORE=.;snp138NonFlagged=rs33931638;avsnp150=rs33931638;CADD13_RawScore=4.716301;CADD13_PHRED=24.6;Eigen=0.4614;REVEL=0.098;MCAP=.;Interpro_domain=.;ICGC_Id=.;ICGC_Occurrence=.;gnomAD_genome_ALL=0.0507;gnomAD_genome_AFR=0.0114;gnomAD_genome_AMR=0.0430;gnomAD_genome_ASJ=0.1159;gnomAD_genome_EAS=0;gnomAD_genome_FIN=0.0802;gnomAD_genome_NFE=0.0702;gnomAD_genome_OTH=0.0695;gerp++gt2=4.22;cosmic70=.;InterVar_automated=Benign;PVS1=0;PS1=0;PS2=0;PS3=0;PS4=0;PM1=0;PM2=0;PM3=0;PM4=0;PM5=0;PM6=0;PP1=0;PP2=0;PP3=0;PP4=0;PP5=0;BA1=1;BS1=1;BS2=0;BS3=0;BS4=0;BP1=0;BP2=0;BP3=0;BP4=0;BP5=0;BP6=0;BP7=0;Kaviar_AF=0.0552127;Kaviar_AC=8536;Kaviar_AN=154602;ALLELE_END\"\n",
    "\n",
    "expected_solution = {\n",
    "    'thousandg2015aug_all': '0.024361', \n",
    "    'ExAC_ALL': '0.0553', \n",
    "    'SIFT_pred': 'D', \n",
    "    'Polyphen2_HDIV_pred': 'P', \n",
    "    'Polyphen2_HVAR_pred': 'P', \n",
    "    'LRT_pred': 'N',\n",
    "    'MutationTaster_pred': 'D', \n",
    "    'MutationAssessor_pred': 'L', \n",
    "    'FATHMM_pred': 'T', \n",
    "    'PROVEAN_pred': 'N', \n",
    "    'MetaSVM_pred': 'T', \n",
    "    'MetaLR_pred': 'T', \n",
    "    'fathmm_MKL_coding_pred': 'D'\n",
    "}\n",
    "\n",
    "\n",
    "solution  = pull_info_values(sample_info_input)\n",
    "assert solution == expected_solution\n"
   ]
  },
  {
   "cell_type": "markdown",
   "metadata": {
    "deletable": false,
    "editable": false,
    "nbgrader": {
     "cell_type": "markdown",
     "checksum": "7db3c8a9dd9b9bcad14056f34bfb1357",
     "grade": false,
     "grade_id": "cell-5c6808c0fa04ea2e",
     "locked": true,
     "schema_version": 3,
     "solution": false,
     "task": false
    }
   },
   "source": [
    "# Part 7 (10 points)\n",
    "\n",
    "Remember that to insert a record in SQLite, you have to use `cur.execute(sql, values)`, where `sql` is the insert statement and `values` is a list/tuple of values that will be substituted into the `sql` string wherever there is a question mark. \n",
    "\n",
    "Write a function that takes in as input: CHROM, POS, ID, REF, ALT, QUAL, FILTER, info_values and returns a list with the values in the following order:\n",
    "```\n",
    "CHROM \n",
    "POS\n",
    "ID\n",
    "REF\n",
    "ALT\n",
    "QUAL\n",
    "FILTER\n",
    "thousandg2015aug_all # 1000 has been replaced by the text thousand\n",
    "ExAC_ALL\n",
    "FATHMM_pred\n",
    "LRT_pred\n",
    "MetaLR_pred\n",
    "MetaSVM_pred\n",
    "MutationAssessor_pred\n",
    "MutationTaster_pred\n",
    "PROVEAN_pred\n",
    "Polyphen2_HDIV_pred\n",
    "Polyphen2_HVAR_pred\n",
    "SIFT_pred\n",
    "fathmm_MKL_coding_pred # note that the dash has been replaced by underscore\n",
    "```\n",
    "\n",
    "The info_values dictionary contains the predictor values. Use `None` for any empty/missing value for info fields, thousandg2015aug_all, and ExAC_ALL. \n",
    "\n"
   ]
  },
  {
   "cell_type": "code",
   "execution_count": 21,
   "metadata": {
    "deletable": false,
    "nbgrader": {
     "cell_type": "code",
     "checksum": "36cd8d7cf36596717f5cc7647ef3accb",
     "grade": false,
     "grade_id": "cell-64622ed1cd1edf93",
     "locked": false,
     "schema_version": 3,
     "solution": true,
     "task": false
    }
   },
   "outputs": [],
   "source": [
    "def build_values_list(CHROM, POS, ID, REF, ALT, QUAL, FILTER, info_values):\n",
    "    \"\"\"\n",
    "    See part 7 description \n",
    "    \n",
    "    \"\"\"\n",
    "    # YOUR CODE HERE\n",
    "    build_values = [CHROM, POS, ID, REF, ALT, QUAL, FILTER]\n",
    "    \n",
    "    temp = 'thousandg2015aug_all'\n",
    "    if temp in info_values.keys():\n",
    "        if info_values[temp] == '' or info_values[temp] == '.':\n",
    "                info_values[temp] = None \n",
    "        build_values.append(info_values[temp])\n",
    "    else : build_values.append(None)\n",
    "    temp = 'ExAC_ALL'\n",
    "    if temp in info_values.keys():\n",
    "        if info_values[temp] == '' or info_values[temp] == '.':\n",
    "                info_values[temp] = None \n",
    "        build_values.append(info_values[temp])\n",
    "    else : build_values.append(None) \n",
    "        \n",
    "    key_list = [i for i in predictor_fk_map.keys()]\n",
    "    key_list.sort()\n",
    "    for key in key_list:\n",
    "        if key in info_values:\n",
    "\n",
    "            if '-' in key :\n",
    "                key = key.replace('-','_')\n",
    "            if info_values[key] in predictor_fk_map[key].keys() :\n",
    "                build_values.append(predictor_fk_map[key][info_values[key]])\n",
    "            else : build_values.append(None)\n",
    "        else : build_values.append(None)\n",
    "            \n",
    "    return build_values\n",
    "        \n",
    "        \n",
    "        \n",
    "    \n",
    "#     raise NotImplementedError()\n",
    "\n"
   ]
  },
  {
   "cell_type": "code",
   "execution_count": 22,
   "metadata": {
    "deletable": false,
    "editable": false,
    "nbgrader": {
     "cell_type": "code",
     "checksum": "93470c7dfca66199ca14302923f9bc8c",
     "grade": true,
     "grade_id": "cell-c318c4d870f5531b",
     "locked": true,
     "points": 10,
     "schema_version": 3,
     "solution": false,
     "task": false
    }
   },
   "outputs": [],
   "source": [
    "CHROM, POS, ID, REF, ALT, QUAL, FILTER = (7, 87837848, '.', 'C', 'A', 418.25, 'PASS') \n",
    "info_values = {'SIFT_pred': 'D', 'Polyphen2_HDIV_pred': 'D', 'Polyphen2_HVAR_pred': 'D', 'LRT_pred': 'D', 'MutationTaster_pred': 'D', 'MutationAssessor_pred': 'H', 'FATHMM_pred': 'T', 'PROVEAN_pred': 'D', 'MetaSVM_pred': 'D', 'MetaLR_pred': 'D', 'fathmm_MKL_coding_pred': 'D'}\n",
    "\n",
    "results = build_values_list(CHROM, POS, ID, REF, ALT, QUAL, FILTER, info_values)\n",
    "expected_results = [7, 87837848, '.', 'C', 'A', 418.25, 'PASS', None, None, 2, 1, 1, 1, 1, 2, 1, 2, 2, 1, 1]\n",
    "assert results == expected_results\n"
   ]
  },
  {
   "cell_type": "markdown",
   "metadata": {
    "deletable": false,
    "editable": false,
    "nbgrader": {
     "cell_type": "markdown",
     "checksum": "58711bb5e6292a433b4e091e05877edd",
     "grade": false,
     "grade_id": "cell-95cecd8da8b89c54",
     "locked": true,
     "schema_version": 3,
     "solution": false,
     "task": false
    }
   },
   "source": [
    "# Part 8 (No Points)\n",
    "\n",
    "Create a function that takes the database `conn` and `values` from the `build_values_list` function to insert a variant record. \n",
    "\n",
    "IMPORTANT: Function should return the id of the row inserted, which will be VariantId\n"
   ]
  },
  {
   "cell_type": "code",
   "execution_count": 23,
   "metadata": {
    "deletable": false,
    "nbgrader": {
     "cell_type": "code",
     "checksum": "e226af966d70250ffe5720197deb152e",
     "grade": false,
     "grade_id": "cell-72a446c435bc6eb5",
     "locked": false,
     "schema_version": 3,
     "solution": true,
     "task": false
    }
   },
   "outputs": [],
   "source": [
    "def insert_variant(conn, values):\n",
    "    \"\"\"\n",
    "    See description Part 8\n",
    "    \"\"\"\n",
    "    # YOUR CODE HERE\n",
    "    with conn :\n",
    "        cur = conn.cursor()\n",
    "        cur.execute('''SELECT VariantID FROM Variants;''')\n",
    "        ivalues = [len(cur.fetchall()) + 1]\n",
    "        ivalues.extend(values)\n",
    "        insertsql = 'INSERT INTO Variants VALUES (?, ?, ?, ?, ?, ?, ?, ?, ?, ?, ?, ?, ?, ?, ?, ?, ?, ?, ?, ?, ?)'\n",
    "        cur = conn.cursor()\n",
    "        cur.execute(insertsql,ivalues)\n",
    "        c = cur.lastrowid\n",
    "    return c\n",
    "#     raise NotImplementedError()"
   ]
  },
  {
   "cell_type": "code",
   "execution_count": 24,
   "metadata": {},
   "outputs": [],
   "source": [
    "# db_file = 'lab2.db'\n",
    "# conn = create_connection(db_file)\n",
    "# insert_variant(conn,results)\n",
    "# with conn :\n",
    "#     a = '''SELECT * FROM Variants;'''\n",
    "#     cur = conn.cursor()\n",
    "#     cur.execute(a)\n",
    "#     rows = cur.fetchall()\n",
    "#     for row in rows:\n",
    "#         print(row)  "
   ]
  },
  {
   "cell_type": "markdown",
   "metadata": {
    "deletable": false,
    "editable": false,
    "nbgrader": {
     "cell_type": "markdown",
     "checksum": "c7535737ef8cea0c4b306bece88f78f5",
     "grade": false,
     "grade_id": "cell-3c360e7adb54ac73",
     "locked": true,
     "schema_version": 3,
     "solution": false,
     "task": false
    }
   },
   "source": [
    "# Part 9 (No Points)\n",
    "\n",
    "Create a function that takes the database `conn` and `values` which is the tuple `(VariantId, PredictorName, PredictorValue)` Where `VariantId` will be the return value from the `insert_variant` function,  `PredictorName` is the name of the predictor, and `PredictorValue` is the mapping of the text value to a numeric value. \n"
   ]
  },
  {
   "cell_type": "code",
   "execution_count": 25,
   "metadata": {
    "deletable": false,
    "nbgrader": {
     "cell_type": "code",
     "checksum": "d54b688e19c0ffecfbd0642fcf900b18",
     "grade": false,
     "grade_id": "cell-6d17ca28ee066a3b",
     "locked": false,
     "schema_version": 3,
     "solution": true,
     "task": false
    }
   },
   "outputs": [],
   "source": [
    "def insert_predictionstat(conn, values):\n",
    "    \"\"\"\n",
    "    See description in part 9\n",
    "    \"\"\"\n",
    "    # YOUR CODE HERE\n",
    "    with conn :\n",
    "        cur = conn.cursor()\n",
    "        cur.execute('''SELECT VariantID FROM PredictionStats;''')\n",
    "        ivalues = [len(cur.fetchall()) + 1]\n",
    "        ivalues.extend(values)\n",
    "        insertsql = 'INSERT INTO PredictionStats VALUES (?, ?, ?, ?)'\n",
    "        cur = conn.cursor()\n",
    "        cur.execute(insertsql,ivalues)\n",
    "    \n",
    "#     raise NotImplementedError()\n"
   ]
  },
  {
   "cell_type": "markdown",
   "metadata": {
    "deletable": false,
    "editable": false,
    "nbgrader": {
     "cell_type": "markdown",
     "checksum": "ff5474de7b650cbb71238dc0bdee24a7",
     "grade": false,
     "grade_id": "cell-beb6aaa454ebf4e9",
     "locked": true,
     "schema_version": 3,
     "solution": false,
     "task": false
    }
   },
   "source": [
    "# Part 10 (No Points)\n",
    "\n",
    "Write a function to insert records into both the variants and predictor_stats table. \n",
    "Hint:\n",
    "1) Open connection to database  \n",
    "2) Read file one line at a time using gzip read\n",
    "3) Extract CHROM, POS, ID, REF, ALT, QUAL, FILTER, INFO\n",
    "4) Use the pull_info_values function\n",
    "5) Use build_values_list \n",
    "6) Use insert_variant -- save variant_id\n",
    "7) Use insert_predictionstat -- insert each predictor at a time and remember to use `prediction_mapping` mapping. \n",
    "\n",
    "\n",
    "\n",
    "\n",
    "```\n",
    "\n",
    "prediction_mapping = {\n",
    "    'FATHMM_pred': {'T': 0, 'D': 1},\n",
    "    'MetaLR_pred': {'T': 0, 'D': 1},\n",
    "    'MetaSVM_pred': {'T': 0, 'D': 1},\n",
    "    'SIFT_pred': {'T': 0, 'D': 1},\n",
    "    'fathmm_MKL_coding_pred': {'D': 1, 'N': 0},\n",
    "    'LRT_pred': {'U': 0, 'N': 0, 'D': 1},\n",
    "    'MutationAssessor_pred': {'H': 1, 'N': 0, 'L': 0.25, 'M': 0.5},  \n",
    "    'MutationTaster_pred': {'D': 1, 'P': 0, 'N': 0, 'A': 1},\n",
    "    'PROVEAN_pred': {'D': 1, 'N': 0},\n",
    "    'Polyphen2_HDIV_pred': {'D': 1, 'B': 0, 'P': 0.5},\n",
    "    'Polyphen2_HVAR_pred': {'D': 1, 'B': 0, 'P': 0.5},\n",
    "}\n",
    "\n",
    "\n",
    "```\n"
   ]
  },
  {
   "cell_type": "code",
   "execution_count": 26,
   "metadata": {
    "deletable": false,
    "nbgrader": {
     "cell_type": "code",
     "checksum": "7c47c65c4488c8d6f4c76b6e577386c0",
     "grade": false,
     "grade_id": "cell-09175a401cb7fde3",
     "locked": false,
     "schema_version": 3,
     "solution": true,
     "task": false
    }
   },
   "outputs": [],
   "source": [
    "prediction_mapping = {\n",
    "    'FATHMM_pred': {'T': 0, 'D': 1},\n",
    "    'MetaLR_pred': {'T': 0, 'D': 1},\n",
    "    'MetaSVM_pred': {'T': 0, 'D': 1},\n",
    "    'SIFT_pred': {'T': 0, 'D': 1},\n",
    "    'fathmm_MKL_coding_pred': {'D': 1, 'N': 0},\n",
    "    'LRT_pred': {'U': 0, 'N': 0, 'D': 1},\n",
    "    'MutationAssessor_pred': {'H': 1, 'N': 0, 'L': 0.25, 'M': 0.5},  \n",
    "    'MutationTaster_pred': {'D': 1, 'P': 0, 'N': 0, 'A': 1},\n",
    "    'PROVEAN_pred': {'D': 1, 'N': 0},\n",
    "    'Polyphen2_HDIV_pred': {'D': 1, 'B': 0, 'P': 0.5},\n",
    "    'Polyphen2_HVAR_pred': {'D': 1, 'B': 0, 'P': 0.5},\n",
    "}\n",
    "\n",
    "\n",
    "def populate_variants_predictorstats_tables(db_file, filename):\n",
    "    \"\"\"\n",
    "    See description in part 10\n",
    "    \"\"\"\n",
    "    # YOUR CODE HERE\n",
    "    conn = create_connection(db_file)\n",
    "    with gzip.open(filename,'rt') as fp :\n",
    "        header=[]\n",
    "        line=[]\n",
    "        for l in fp:\n",
    "            if l.startswith('##'):\n",
    "                continue # lines starting with double hash are skipped\n",
    "            else:\n",
    "                if l.startswith('#'):\n",
    "                    header.append(l.strip()[1:])\n",
    "                else:\n",
    "                    line.append(l.strip())   \n",
    "        extract_list = ['CHROM','POS','ID','REF','ALT','QUAL','FILTER','INFO']\n",
    "        list_variant_dict=[]\n",
    "        for i in line:\n",
    "            dic = dict(zip(header[0].split(\"\\t\"), i.split(\"\\t\")))\n",
    "            list_variant_dict.append(dic)\n",
    "        for j in list_variant_dict:\n",
    "            dic_info_values = pull_info_values(j['INFO'])\n",
    "            build_values = build_values_list(j['CHROM'],j['POS'],j['ID'],j['REF'],j['ALT'],j['QUAL'],j['FILTER'],dic_info_values)\n",
    "            variantid = insert_variant(conn,build_values)\n",
    "            for k,v in dic_info_values.items() :\n",
    "                if k in prediction_mapping.keys():\n",
    "                    if v in prediction_mapping[k].keys():\n",
    "                        values = (variantid,k,prediction_mapping[k][v])\n",
    "                        insert_predictionstat(conn, values)\n",
    "            \n",
    "    \n",
    "    \n",
    "#     raise NotImplementedError()\n",
    "try:\n",
    "    conn.close()\n",
    "except:\n",
    "    pass\n",
    "\n",
    "db_file = 'lab2.db'\n",
    "filename = 'test_4families_annovar.vcf.gz'\n",
    "populate_variants_predictorstats_tables(db_file, filename)"
   ]
  },
  {
   "cell_type": "markdown",
   "metadata": {
    "deletable": false,
    "editable": false,
    "nbgrader": {
     "cell_type": "markdown",
     "checksum": "080cfb7285cf1838e0d0fb2262e0e42e",
     "grade": false,
     "grade_id": "cell-07b168b75e9dc969",
     "locked": true,
     "schema_version": 3,
     "solution": false,
     "task": false
    }
   },
   "source": [
    "# Part 11 (10 Points)\n",
    "\n",
    "Write a function that returns the total number of variants\n",
    "\n"
   ]
  },
  {
   "cell_type": "code",
   "execution_count": 61,
   "metadata": {
    "deletable": false,
    "nbgrader": {
     "cell_type": "code",
     "checksum": "d7c6644f9602c3a52f61a91a16d149ad",
     "grade": false,
     "grade_id": "cell-1d18f5ef024c5d12",
     "locked": false,
     "schema_version": 3,
     "solution": true,
     "task": false
    }
   },
   "outputs": [],
   "source": [
    "def num_of_total_variants(conn):\n",
    "    # YOUR CODE HERE\n",
    "    with conn:\n",
    "        cur = conn.cursor()\n",
    "        cur.execute('''SELECT VariantID FROM Variants;''')\n",
    "        count = len(cur.fetchall())\n",
    "    return count\n",
    "#     raise NotImplementedError()\n"
   ]
  },
  {
   "cell_type": "code",
   "execution_count": 62,
   "metadata": {},
   "outputs": [
    {
     "ename": "ProgrammingError",
     "evalue": "Cannot operate on a closed database.",
     "output_type": "error",
     "traceback": [
      "\u001b[0;31m---------------------------------------------------------------------------\u001b[0m",
      "\u001b[0;31mProgrammingError\u001b[0m                          Traceback (most recent call last)",
      "\u001b[0;32m<ipython-input-62-94ec75c196d9>\u001b[0m in \u001b[0;36m<module>\u001b[0;34m\u001b[0m\n\u001b[1;32m      1\u001b[0m \u001b[0ma\u001b[0m \u001b[0;34m=\u001b[0m \u001b[0;34m'select * from Variants limit 3;'\u001b[0m\u001b[0;34m\u001b[0m\u001b[0;34m\u001b[0m\u001b[0m\n\u001b[0;32m----> 2\u001b[0;31m \u001b[0mcur\u001b[0m \u001b[0;34m=\u001b[0m \u001b[0mconn\u001b[0m\u001b[0;34m.\u001b[0m\u001b[0mcursor\u001b[0m\u001b[0;34m(\u001b[0m\u001b[0;34m)\u001b[0m\u001b[0;34m\u001b[0m\u001b[0;34m\u001b[0m\u001b[0m\n\u001b[0m\u001b[1;32m      3\u001b[0m \u001b[0mcur\u001b[0m\u001b[0;34m.\u001b[0m\u001b[0mexecute\u001b[0m\u001b[0;34m(\u001b[0m\u001b[0ma\u001b[0m\u001b[0;34m)\u001b[0m\u001b[0;34m\u001b[0m\u001b[0;34m\u001b[0m\u001b[0m\n\u001b[1;32m      4\u001b[0m \u001b[0md\u001b[0m \u001b[0;34m=\u001b[0m \u001b[0mcur\u001b[0m\u001b[0;34m.\u001b[0m\u001b[0mfetchall\u001b[0m\u001b[0;34m(\u001b[0m\u001b[0;34m)\u001b[0m\u001b[0;34m\u001b[0m\u001b[0;34m\u001b[0m\u001b[0m\n\u001b[1;32m      5\u001b[0m \u001b[0;32mfor\u001b[0m \u001b[0me\u001b[0m \u001b[0;32min\u001b[0m \u001b[0md\u001b[0m\u001b[0;34m:\u001b[0m\u001b[0;34m\u001b[0m\u001b[0;34m\u001b[0m\u001b[0m\n",
      "\u001b[0;31mProgrammingError\u001b[0m: Cannot operate on a closed database."
     ]
    }
   ],
   "source": [
    "# a = 'select * from Variants limit 3;'\n",
    "# cur = conn.cursor()\n",
    "# cur.execute(a)\n",
    "# d = cur.fetchall()\n",
    "# for e in d:\n",
    "#     print(e)"
   ]
  },
  {
   "cell_type": "code",
   "execution_count": 63,
   "metadata": {
    "deletable": false,
    "editable": false,
    "nbgrader": {
     "cell_type": "code",
     "checksum": "e0620bed125f1503a864aa02388e1f82",
     "grade": true,
     "grade_id": "cell-880f6f16bf3fe3e3",
     "locked": true,
     "points": 10,
     "schema_version": 3,
     "solution": false,
     "task": false
    }
   },
   "outputs": [],
   "source": [
    "db_file = 'lab2.db'\n",
    "conn = create_connection(db_file)\n",
    "assert num_of_total_variants(conn) == 50001\n",
    "conn.close()"
   ]
  },
  {
   "cell_type": "markdown",
   "metadata": {
    "deletable": false,
    "editable": false,
    "nbgrader": {
     "cell_type": "markdown",
     "checksum": "869c5ab8d3a5f454ea093610ec290c8f",
     "grade": false,
     "grade_id": "cell-014a6a5fbd32d466",
     "locked": true,
     "schema_version": 3,
     "solution": false,
     "task": false
    }
   },
   "source": [
    "# Part 12 (10 Points)\n",
    "Write a function returns the total number of variant predictions -- the count of the predictiostats table. "
   ]
  },
  {
   "cell_type": "code",
   "execution_count": 64,
   "metadata": {
    "deletable": false,
    "nbgrader": {
     "cell_type": "code",
     "checksum": "7429092cc88f97347b136821086f9799",
     "grade": false,
     "grade_id": "cell-375db6c511630ece",
     "locked": false,
     "schema_version": 3,
     "solution": true,
     "task": false
    }
   },
   "outputs": [],
   "source": [
    "def num_of_total_variant_predictions(conn):\n",
    "    \"\"\"\n",
    "    Part 12\n",
    "    \"\"\"\n",
    "    # YOUR CODE HERE\n",
    "    with conn:\n",
    "        cur = conn.cursor()\n",
    "        cur.execute('''SELECT PredictorStatsID FROM PredictionStats;''')\n",
    "        count = len(cur.fetchall())\n",
    "    return count\n",
    "#     raise NotImplementedError()\n",
    "\n"
   ]
  },
  {
   "cell_type": "code",
   "execution_count": 65,
   "metadata": {
    "deletable": false,
    "editable": false,
    "nbgrader": {
     "cell_type": "code",
     "checksum": "3fd4a49acab13980a3a88d7a38bc4460",
     "grade": true,
     "grade_id": "cell-4a9db4195a7202c1",
     "locked": true,
     "points": 10,
     "schema_version": 3,
     "solution": false,
     "task": false
    }
   },
   "outputs": [],
   "source": [
    "db_file = 'lab2.db'\n",
    "conn = create_connection(db_file)\n",
    "assert num_of_total_variant_predictions(conn) == 1324\n",
    "conn.close()"
   ]
  },
  {
   "cell_type": "code",
   "execution_count": 66,
   "metadata": {},
   "outputs": [
    {
     "name": "stdout",
     "output_type": "stream",
     "text": [
      "(1, 614, 'SIFT_pred', 1.0)\n",
      "(2, 614, 'Polyphen2_HDIV_pred', 1.0)\n",
      "(3, 614, 'Polyphen2_HVAR_pred', 1.0)\n"
     ]
    }
   ],
   "source": [
    "# db_file = 'lab2.db'\n",
    "# conn = create_connection(db_file)\n",
    "# a = 'select * from PredictionStats limit 3;'\n",
    "# cur = conn.cursor()\n",
    "# cur.execute(a)\n",
    "# d = cur.fetchall()\n",
    "# for e in d:\n",
    "#     print(e)"
   ]
  },
  {
   "cell_type": "markdown",
   "metadata": {
    "deletable": false,
    "editable": false,
    "nbgrader": {
     "cell_type": "markdown",
     "checksum": "ccfbd666071479a3e22ab6ea2000fe53",
     "grade": false,
     "grade_id": "cell-7eb7e0e33e847c55",
     "locked": true,
     "schema_version": 3,
     "solution": false,
     "task": false
    }
   },
   "source": [
    "# Part 13 (10 Points)\n",
    "Return the total number of variant predictions that have value greater than zero. Number of values from the predictionstats table that are greater than 0. "
   ]
  },
  {
   "cell_type": "code",
   "execution_count": 2,
   "metadata": {
    "deletable": false,
    "nbgrader": {
     "cell_type": "code",
     "checksum": "622fff446baff1967ab305668d243e41",
     "grade": false,
     "grade_id": "cell-d511bb5062a366a8",
     "locked": false,
     "schema_version": 3,
     "solution": true,
     "task": false
    }
   },
   "outputs": [],
   "source": [
    "def num_of_total_variant_predictions_with_value_gt_zero(conn):\n",
    "    \"\"\"\n",
    "    See part 13 description\n",
    "    \"\"\"\n",
    "    # YOUR CODE HERE\n",
    "    with conn:\n",
    "        cur = conn.cursor()\n",
    "        cur.execute('''SELECT PredictorStatsID FROM PredictionStats WHERE PredictorValue > 0;''')\n",
    "        count = len(cur.fetchall())\n",
    "    return count\n",
    "    \n",
    "#     raise NotImplementedError()\n",
    "\n"
   ]
  },
  {
   "cell_type": "code",
   "execution_count": 3,
   "metadata": {
    "deletable": false,
    "editable": false,
    "nbgrader": {
     "cell_type": "code",
     "checksum": "af597d6d881e8d170a19031097f15d28",
     "grade": true,
     "grade_id": "cell-9f84bca2161e571b",
     "locked": true,
     "points": 10,
     "schema_version": 3,
     "solution": false,
     "task": false
    }
   },
   "outputs": [
    {
     "ename": "NameError",
     "evalue": "name 'create_connection' is not defined",
     "output_type": "error",
     "traceback": [
      "\u001b[0;31m---------------------------------------------------------------------------\u001b[0m",
      "\u001b[0;31mNameError\u001b[0m                                 Traceback (most recent call last)",
      "\u001b[0;32m<ipython-input-3-9b8d9a6d5568>\u001b[0m in \u001b[0;36m<module>\u001b[0;34m\u001b[0m\n\u001b[1;32m      1\u001b[0m \u001b[0mdb_file\u001b[0m \u001b[0;34m=\u001b[0m \u001b[0;34m'lab2.db'\u001b[0m\u001b[0;34m\u001b[0m\u001b[0;34m\u001b[0m\u001b[0m\n\u001b[0;32m----> 2\u001b[0;31m \u001b[0mconn\u001b[0m \u001b[0;34m=\u001b[0m \u001b[0mcreate_connection\u001b[0m\u001b[0;34m(\u001b[0m\u001b[0mdb_file\u001b[0m\u001b[0;34m)\u001b[0m\u001b[0;34m\u001b[0m\u001b[0;34m\u001b[0m\u001b[0m\n\u001b[0m\u001b[1;32m      3\u001b[0m \u001b[0;32massert\u001b[0m \u001b[0mnum_of_total_variant_predictions_with_value_gt_zero\u001b[0m\u001b[0;34m(\u001b[0m\u001b[0mconn\u001b[0m\u001b[0;34m)\u001b[0m \u001b[0;34m==\u001b[0m \u001b[0;36m219\u001b[0m\u001b[0;34m\u001b[0m\u001b[0;34m\u001b[0m\u001b[0m\n\u001b[1;32m      4\u001b[0m \u001b[0mconn\u001b[0m\u001b[0;34m.\u001b[0m\u001b[0mclose\u001b[0m\u001b[0;34m(\u001b[0m\u001b[0;34m)\u001b[0m\u001b[0;34m\u001b[0m\u001b[0;34m\u001b[0m\u001b[0m\n",
      "\u001b[0;31mNameError\u001b[0m: name 'create_connection' is not defined"
     ]
    }
   ],
   "source": [
    "db_file = 'lab2.db'\n",
    "conn = create_connection(db_file)\n",
    "assert num_of_total_variant_predictions_with_value_gt_zero(conn) == 219\n",
    "conn.close()"
   ]
  },
  {
   "cell_type": "markdown",
   "metadata": {
    "deletable": false,
    "editable": false,
    "nbgrader": {
     "cell_type": "markdown",
     "checksum": "cd1ef4605927b7d3c5fce2b39e2c9073",
     "grade": false,
     "grade_id": "cell-075254108290e0a9",
     "locked": true,
     "schema_version": 3,
     "solution": false,
     "task": false
    }
   },
   "source": [
    "# Part 14 (10 Points)\n",
    "\n",
    "Write a function that given `CHROM, POS, ID, REF, ALT` returns a variant's info with the following columns (column order is important) :\n",
    "```\n",
    "Variants.CHROM,\n",
    "Variants.POS,\n",
    "Variants.ID,\n",
    "Variants.REF,\n",
    "Variants.ALT,\n",
    "Variants.QUAL,\n",
    "Variants.FILTER,\n",
    "Variants.thousandg2015aug_all,\n",
    "Variants.ExAC_ALL,\n",
    "FATHMM_pred.prediction,\n",
    "LRT_pred.prediction,\n",
    "MetaLR_pred.prediction,\n",
    "MetaSVM_pred.prediction,\n",
    "MutationAssessor_pred.prediction,\n",
    "MutationTaster_pred.prediction,\n",
    "PROVEAN_pred.prediction,\n",
    "Polyphen2_HDIV_pred.prediction,\n",
    "Polyphen2_HVAR_pred.prediction,\n",
    "SIFT_pred.prediction,\n",
    "fathmm_MKL_coding_pred.prediction,\n",
    "sum(PredictionStats.PredictorValue)\n",
    "```\n",
    "\n",
    "For the predictions, return the actual text value. And the last column is the sum of all the mapped prediction scores for a given variant!\n",
    "\n"
   ]
  },
  {
   "cell_type": "code",
   "execution_count": 27,
   "metadata": {
    "deletable": false,
    "nbgrader": {
     "cell_type": "code",
     "checksum": "343581499fff2c4c58e23631e8119a74",
     "grade": false,
     "grade_id": "cell-e0384800793c5ef7",
     "locked": false,
     "schema_version": 3,
     "solution": true,
     "task": false
    }
   },
   "outputs": [],
   "source": [
    "def fetch_variant(conn, CHROM, POS, ID, REF, ALT):\n",
    "    \"\"\"\n",
    "    See Part 14 description\n",
    "    \"\"\"\n",
    "    # YOUR CODE HERE\n",
    "    with conn:\n",
    "        cur = conn.cursor()\n",
    "        cur.execute('select Variants.CHROM,Variants.POS,Variants.ID,Variants.REF,Variants.ALT,Variants.QUAL,Variants.FILTER,Variants.thousandg2015aug_all,Variants.ExAC_ALL,FATHMM_pred.prediction,LRT_pred.prediction,MetaLR_pred.prediction,MetaSVM_pred.prediction,MutationAssessor_pred.prediction,MutationTaster_pred.prediction,PROVEAN_pred.prediction,Polyphen2_HDIV_pred.prediction,Polyphen2_HVAR_pred.prediction,SIFT_pred.prediction,fathmm_MKL_coding_pred.prediction,sum(PredictionStats.PredictorValue) from Variants LEFT JOIN FATHMM_pred USING(FATHMM_predID) LEFT JOIN LRT_pred USING(LRT_predID) LEFT JOIN MetaLR_pred USING(MetaLR_predID) LEFT JOIN MetaSVM_pred USING(MetaSVM_predID) LEFT JOIN MutationAssessor_pred USING(MutationAssessor_predID) LEFT JOIN MutationTaster_pred USING(MutationTaster_predID) LEFT JOIN PROVEAN_pred USING(PROVEAN_predID) LEFT JOIN Polyphen2_HDIV_pred USING(Polyphen2_HDIV_predID) LEFT JOIN Polyphen2_HVAR_pred USING(Polyphen2_HVAR_predID) LEFT JOIN SIFT_pred USING(SIFT_predID) LEFT JOIN fathmm_MKL_coding_pred USING(fathmm_MKL_coding_predID) LEFT JOIN PredictionStats USING(VariantID) where Variants.CHROM = ?  and Variants.POS = ? and Variants.ID = ? and Variants.REF = ? and Variants.ALT = ? GROUP BY PredictionStats.VariantID ;' , (CHROM, POS,ID, REF, ALT,))\n",
    "        row = cur.fetchall()\n",
    "        return row[0]\n",
    "    \n",
    "    \n",
    "    \n",
    "    \n",
    "    \n",
    "#     raise NotImplementedError()\n",
    "    "
   ]
  },
  {
   "cell_type": "code",
   "execution_count": 28,
   "metadata": {},
   "outputs": [
    {
     "name": "stdout",
     "output_type": "stream",
     "text": [
      "('5', 155935708, 'rs45559835', 'G', 'A', 1577.12, 'PASS', 0.0189696, 0.0451, 'D', 'D', 'T', 'T', 'L', 'D', 'D', 'P', 'B', 'T', 'D', 5.75)\n",
      "5 155935708 rs45559835 G A 1577.12 PASS 0.0189696 0.0451 D D T T L D D P B T D 5.75\n"
     ]
    }
   ],
   "source": [
    "# db_file = 'lab2.db'\n",
    "# conn = create_connection(db_file)\n",
    "# print(fetch_variant(conn, '5', 155935708, 'rs45559835', 'G', 'A'))\n",
    "\n",
    "# print('5', 155935708, 'rs45559835', 'G', 'A', 1577.12, 'PASS', 0.0189696, 0.0451, 'D', 'D', 'T', 'T', 'L', 'D', 'D', 'P', 'B', 'T', 'D', 5.75)"
   ]
  },
  {
   "cell_type": "code",
   "execution_count": 29,
   "metadata": {
    "deletable": false,
    "editable": false,
    "nbgrader": {
     "cell_type": "code",
     "checksum": "e0e5210cf6b040adebcedfbc67c6c12e",
     "grade": true,
     "grade_id": "cell-42ef13abc31ede02",
     "locked": true,
     "points": 10,
     "schema_version": 3,
     "solution": false,
     "task": false
    }
   },
   "outputs": [],
   "source": [
    "db_file = 'lab2.db'\n",
    "conn = create_connection(db_file)\n",
    "assert fetch_variant(conn, '22', 25599849, 'rs17670506', 'G', 'A') == ('22', 25599849, 'rs17670506', 'G', 'A', 3124.91, 'PASS', 0.0251597, 0.0425, 'D', 'D', 'T', 'T', 'M', 'D', 'D', 'D', 'D', 'D', 'D', 8.5)\n",
    "conn.close()"
   ]
  },
  {
   "cell_type": "code",
   "execution_count": 30,
   "metadata": {
    "deletable": false,
    "editable": false,
    "nbgrader": {
     "cell_type": "code",
     "checksum": "eb9ca12ea887f3a91c1fb05680fb12e9",
     "grade": true,
     "grade_id": "cell-5fd3bc522d861215",
     "locked": true,
     "points": 10,
     "schema_version": 3,
     "solution": false,
     "task": false
    }
   },
   "outputs": [],
   "source": [
    "db_file = 'lab2.db'\n",
    "conn = create_connection(db_file)\n",
    "assert fetch_variant(conn, 'X', 2836184, 'rs73632976', 'C', 'T') == ('X', 2836184, 'rs73632976', 'C', 'T', 1892.12, 'PASS', None, 0.0427, 'D', 'U', 'D', 'T', 'M', 'P', 'D', 'P', 'P', 'D', 'D', 6.5)\n",
    "conn.close()"
   ]
  },
  {
   "cell_type": "code",
   "execution_count": 31,
   "metadata": {
    "deletable": false,
    "editable": false,
    "nbgrader": {
     "cell_type": "code",
     "checksum": "999f2d60e36e7d4deae9ade0de137adb",
     "grade": true,
     "grade_id": "cell-e3f85c8b7beab623",
     "locked": true,
     "points": 10,
     "schema_version": 3,
     "solution": false,
     "task": false
    }
   },
   "outputs": [],
   "source": [
    "db_file = 'lab2.db'\n",
    "conn = create_connection(db_file)\n",
    "assert fetch_variant(conn, '5', 155935708, 'rs45559835', 'G', 'A') == ('5', 155935708, 'rs45559835', 'G', 'A', 1577.12, 'PASS', 0.0189696, 0.0451, 'D', 'D', 'T', 'T', 'L', 'D', 'D', 'P', 'B', 'T', 'D', 5.75)\n",
    "conn.close()"
   ]
  },
  {
   "cell_type": "code",
   "execution_count": 32,
   "metadata": {
    "deletable": false,
    "editable": false,
    "nbgrader": {
     "cell_type": "code",
     "checksum": "b6657c6306c075c0598f140f966d70d2",
     "grade": true,
     "grade_id": "cell-500f892df9ffe02f",
     "locked": true,
     "points": 10,
     "schema_version": 3,
     "solution": false,
     "task": false
    }
   },
   "outputs": [],
   "source": [
    "db_file = 'lab2.db'\n",
    "conn = create_connection(db_file)\n",
    "assert fetch_variant(conn, '4', 123416186, '.', 'A', 'G') == ('4', 123416186, '.', 'A', 'G', 23.25, 'PASS', None, None, None, None, None, None, None, None, None, None, None, None, None, None)\n",
    "conn.close()"
   ]
  },
  {
   "cell_type": "code",
   "execution_count": 33,
   "metadata": {},
   "outputs": [],
   "source": [
    "# db_file = 'lab2.db'\n",
    "# conn = create_connection(db_file)\n",
    "# cur = conn.cursor()\n",
    "# a = 'Variants'\n",
    "# cur.execute('PRAGMA TABLE_INFO({})'.format(a))\n",
    "# table_schema = cur.fetchall()\n",
    "# column_names = [tup[1] for tup in table_schema]\n",
    "# column_type = [tup[2] for tup in table_schema]\n",
    "# dic= dict(zip(column_names,column_type))\n",
    "# print(dic)\n",
    "# conn = create_connection(db_file)\n",
    "# cur = conn.cursor()\n",
    "# b = 'rs17670506'\n",
    "# o = 'G'\n",
    "# cur.execute(\"SELECT * FROM Variants where ID = ? and REF = ? limit 2;\",(b,o,))\n",
    "# oi = cur.fetchall()\n",
    "# for i in oi :\n",
    "#     print(i)\n",
    "# conn.close()"
   ]
  },
  {
   "cell_type": "code",
   "execution_count": 34,
   "metadata": {},
   "outputs": [],
   "source": [
    "# db_file = 'lab2.db'\n",
    "# conn = create_connection(db_file)\n",
    "# print(fetch_variant(conn, '22', 25599849, 'rs17670506', 'G', 'A'))"
   ]
  },
  {
   "cell_type": "code",
   "execution_count": 35,
   "metadata": {},
   "outputs": [],
   "source": [
    "# db_file = 'lab2.db'\n",
    "# conn = create_connection(db_file)\n",
    "# CHROM, POS,ID, REF, ALT = (22, 25599849,'rs17670506', 'G', 'A')\n",
    "# G = 'G'\n",
    "# A = 'A'\n",
    "# # a = 'select * from Variants  WHERE Variants.CHROM = {c} and Variants.POS = {p} and Variants.ID = {i} and \\\n",
    "# #         Variants.REF = {r} and Variants.ALT = {a} GROUP BY PredictionStats.VariantID\".format(c=CHROM, p=POS,i=ID,r=REF ,a=ALT) ;'\n",
    "# cur = conn.cursor()\n",
    "# # cur.execute('select * from Variants  WHERE Variants.CHROM = {c} and Variants.POS = {p} and Variants.ID = {i} and \\\n",
    "# #         Variants.REF = {r} and Variants.ALT = {a} GROUP BY PredictionStats.VariantID\".format(c=CHROM, p=POS,i=ID,r=REF ,a=ALT) ;')\n",
    "# cur.execute('select Variants.CHROM,Variants.POS,Variants.ID,Variants.REF,Variants.ALT,Variants.QUAL,Variants.FILTER,Variants.thousandg2015aug_all,Variants.ExAC_ALL,FATHMM_pred.prediction,LRT_pred.prediction,MetaLR_pred.prediction,MetaSVM_pred.prediction,MutationAssessor_pred.prediction,MutationTaster_pred.prediction,PROVEAN_pred.prediction,Polyphen2_HDIV_pred.prediction,Polyphen2_HVAR_pred.prediction,SIFT_pred.prediction,fathmm_MKL_coding_pred.prediction,sum(PredictionStats.PredictorValue) from Variants LEFT JOIN FATHMM_pred USING(FATHMM_predID) LEFT JOIN LRT_pred USING(LRT_predID) LEFT JOIN MetaLR_pred USING(MetaLR_predID) LEFT JOIN MetaSVM_pred USING(MetaSVM_predID) LEFT JOIN MutationAssessor_pred USING(MutationAssessor_predID) LEFT JOIN MutationTaster_pred USING(MutationTaster_predID) LEFT JOIN PROVEAN_pred USING(PROVEAN_predID) LEFT JOIN Polyphen2_HDIV_pred USING(Polyphen2_HDIV_predID) LEFT JOIN Polyphen2_HVAR_pred USING(Polyphen2_HVAR_predID) LEFT JOIN SIFT_pred USING(SIFT_predID) LEFT JOIN fathmm_MKL_coding_pred USING(fathmm_MKL_coding_predID) LEFT JOIN PredictionStats USING(VariantID) where Variants.CHROM = ?  and Variants.POS = ? and Variants.ID = ? and Variants.REF = ? and Variants.ALT = ? GROUP BY PredictionStats.VariantID ;' , (CHROM, POS,ID, REF, ALT,))# WHERE Variants.CHROM = {CHROM} and Variants.POS ={POS} and Variants.REF ={REF} and Variants.ALT ={ALT} GROUP BY PredictionStats.VariantID;'.format(CHROM = CHROM, POS=POS, REF=REF, ALT=ALT))\n",
    "\n",
    "# d = cur.fetchall()\n",
    "# print(d)\n",
    "# for e in d:\n",
    "#     print(e)"
   ]
  },
  {
   "cell_type": "markdown",
   "metadata": {
    "deletable": false,
    "editable": false,
    "nbgrader": {
     "cell_type": "markdown",
     "checksum": "5b1550ea1c3ea3437d1633839f2a18a4",
     "grade": false,
     "grade_id": "cell-bcd262e0085a72c9",
     "locked": true,
     "schema_version": 3,
     "solution": false,
     "task": false
    }
   },
   "source": [
    "# Part 15 (10 Points)\n",
    "Write a function that returns the variant with the highest predictor score sum. \n",
    "\n",
    "Return the variant info the following order:\n",
    "```\n",
    "Variants.CHROM,\n",
    "Variants.POS,\n",
    "Variants.ID,\n",
    "Variants.REF,\n",
    "Variants.ALT,\n",
    "Variants.QUAL,\n",
    "Variants.FILTER,\n",
    "Variants.thousandg2015aug_all,\n",
    "Variants.ExAC_ALL,\n",
    "FATHMM_pred.prediction,\n",
    "LRT_pred.prediction,\n",
    "MetaLR_pred.prediction,\n",
    "MetaSVM_pred.prediction,\n",
    "MutationAssessor_pred.prediction,\n",
    "MutationTaster_pred.prediction,\n",
    "PROVEAN_pred.prediction,\n",
    "Polyphen2_HDIV_pred.prediction,\n",
    "Polyphen2_HVAR_pred.prediction,\n",
    "SIFT_pred.prediction,\n",
    "fathmm_MKL_coding_pred.prediction,\n",
    "sum(PredictionStats.PredictorValue)\n",
    "        \n",
    "```\n",
    "\n",
    "Again, return the predictor text values and the last column is the sum of the prediction values. "
   ]
  },
  {
   "cell_type": "code",
   "execution_count": 36,
   "metadata": {
    "collapsed": true,
    "deletable": false,
    "nbgrader": {
     "cell_type": "code",
     "checksum": "77b8b1a4255ee71cfed8e862b3192c1f",
     "grade": false,
     "grade_id": "cell-6b1c044f90162322",
     "locked": false,
     "schema_version": 3,
     "solution": true,
     "task": false
    }
   },
   "outputs": [],
   "source": [
    "def variant_with_highest_sum_of_predictor_value(conn):\n",
    "    \"\"\"\n",
    "    See part 15 description \n",
    "    \"\"\"\n",
    "    # YOUR CODE HERE\n",
    "    with conn:\n",
    "        cur = conn.cursor()\n",
    "        cur.execute('select Variants.CHROM,Variants.POS,Variants.ID,Variants.REF,Variants.ALT,Variants.QUAL,Variants.FILTER,Variants.thousandg2015aug_all,Variants.ExAC_ALL,FATHMM_pred.prediction,LRT_pred.prediction,MetaLR_pred.prediction,MetaSVM_pred.prediction,MutationAssessor_pred.prediction,MutationTaster_pred.prediction,PROVEAN_pred.prediction,Polyphen2_HDIV_pred.prediction,Polyphen2_HVAR_pred.prediction,SIFT_pred.prediction,fathmm_MKL_coding_pred.prediction,sum(PredictionStats.PredictorValue) from Variants LEFT JOIN FATHMM_pred USING(FATHMM_predID) LEFT JOIN LRT_pred USING(LRT_predID) LEFT JOIN MetaLR_pred USING(MetaLR_predID) LEFT JOIN MetaSVM_pred USING(MetaSVM_predID) LEFT JOIN MutationAssessor_pred USING(MutationAssessor_predID) LEFT JOIN MutationTaster_pred USING(MutationTaster_predID) LEFT JOIN PROVEAN_pred USING(PROVEAN_predID) LEFT JOIN Polyphen2_HDIV_pred USING(Polyphen2_HDIV_predID) LEFT JOIN Polyphen2_HVAR_pred USING(Polyphen2_HVAR_predID) LEFT JOIN SIFT_pred USING(SIFT_predID) LEFT JOIN fathmm_MKL_coding_pred USING(fathmm_MKL_coding_predID) LEFT JOIN PredictionStats USING(VariantID) GROUP BY PredictionStats.VariantID HAVING SUM(PredictionStats.PredictorValue) = (SELECT MAX(sum) FROM (SELECT SUM(PredictionStats.PredictorValue) as sum FROM Variants LEFT JOIN PredictionStats USING(VariantID) GROUP BY PredictionStats.VariantID));')\n",
    "        row = cur.fetchall()\n",
    "        return row[0]\n",
    " \n",
    "        \n",
    "#     raise NotImplementedError()\n",
    "\n"
   ]
  },
  {
   "cell_type": "code",
   "execution_count": 37,
   "metadata": {
    "deletable": false,
    "editable": false,
    "nbgrader": {
     "cell_type": "code",
     "checksum": "ca4c10b920229a189a27ef253dc3679c",
     "grade": true,
     "grade_id": "cell-9c7365267a16b42f",
     "locked": true,
     "points": 10,
     "schema_version": 3,
     "solution": false,
     "task": false
    }
   },
   "outputs": [],
   "source": [
    "db_file = 'lab2.db'\n",
    "conn = create_connection(db_file)\n",
    "assert variant_with_highest_sum_of_predictor_value(conn) == ('7', 87837848, '.', 'C', 'A', 418.25, 'PASS', None, None, 'T', 'D', 'D', 'D', 'H', 'D', 'D', 'D', 'D', 'D', 'D', 10.0)\n",
    "conn.close()"
   ]
  }
 ],
 "metadata": {
  "kernelspec": {
   "display_name": "Python 3",
   "language": "python",
   "name": "python3"
  },
  "language_info": {
   "codemirror_mode": {
    "name": "ipython",
    "version": 3
   },
   "file_extension": ".py",
   "mimetype": "text/x-python",
   "name": "python",
   "nbconvert_exporter": "python",
   "pygments_lexer": "ipython3",
   "version": "3.6.8"
  }
 },
 "nbformat": 4,
 "nbformat_minor": 2
}
