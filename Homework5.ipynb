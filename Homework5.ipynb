{
 "cells": [
  {
   "cell_type": "markdown",
   "metadata": {},
   "source": [
    "Before you turn this problem in, make sure everything runs as expected. First, **restart the kernel** (in the menubar, select Kernel$\\rightarrow$Restart) and then **run all cells** (in the menubar, select Cell$\\rightarrow$Run All).\n",
    "\n",
    "Make sure you fill in any place that says `YOUR CODE HERE` or \"YOUR ANSWER HERE\", as well as your name and collaborators below:"
   ]
  },
  {
   "cell_type": "code",
   "execution_count": 1,
   "metadata": {},
   "outputs": [],
   "source": [
    "NAME = \"Samratsinh Dhumal\"\n",
    "COLLABORATORS = \"\""
   ]
  },
  {
   "cell_type": "markdown",
   "metadata": {},
   "source": [
    "---"
   ]
  },
  {
   "cell_type": "markdown",
   "metadata": {
    "deletable": false,
    "editable": false,
    "nbgrader": {
     "cell_type": "markdown",
     "checksum": "04a6434c18916d5d237bb7e03d63b998",
     "grade": false,
     "grade_id": "cell-8dece108401d1a06",
     "locked": true,
     "schema_version": 3,
     "solution": false,
     "task": false
    }
   },
   "source": [
    "# Calculate over all grade\n",
    "\n",
    "The file `grades_anon.csv` contains grades for some class. In this homework you are to calculate the overall grade for each student then return the pandas describe matrix. \n",
    "\n",
    "The four homework combined account for 40% of the overall grades and lab1 counts for 30% of the overall grade. The remaining 30% of the grades have not yet been determined.\n",
    "\n",
    "I have given the solution. It is completely up to you to figure how to to parse the csv file to get the describe dataframe I am looking for.\n",
    "\n",
    "In the decribe matrix:\n",
    "The `hw_scaled` column is the stats associated with `sum(Homework[1:4])*0.25`\n",
    "\n",
    "The `overall` column is the stats associated with `hw_scaled*0.4 + LAB1*0.3`\n",
    "\n",
    "Each of the homework columns is the stats associated with `round(grade/max_score * 100)` for each homework. "
   ]
  },
  {
   "cell_type": "code",
   "execution_count": 2,
   "metadata": {
    "deletable": false,
    "editable": false,
    "nbgrader": {
     "cell_type": "code",
     "checksum": "5ff592971d6e46926d7a9d481072f7b9",
     "grade": false,
     "grade_id": "cell-1eb33046a8864090",
     "locked": true,
     "schema_version": 3,
     "solution": false,
     "task": false
    }
   },
   "outputs": [
    {
     "data": {
      "text/html": [
       "<div>\n",
       "<style scoped>\n",
       "    .dataframe tbody tr th:only-of-type {\n",
       "        vertical-align: middle;\n",
       "    }\n",
       "\n",
       "    .dataframe tbody tr th {\n",
       "        vertical-align: top;\n",
       "    }\n",
       "\n",
       "    .dataframe thead th {\n",
       "        text-align: right;\n",
       "    }\n",
       "</style>\n",
       "<table border=\"1\" class=\"dataframe\">\n",
       "  <thead>\n",
       "    <tr style=\"text-align: right;\">\n",
       "      <th></th>\n",
       "      <th>Homework1</th>\n",
       "      <th>Homework2</th>\n",
       "      <th>Homework3</th>\n",
       "      <th>Homework4</th>\n",
       "      <th>Lab1</th>\n",
       "      <th>hw_scaled</th>\n",
       "      <th>overall</th>\n",
       "    </tr>\n",
       "  </thead>\n",
       "  <tbody>\n",
       "    <tr>\n",
       "      <td>count</td>\n",
       "      <td>119.000000</td>\n",
       "      <td>119.000000</td>\n",
       "      <td>119.000000</td>\n",
       "      <td>119.000000</td>\n",
       "      <td>119.000000</td>\n",
       "      <td>119.000000</td>\n",
       "      <td>119.000000</td>\n",
       "    </tr>\n",
       "    <tr>\n",
       "      <td>mean</td>\n",
       "      <td>90.487395</td>\n",
       "      <td>95.563025</td>\n",
       "      <td>93.756303</td>\n",
       "      <td>85.436975</td>\n",
       "      <td>86.823529</td>\n",
       "      <td>91.310924</td>\n",
       "      <td>89.387755</td>\n",
       "    </tr>\n",
       "    <tr>\n",
       "      <td>std</td>\n",
       "      <td>16.909463</td>\n",
       "      <td>16.324900</td>\n",
       "      <td>21.680643</td>\n",
       "      <td>20.733841</td>\n",
       "      <td>26.711150</td>\n",
       "      <td>15.679725</td>\n",
       "      <td>18.881177</td>\n",
       "    </tr>\n",
       "    <tr>\n",
       "      <td>min</td>\n",
       "      <td>0.000000</td>\n",
       "      <td>0.000000</td>\n",
       "      <td>0.000000</td>\n",
       "      <td>0.000000</td>\n",
       "      <td>0.000000</td>\n",
       "      <td>0.000000</td>\n",
       "      <td>0.000000</td>\n",
       "    </tr>\n",
       "    <tr>\n",
       "      <td>25%</td>\n",
       "      <td>86.000000</td>\n",
       "      <td>100.000000</td>\n",
       "      <td>100.000000</td>\n",
       "      <td>85.000000</td>\n",
       "      <td>94.500000</td>\n",
       "      <td>93.125000</td>\n",
       "      <td>85.785714</td>\n",
       "    </tr>\n",
       "    <tr>\n",
       "      <td>50%</td>\n",
       "      <td>93.000000</td>\n",
       "      <td>100.000000</td>\n",
       "      <td>100.000000</td>\n",
       "      <td>91.000000</td>\n",
       "      <td>100.000000</td>\n",
       "      <td>96.000000</td>\n",
       "      <td>97.428571</td>\n",
       "    </tr>\n",
       "    <tr>\n",
       "      <td>75%</td>\n",
       "      <td>100.000000</td>\n",
       "      <td>100.000000</td>\n",
       "      <td>100.000000</td>\n",
       "      <td>98.000000</td>\n",
       "      <td>100.000000</td>\n",
       "      <td>97.750000</td>\n",
       "      <td>98.642857</td>\n",
       "    </tr>\n",
       "    <tr>\n",
       "      <td>max</td>\n",
       "      <td>100.000000</td>\n",
       "      <td>100.000000</td>\n",
       "      <td>100.000000</td>\n",
       "      <td>104.000000</td>\n",
       "      <td>100.000000</td>\n",
       "      <td>101.000000</td>\n",
       "      <td>100.571429</td>\n",
       "    </tr>\n",
       "  </tbody>\n",
       "</table>\n",
       "</div>"
      ],
      "text/plain": [
       "        Homework1   Homework2   Homework3   Homework4        Lab1   hw_scaled  \\\n",
       "count  119.000000  119.000000  119.000000  119.000000  119.000000  119.000000   \n",
       "mean    90.487395   95.563025   93.756303   85.436975   86.823529   91.310924   \n",
       "std     16.909463   16.324900   21.680643   20.733841   26.711150   15.679725   \n",
       "min      0.000000    0.000000    0.000000    0.000000    0.000000    0.000000   \n",
       "25%     86.000000  100.000000  100.000000   85.000000   94.500000   93.125000   \n",
       "50%     93.000000  100.000000  100.000000   91.000000  100.000000   96.000000   \n",
       "75%    100.000000  100.000000  100.000000   98.000000  100.000000   97.750000   \n",
       "max    100.000000  100.000000  100.000000  104.000000  100.000000  101.000000   \n",
       "\n",
       "          overall  \n",
       "count  119.000000  \n",
       "mean    89.387755  \n",
       "std     18.881177  \n",
       "min      0.000000  \n",
       "25%     85.785714  \n",
       "50%     97.428571  \n",
       "75%     98.642857  \n",
       "max    100.571429  "
      ]
     },
     "execution_count": 2,
     "metadata": {},
     "output_type": "execute_result"
    }
   ],
   "source": [
    "import pandas as pd\n",
    "# Part 1 (20 points)\n",
    "\"\"\"\n",
    "Return the describe frame from pandas that looks like this. Reverse engineer it!\n",
    "\n",
    "FYI, I could not use Pickle due to Jupyter limitation. \n",
    "\"\"\"\n",
    "expected_solution = pd.read_csv('grades_describe.csv')\n",
    "expected_solution = expected_solution.set_index('Unnamed: 0')\n",
    "del expected_solution.index.name\n",
    "\n",
    "expected_solution"
   ]
  },
  {
   "cell_type": "code",
   "execution_count": 3,
   "metadata": {
    "deletable": false,
    "nbgrader": {
     "cell_type": "code",
     "checksum": "a1a879a7246a52def0d74d3b262d9509",
     "grade": false,
     "grade_id": "cell-7815b5f6dbc327c8",
     "locked": false,
     "schema_version": 3,
     "solution": true,
     "task": false
    }
   },
   "outputs": [],
   "source": [
    "def calculate_grades_pandas_describe_frame():\n",
    "    \"\"\"\n",
    "    Return the describe data frame associated with the class grades. Use the grades_anon.csv.\n",
    "    \"\"\"\n",
    "    \n",
    "    # YOUR CODE HERE\n",
    "    grades_anon = pd.read_csv('grades_anon.csv')\n",
    "    grades_anon_new=grades_anon.pivot_table(index=\"student_id\", columns='assignment')['score']\n",
    "    grades_anon_new=grades_anon_new.reset_index()\n",
    "    hw_list=['Homework1','Homework2','Homework3','Homework4','Lab1']\n",
    "\n",
    "    for z in enumerate(hw_list): \n",
    "        hw_max=grades_anon_new[z[1]].max()\n",
    "        if(z[1]=='Homework4'):\n",
    "            grades_anon_new[z[1]]=round((grades_anon_new[z[1]]/hw_max)*104)\n",
    "        else:\n",
    "            grades_anon_new[z[1]]=round((grades_anon_new[z[1]]/hw_max)*100)\n",
    "    grades_anon_new['hw_scaled'] = 0.25*(grades_anon_new['Homework1']+grades_anon_new['Homework2']+grades_anon_new['Homework3']+grades_anon_new['Homework4'])\n",
    "    grades_anon_new['overall']= (grades_anon_new['hw_scaled']*(0.4/0.7) + grades_anon_new['Lab1']*(0.3/0.7))\n",
    "    return(grades_anon_new.describe())\n",
    "#grades_anon_new\n",
    "#    raise NotImplementedError()"
   ]
  },
  {
   "cell_type": "code",
   "execution_count": 7,
   "metadata": {
    "deletable": false,
    "editable": false,
    "nbgrader": {
     "cell_type": "code",
     "checksum": "592cd60ab8675f243f435a89ae2e1a23",
     "grade": true,
     "grade_id": "cell-235bae549389535c",
     "locked": true,
     "points": 20,
     "schema_version": 3,
     "solution": false,
     "task": false
    }
   },
   "outputs": [],
   "source": [
    "expected_solution = pd.read_csv('grades_describe.csv')\n",
    "expected_solution = expected_solution.set_index('Unnamed: 0')\n",
    "del expected_solution.index.name\n",
    "\n",
    "describe = calculate_grades_pandas_describe_frame()\n",
    "describe.to_csv('test.csv')\n",
    "solution = pd.read_csv('test.csv')\n",
    "solution = solution.set_index('Unnamed: 0')\n",
    "del solution.index.name\n",
    "assert pd.DataFrame.equals(expected_solution.round(), solution.round()) == True\n"
   ]
  },
  {
   "cell_type": "code",
   "execution_count": 6,
   "metadata": {
    "deletable": false,
    "nbgrader": {
     "cell_type": "code",
     "checksum": "a882ac3c2fc59a6c53841c64dcba293e",
     "grade": false,
     "grade_id": "cell-c9b367a658131eff",
     "locked": false,
     "schema_version": 3,
     "solution": true,
     "task": false
    }
   },
   "outputs": [
    {
     "data": {
      "text/plain": [
       "<matplotlib.axes._subplots.AxesSubplot at 0x7fdbd5376a90>"
      ]
     },
     "execution_count": 6,
     "metadata": {},
     "output_type": "execute_result"
    },
    {
     "data": {
      "image/png": "[encoded data removed]",
      "text/plain": [
       "<Figure size 432x288 with 1 Axes>"
      ]
     },
     "metadata": {
      "needs_background": "light"
     },
     "output_type": "display_data"
    }
   ],
   "source": [
    "# Part 2 (No points!) -- Plot histogram using Seaborn\n",
    "\n",
    "\n",
    "# YOUR CODE HERE\n",
    "import seaborn as sns\n",
    "import matplotlib.pyplot as plt\n",
    "grades_anon = pd.read_csv('grades_anon.csv')\n",
    "grades_anon_new=grades_anon.pivot_table(index=\"student_id\", columns='assignment')['score']\n",
    "grades_anon_new=grades_anon_new.reset_index()\n",
    "hw_list=['Homework1','Homework2','Homework3','Homework4','Lab1']\n",
    "\n",
    "for z in enumerate(hw_list): \n",
    "    hw_max=grades_anon_new[z[1]].max()\n",
    "    if(z[1]=='Homework4'):\n",
    "        grades_anon_new[z[1]]=round((grades_anon_new[z[1]]/hw_max)*104)\n",
    "    else:\n",
    "        grades_anon_new[z[1]]=round((grades_anon_new[z[1]]/hw_max)*100)\n",
    "    grades_anon_new['hw_scaled'] = 0.25*(grades_anon_new['Homework1']+grades_anon_new['Homework2']+grades_anon_new['Homework3']+grades_anon_new['Homework4'])\n",
    "    grades_anon_new['overall']= (grades_anon_new['hw_scaled']*(0.4/0.7) + grades_anon_new['Lab1']*(0.3/0.7))\n",
    "    \n",
    "sns.distplot(grades_anon_new['overall'], hist=True, kde=True, color = 'red', kde_kws={'shade': True,'linewidth': 2}, hist_kws={'edgecolor':'black'})\n",
    "\n",
    "\n",
    "#raise NotImplementedError()"
   ]
  }
 ],
 "metadata": {
  "kernelspec": {
   "display_name": "Python 3",
   "language": "python",
   "name": "python3"
  },
  "language_info": {
   "codemirror_mode": {
    "name": "ipython",
    "version": 3
   },
   "file_extension": ".py",
   "mimetype": "text/x-python",
   "name": "python",
   "nbconvert_exporter": "python",
   "pygments_lexer": "ipython3",
   "version": "3.7.3"
  }
 },
 "nbformat": 4,
 "nbformat_minor": 2
}
